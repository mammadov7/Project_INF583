{
 "cells": [
  {
   "cell_type": "code",
   "execution_count": 55,
   "metadata": {},
   "outputs": [],
   "source": [
    "import sys\n",
    "\n",
    "from pyspark import SparkContext\n",
    "from pyspark.sql import *\n",
    "from pyspark.sql.functions import lower, col, size, length\n",
    "from operator import add\n",
    "from pyspark.sql import SparkSession\n",
    "from pyspark.ml.feature import Tokenizer\n",
    "from pyspark.ml.feature import StopWordsRemover\n",
    "from pyspark.ml.feature import RegexTokenizer\n",
    "import pyspark.sql.functions as f\n",
    "import pandas as pd\n",
    "import numpy as np\n",
    "\n",
    "spark = SparkSession\\\n",
    "  .builder \\\n",
    "  .appName(\"Twitter_app\") \\\n",
    "  .getOrCreate()"
   ]
  },
  {
   "cell_type": "code",
   "execution_count": 2,
   "metadata": {},
   "outputs": [],
   "source": [
    "stopWords = [ 'rt', 'RT', 'it’s', 'don’t', 'can’t', 'I’m', 'able', 'about', 'above', 'abroad', 'according', 'accordingly', 'across', 'actually', 'adj', 'after', 'afterwards', 'again', 'against', 'ago', 'ahead', 'aint', 'all', 'allow', 'allows', 'almost', 'alone', 'along', 'alongside', 'already', 'also', 'although', 'always', 'am', 'amid', 'amidst', 'among', 'amongst', 'an', 'and', 'another', 'any', 'anybody', 'anyhow', 'anyone', 'anything', 'anyway', 'anyways', 'anywhere', 'apart', 'appear', 'appreciate', 'appropriate', 'are', 'arent', 'around', 'as', 'as', 'aside', 'ask', 'asking', 'associated', 'at', 'available', 'away', 'awfully', 'back', 'backward', 'backwards', 'be', 'became', 'because', 'become', 'becomes', 'becoming', 'been', 'before', 'beforehand', 'begin', 'behind', 'being', 'believe', 'below', 'beside', 'besides', 'best', 'better', 'between', 'beyond', 'both', 'brief', 'but', 'by', 'came', 'can', 'cannot', 'cant', 'cant', 'caption', 'cause', 'causes', 'certain', 'certainly', 'changes', 'clearly', 'cmon', 'co', 'co.', 'com', 'come', 'comes', 'concerning', 'consequently', 'consider', 'considering', 'contain', 'containing', 'contains', 'corresponding', 'could', 'couldnt', 'course', 'cs', 'currently', 'dare', 'darent', 'definitely', 'described', 'despite', 'did', 'didnt', 'different', 'directly', 'do', 'does', 'doesnt', 'doing', 'done', 'dont', 'down', 'downwards', 'during', 'each', 'edu', 'eg', 'eight', 'eighty', 'either', 'else', 'elsewhere', 'end', 'ending', 'enough', 'entirely', 'especially', 'et', 'etc', 'even', 'ever', 'evermore', 'every', 'everybody', 'everyone', 'everything', 'everywhere', 'ex', 'exactly', 'example', 'except', 'fairly', 'far', 'farther', 'few', 'fewer', 'fifth', 'first', 'five', 'followed', 'following', 'follows', 'for', 'forever', 'former', 'formerly', 'forth', 'forward', 'found', 'four', 'from', 'further', 'furthermore', 'get', 'gets', 'getting', 'given', 'gives', 'go', 'goes', 'going', 'gone', 'got', 'gotten', 'greetings', 'had', 'hadnt', 'half', 'happens', 'hardly', 'has', 'hasnt', 'have', 'havent', 'having', 'he', 'hed', 'hell', 'hello', 'help', 'hence', 'her', 'here', 'hereafter', 'hereby', 'herein', 'heres', 'hereupon', 'hers', 'herself', 'hes', 'hi', 'him', 'himself', 'his', 'hither', 'hopefully', 'how', 'howbeit', 'however', 'hundred', 'id', 'ie', 'if', 'ignored', 'ill', 'im', 'immediate', 'in', 'inasmuch', 'inc', 'inc.', 'indeed', 'indicate', 'indicated', 'indicates', 'inner', 'inside', 'insofar', 'instead', 'into', 'inward', 'is', 'isnt', 'it', 'itd', 'itll', 'its', 'its', 'itself', 'ive', 'just', 'k', 'keep', 'keeps', 'kept', 'know', 'known', 'knows', 'last', 'lately', 'later', 'latter', 'latterly', 'least', 'less', 'lest', 'let', 'lets', 'like', 'liked', 'likely', 'likewise', 'little', 'look', 'looking', 'looks', 'low', 'lower', 'ltd', 'made', 'mainly', 'make', 'makes', 'many', 'may', 'maybe', 'maynt', 'me', 'mean', 'meantime', 'meanwhile', 'merely', 'might', 'mightnt', 'mine', 'minus', 'miss', 'more', 'moreover', 'most', 'mostly', 'mr', 'mrs', 'much', 'must', 'mustnt', 'my', 'myself', 'name', 'namely', 'nd', 'near', 'nearly', 'necessary', 'need', 'neednt', 'needs', 'neither', 'never', 'neverf', 'neverless', 'nevertheless', 'new', 'next', 'nine', 'ninety', 'no', 'nobody', 'non', 'none', 'nonetheless', 'noone', 'no-one', 'nor', 'normally', 'not', 'nothing', 'notwithstanding', 'novel', 'now', 'nowhere', 'obviously', 'of', 'off', 'often', 'oh', 'ok', 'okay', 'old', 'on', 'once', 'one', 'ones', 'ones', 'only', 'onto', 'opposite', 'or', 'other', 'others', 'otherwise', 'ought', 'oughtnt', 'our', 'ours', 'ourselves', 'out', 'outside', 'over', 'overall', 'own', 'particular', 'particularly', 'past', 'per', 'perhaps', 'placed', 'please', 'plus', 'possible', 'presumably', 'probably', 'provided', 'provides', 'que', 'quite', 'qv', 'rather', 'rd', 're', 'really', 'reasonably', 'recent', 'recently', 'regarding', 'regardless', 'regards', 'relatively', 'respectively', 'right', 'round', 'said', 'same', 'saw', 'say', 'saying', 'says', 'second', 'secondly', 'see', 'seeing', 'seem', 'seemed', 'seeming', 'seems', 'seen', 'self', 'selves', 'sensible', 'sent', 'serious', 'seriously', 'seven', 'several', 'shall', 'shant', 'she', 'shed', 'shell', 'shes', 'should', 'shouldnt', 'since', 'six', 'so', 'some', 'somebody', 'someday', 'somehow', 'someone', 'something', 'sometime', 'sometimes', 'somewhat', 'somewhere', 'soon', 'sorry', 'specified', 'specify', 'specifying', 'still', 'sub', 'such', 'sup', 'sure', 'take', 'taken', 'taking', 'tell', 'tends', 'th', 'than', 'thank', 'thanks', 'thanx', 'that', 'thatll', 'thats', 'thats', 'thatve', 'the', 'their', 'theirs', 'them', 'themselves', 'then', 'thence', 'there', 'thereafter', 'thereby', 'thered', 'therefore', 'therein', 'therell', 'therere', 'theres', 'theres', 'thereupon', 'thereve', 'these', 'they', 'theyd', 'theyll', 'theyre', 'theyve', 'thing', 'things', 'think', 'third', 'thirty', 'this', 'thorough', 'thoroughly', 'those', 'though', 'three', 'through', 'throughout', 'thru', 'thus', 'till', 'to', 'together', 'too', 'took', 'toward', 'towards', 'tried', 'tries', 'truly', 'try', 'trying', 'ts', 'twice', 'two', 'un', 'under', 'underneath', 'undoing', 'unfortunately', 'unless', 'unlike', 'unlikely', 'until', 'unto', 'up', 'upon', 'upwards', 'us', 'use', 'used', 'useful', 'uses', 'using', 'usually', 'v', 'value', 'various', 'versus', 'very', 'via', 'viz', 'vs', 'want', 'wants', 'was', 'wasnt', 'way', 'we', 'wed', 'welcome', 'well', 'well', 'went', 'were', 'were', 'werent', 'weve', 'what', 'whatever', 'whatll', 'whats', 'whatve', 'when', 'whence', 'whenever', 'where', 'whereafter', 'whereas', 'whereby', 'wherein', 'wheres', 'whereupon', 'wherever', 'whether', 'which', 'whichever', 'while', 'whilst', 'whither', 'who', 'whod', 'whoever', 'whole', 'wholl', 'whom', 'whomever', 'whos', 'whose', 'why', 'will', 'willing', 'wish', 'with', 'within', 'without', 'wonder', 'wont', 'would', 'wouldnt', 'yes', 'yet', 'you', 'youd', 'youll', 'your', 'youre', 'yours', 'yourself', 'yourselves', 'youve', 'zero', 'a', 'hows', 'i', 'whens', 'whys', 'b', 'c', 'd', 'e', 'f', 'g', 'h', 'j', 'l', 'm', 'n', 'o', 'p', 'q', 'r', 's', 't', 'u', 'uucp', 'w', 'x', 'y', 'z', 'I', 'www', 'amount', 'bill', 'bottom', 'call', 'computer', 'con', 'couldnt', 'cry', 'de', 'describe', 'detail', 'due', 'eleven', 'empty', 'fifteen', 'fifty', 'fill', 'find', 'fire', 'forty', 'front', 'full', 'give', 'hasnt', 'herse', 'himse', 'interest', 'itse”', 'mill', 'move', 'myse”', 'part', 'put', 'show', 'side', 'sincere', 'sixty', 'system', 'ten', 'thick', 'thin', 'top', 'twelve', 'twenty', 'abst', 'accordance', 'act', 'added', 'adopted', 'affected', 'affecting', 'affects', 'ah', 'announce', 'anymore', 'apparently', 'approximately', 'aren', 'arent', 'arise', 'auth', 'beginning', 'beginnings', 'begins', 'biol', 'briefly', 'ca', 'date', 'ed', 'effect', 'et-al', 'ff', 'fix', 'gave', 'giving', 'heres', 'hes', 'hid', 'home', 'id', 'im', 'immediately', 'importance', 'important', 'index', 'information', 'invention', 'itd', 'keys', 'kg', 'km', 'largely', 'lets', 'line', 'll', 'means', 'mg', 'million', 'ml', 'mug', 'na', 'nay', 'necessarily', 'nos', 'noted', 'obtain', 'obtained', 'omitted', 'ord', 'owing', 'page', 'pages', 'poorly', 'possibly', 'potentially', 'pp', 'predominantly', 'present', 'previously', 'primarily', 'promptly', 'proud', 'quickly', 'ran', 'readily', 'ref', 'refs', 'related', 'research', 'resulted', 'resulting', 'results', 'run', 'sec', 'section', 'shed', 'shes', 'showed', 'shown', 'showns', 'shows', 'significant', 'significantly', 'similar', 'similarly', 'slightly', 'somethan', 'specifically', 'state', 'states', 'stop', 'strongly', 'substantially', 'successfully', 'sufficiently', 'suggest', 'thered', 'thereof', 'therere', 'thereto', 'theyd', 'theyre', 'thou', 'thoughh', 'thousand', 'throug', 'til', 'tip', 'ts', 'ups', 'usefully', 'usefulness', 've', 'vol', 'vols', 'wed', 'whats', 'wheres', 'whim', 'whod', 'whos', 'widely', 'words', 'world', 'youd', 'youre']"
   ]
  },
  {
   "cell_type": "code",
   "execution_count": 3,
   "metadata": {},
   "outputs": [],
   "source": [
    "#Load the data\n",
    "\n",
    "data = spark.read.format('json').options(header='true', inferSchema='true') \\\n",
    "  .load('./datasets/NoFilterEnglish2020-02-04.json')"
   ]
  },
  {
   "cell_type": "markdown",
   "metadata": {},
   "source": [
    "### Exercise 1"
   ]
  },
  {
   "cell_type": "code",
   "execution_count": 58,
   "metadata": {},
   "outputs": [
    {
     "name": "stdout",
     "output_type": "stream",
     "text": [
      "+------+-----+\n",
      "|  word|count|\n",
      "+------+-----+\n",
      "|   the|   13|\n",
      "|   you|    6|\n",
      "|  this|    6|\n",
      "|   for|    4|\n",
      "|  need|    3|\n",
      "|  make|    3|\n",
      "|   can|    3|\n",
      "|   was|    2|\n",
      "|saying|    2|\n",
      "|again.|    2|\n",
      "+------+-----+\n",
      "only showing top 10 rows\n",
      "\n"
     ]
    }
   ],
   "source": [
    "data.filter(f.col('timestamp_ms').between(1580770795658, 1580770796665) ) \\\n",
    "    .select(f.regexp_replace(f.col('text'), r',|\\n|;|:|(|)|@|\\.|&|\\\\|\\||-|_', '').alias('text'))\\\n",
    "    .select(lower(col('text')).alias('text'))\\\n",
    "    .withColumn('word', f.explode(f.split(f.col('text'), ' '))) \\\n",
    "    .filter(length(col(\"word\")) >= 3)\\\n",
    "    .groupBy('word') \\\n",
    "    .count() \\\n",
    "    .sort('count', ascending=False) \\\n",
    "    .show(10)"
   ]
  },
  {
   "cell_type": "markdown",
   "metadata": {},
   "source": [
    "### Exercise 2"
   ]
  },
  {
   "cell_type": "code",
   "execution_count": 5,
   "metadata": {},
   "outputs": [
    {
     "name": "stdout",
     "output_type": "stream",
     "text": [
      "+---------------+-----+\n",
      "|       filtered|count|\n",
      "+---------------+-----+\n",
      "|               |    3|\n",
      "|           Rush|    2|\n",
      "|            amp|    2|\n",
      "|           fuck|    2|\n",
      "|@washingtonpost|    1|\n",
      "|          rolls|    1|\n",
      "|       jaCCuZZi|    1|\n",
      "|          Trump|    1|\n",
      "|           Nice|    1|\n",
      "|        explain|    1|\n",
      "|      @yungcalc|    1|\n",
      "|           rare|    1|\n",
      "|           icon|    1|\n",
      "|      @dbongino|    1|\n",
      "|            (ie|    1|\n",
      "|      @santeira|    1|\n",
      "|  @chqmbiedolan|    1|\n",
      "|             i…|    1|\n",
      "|  @iBeSuckaFree|    1|\n",
      "|             h…|    1|\n",
      "+---------------+-----+\n",
      "only showing top 20 rows\n",
      "\n"
     ]
    }
   ],
   "source": [
    "# Converting the text to the array of strings\n",
    "words = data.filter(f.col('timestamp_ms').between(1580770795659, 1580770796665) ) \\\n",
    "    .select(f.regexp_replace(f.col('text'), r',|\\.|&|:|;|\\|@|\\|-|_', '').alias('text')) \\\n",
    "    .withColumn('word', f.split(f.col('text'), ' ')).select('word')\n",
    "\n",
    "# Removing the stopwords from the array of strings\n",
    "sc = spark.sparkContext\n",
    "broadcastVar = sc.broadcast(stopWords)\n",
    "broadcastVar.value\n",
    "\n",
    "remover = StopWordsRemover(inputCol=\"word\", outputCol=\"filtered\", stopWords=broadcastVar.value)\n",
    "words = remover.transform(words)\n",
    "\n",
    "# Strings to column + calculate most frequent\n",
    "words.withColumn('filtered', f.explode('filtered')) \\\n",
    "    .groupBy('filtered') \\\n",
    "    .count() \\\n",
    "    .sort('count', ascending=False) \\\n",
    "    .show()"
   ]
  },
  {
   "cell_type": "markdown",
   "metadata": {},
   "source": [
    "### Exercise 3"
   ]
  },
  {
   "cell_type": "code",
   "execution_count": 6,
   "metadata": {},
   "outputs": [
    {
     "name": "stdout",
     "output_type": "stream",
     "text": [
      "+----------------+-----+\n",
      "|        filtered|count|\n",
      "+----------------+-----+\n",
      "|                |58085|\n",
      "|             amp| 6585|\n",
      "|          people| 5388|\n",
      "|            love| 4842|\n",
      "|            time| 4108|\n",
      "|             day| 3357|\n",
      "|            good| 3084|\n",
      "|           Trump| 3008|\n",
      "|            Iowa| 2974|\n",
      "|            shit| 2692|\n",
      "|             man| 2428|\n",
      "|           today| 2375|\n",
      "|            yall| 2209|\n",
      "|               2| 1976|\n",
      "|           years| 1943|\n",
      "|@realDonaldTrump| 1819|\n",
      "|            life| 1805|\n",
      "|            feel| 1700|\n",
      "|            work| 1658|\n",
      "|            fuck| 1607|\n",
      "+----------------+-----+\n",
      "only showing top 20 rows\n",
      "\n"
     ]
    }
   ],
   "source": [
    "# Converting the text to the array of strings\n",
    "words = data.filter(\"(timestamp_ms / 1000 / 60 / 60  % 24 )>= 20\") \\\n",
    "    .select(f.regexp_replace(f.col('text'), r',|\\.|’|\\'|&|:|;|\\|@|\\||-|_', '').alias('text')) \\\n",
    "    .withColumn('word', f.split(f.col('text'), ' ')).select('word')\n",
    "\n",
    "# Removing the stopwords from the array of strings\n",
    "remover = StopWordsRemover(inputCol=\"word\", outputCol=\"filtered\", stopWords=broadcastVar.value)\n",
    "words = remover.transform(words)\n",
    "\n",
    "# Strings to column + calculate most frequent\n",
    "words.withColumn('filtered', f.explode('filtered')) \\\n",
    "    .groupBy('filtered') \\\n",
    "    .count() \\\n",
    "    .sort('count', ascending=False) \\\n",
    "    .show()"
   ]
  },
  {
   "cell_type": "markdown",
   "metadata": {},
   "source": [
    "### Exercise 5"
   ]
  },
  {
   "cell_type": "code",
   "execution_count": 7,
   "metadata": {},
   "outputs": [],
   "source": [
    "hashtags = data.select(f.regexp_replace(f.col('text'), r',|\\n|;|:|(|)|@|\\.|&|\\\\|\\||-|_', '').alias('text'))\\\n",
    "    .withColumn('hashtag', f.explode(f.split(f.col('text'), ' ')))\n",
    "\n",
    "hashtags = hashtags.filter( hashtags.hashtag.startswith('#') )"
   ]
  },
  {
   "cell_type": "code",
   "execution_count": 8,
   "metadata": {},
   "outputs": [
    {
     "name": "stdout",
     "output_type": "stream",
     "text": [
      "+--------------------+-----+\n",
      "|             hashtag|count|\n",
      "+--------------------+-----+\n",
      "|       #IowaCaucuses| 2438|\n",
      "|#DeshKiAwaazShehnaaz| 1741|\n",
      "|       #iHeartAwards| 1421|\n",
      "|    #MainBhiAsimKiGF| 1400|\n",
      "|      #MeraAdarshSid| 1394|\n",
      "|                  #1| 1146|\n",
      "|                  #…| 1118|\n",
      "|           #AsimRiaz| 1099|\n",
      "|        #TheBachelor| 1068|\n",
      "|                #BTS| 1020|\n",
      "|           #IACaucus|  980|\n",
      "|         #IowaCaucus|  973|\n",
      "|     #SidharthShukla|  917|\n",
      "|               #BB13|  716|\n",
      "|        #coronavirus|  709|\n",
      "|#CureCancer_By_Tr...|  683|\n",
      "|         #LoveIsland|  646|\n",
      "|           #TREASURE|  625|\n",
      "|          #SuperBowl|  610|\n",
      "| #TREASURE_EDITORIAL|  576|\n",
      "+--------------------+-----+\n",
      "only showing top 20 rows\n",
      "\n"
     ]
    }
   ],
   "source": [
    "most_freq_hash = hashtags.groupBy('hashtag') \\\n",
    "    .count() \\\n",
    "    .sort('count', ascending=False) \n",
    "most_freq_hash.show()"
   ]
  },
  {
   "cell_type": "code",
   "execution_count": 68,
   "metadata": {},
   "outputs": [
    {
     "data": {
      "text/plain": [
       "['#iowacaucuses',\n",
       " 'iowa',\n",
       " 'bernie',\n",
       " 'caucus',\n",
       " 'won',\n",
       " 'dnc',\n",
       " 'democratic',\n",
       " 'breaking',\n",
       " '@donaldjtrumpjr',\n",
       " 'app']"
      ]
     },
     "execution_count": 68,
     "metadata": {},
     "output_type": "execute_result"
    }
   ],
   "source": [
    "event_texts = data.filter( f.col('text').contains('#IowaCaucuses'))\n",
    "\n",
    "event_words = event_texts.select(f.regexp_replace(f.col('text'), r',|\\n|;|:|(|)|@|\\.|&|\\\\|\\||-|_', '').alias('text'))\\\n",
    "                         .select(lower(col('text')).alias('text'))\\\n",
    "                         .withColumn('word', f.split(f.col('text'), ' ')).select('word') \n",
    "\n",
    "event_words = remover.transform(event_words)\n",
    "\n",
    "event_words.withColumn('filtered', f.explode('filtered')) \\\n",
    "           .filter(length(col(\"filtered\")) >= 3)\\\n",
    "           .groupBy('filtered') \\\n",
    "           .count() \\\n",
    "           .sort('count', ascending=False)\\\n",
    "           .rdd\\\n",
    "           .map(lambda x: x[0])\\\n",
    "           .collect()[:10]"
   ]
  },
  {
   "cell_type": "code",
   "execution_count": 9,
   "metadata": {},
   "outputs": [],
   "source": [
    "mfht = most_freq_hash.filter('count >= 500').select('hashtag').rdd.map(list)"
   ]
  },
  {
   "cell_type": "markdown",
   "metadata": {},
   "source": [
    "### Exercise 6 and Exercice 7"
   ]
  },
  {
   "cell_type": "code",
   "execution_count": 72,
   "metadata": {},
   "outputs": [
    {
     "name": "stdout",
     "output_type": "stream",
     "text": [
      "Event : #IowaCaucuses\n",
      "Timeframe : from - 2020-02-03 23:00:11 to - 2020-02-04 22:58:28\n",
      "Location : Birmingham, and the Square: \n",
      "[[-82.22385426  38.303055  ]\n",
      " [-82.22385426  39.43516021]\n",
      " [-80.5272213   39.43516021]\n",
      " [-80.5272213   38.303055  ]]\n",
      "\n",
      "Most frequent words associated to the event: \n",
      "['#iowacaucuses', 'iowa', 'bernie', 'caucus', 'won', 'dnc', 'democratic', 'breaking', '@donaldjtrumpjr', 'app', 'party', 'biden']\n",
      "\n",
      "Event : #DeshKiAwaazShehnaaz\n",
      "Timeframe : from - 2020-02-04 01:58:49 to - 2020-02-04 22:59:12\n",
      "Location : Aurangabad, and the Square: \n",
      "[[75.166419 19.665651]\n",
      " [75.166419 20.166025]\n",
      " [75.881515 20.166025]\n",
      " [75.881515 19.665651]]\n",
      "\n",
      "Most frequent words associated to the event: \n",
      "['#deshkiawaazshehnaaz', 'sana', 'love', 'guys', 'shehnaaz', 'trend', '@colorstv', 'follow', 'trending', 'speed', 'tag', '@beingsalmankhan']\n",
      "\n",
      "Event : #iHeartAwards\n",
      "Timeframe : from - 2020-02-03 23:00:38 to - 2020-02-04 22:58:29\n",
      "Location : Washington, and the Square: \n",
      "[[-39.3465245  46.055862 ]\n",
      " [-39.3465245  46.2259055]\n",
      " [-39.117486   46.2259055]\n",
      " [-39.117486   46.055862 ]]\n",
      "\n",
      "Most frequent words associated to the event: \n",
      "['#iheartawards', 'vote', '@bts_twt', '#bestlyrics', '#bestfanarmy', '#bestmusicvideo', '#bestcoversong', '@justinbieber', '@5sos', '@danandshay', '#dancingwithastranger', '@ygofficialblink']\n",
      "\n",
      "Event : #MainBhiAsimKiGF\n",
      "Timeframe : from - 2020-02-03 23:26:18 to - 2020-02-04 22:58:06\n",
      "Location : No Location specified, and the Square: \n",
      "No coordinates found\n",
      "\n",
      "Most frequent words associated to the event: \n",
      "['#mainbhiasimkigf', 'asim', 'trend', 'girls', 'trending', 'love', 'fan', '@colorstv', 'fans', '@thekhbri', '@imrealasim', '#asimriaz']\n",
      "\n",
      "Event : #MeraAdarshSid\n",
      "Timeframe : from - 2020-02-04 08:30:32 to - 2020-02-04 22:59:16\n",
      "Location : Mumbai, and the Square: \n",
      "[72.874244 19.17414 ]\n",
      "\n",
      "Most frequent words associated to the event: \n",
      "['#meraadarshsid', 'sid', '@sidharth_shukla', 'tweets', '@realvindusingh', '@herdhush', 'activity', '&amp', '@colorstv', 'ready', '@biggboss', 'tag']\n",
      "\n",
      "Event : #1\n",
      "Timeframe : from - 2020-02-03 23:00:17 to - 2020-02-04 22:59:54\n",
      "Location : Oakland, and the Square: \n",
      "[[-17.23724262  19.54239408]\n",
      " [-17.23724262  24.31344362]\n",
      " [ 10.715649    24.31344362]\n",
      " [ 10.715649    19.54239408]]\n",
      "\n",
      "Most frequent words associated to the event: \n",
      "['@justinbieber', '@danandshay', 'billboard', 'chart', '#10000hours', '#bestlyrics', '#iheartawards', 'weeks', '.@bts_twt', 'social', 'love', '@chartdata']\n",
      "\n",
      "Event : #…\n",
      "Timeframe : from - 2020-02-03 23:00:30 to - 2020-02-04 22:58:58\n",
      "Location : No Location specified, and the Square: \n",
      "No coordinates found\n",
      "\n",
      "Most frequent words associated to the event: \n",
      "['@ygent_official', '#treasure_editorial', 'treasure', 'editorial', 'week#트레저', '#treasure', 'maker', '&ltmashiho&gtphotography', '2020/2/1st', '#vol_3', 'vol.3', \"can't\"]\n",
      "\n",
      "Event : #AsimRiaz\n",
      "Timeframe : from - 2020-02-03 23:01:13 to - 2020-02-04 22:59:07\n",
      "Location : Mumbai, and the Square: \n",
      "[72.874244 19.17414 ]\n",
      "\n",
      "Most frequent words associated to the event: \n",
      "['#asimriaz', 'asim', 'fans', '&amp', '#mainbhiasimkigf', '#sidharthshukla', '#bb13', 'love', 'vote', '@thekhbri', 'media', '#biggboss13']\n",
      "\n",
      "Event : #TheBachelor\n",
      "Timeframe : from - 2020-02-03 23:00:11 to - 2020-02-04 22:54:09\n",
      "Location : Austin, and the Square: \n",
      "[[-88.92215032  37.45324495]\n",
      " [-88.92215032  38.15151679]\n",
      " [-88.25949411  38.15151679]\n",
      " [-88.25949411  37.45324495]]\n",
      "\n",
      "Most frequent words associated to the event: \n",
      "['#thebachelor', 'peter', 'kelley', 'kelsey', '#thebachelorabc', 'tammy', '@brettsvergara', 'bachelor', 'girls', 'season', 'mykenna', 'rose']\n",
      "\n",
      "Event : #BTS\n",
      "Timeframe : from - 2020-02-03 23:00:02 to - 2020-02-04 22:59:54\n",
      "Location : Two Rivers, and the Square: \n",
      "[[-83.9153795  34.986968 ]\n",
      " [-83.9153795  35.0380495]\n",
      " [-83.8496165  35.0380495]\n",
      " [-83.8496165  34.986968 ]]\n",
      "\n",
      "Most frequent words associated to the event: \n",
      "['#bts', '@bts_twt', '#btsarmy', '#방탄소년단', 'comeback', 'trailer', '@bighitent', '#bestfanarmy', 'soul', '@zachsang1', \"'outro\", 'short']\n",
      "\n",
      "Event : #IACaucus\n",
      "Timeframe : from - 2020-02-03 23:08:20 to - 2020-02-04 22:59:04\n",
      "Location : Des Moines, and the Square: \n",
      "[[-94.19035483  38.43292817]\n",
      " [-94.19035483  39.44101294]\n",
      " [-93.04285367  39.44101294]\n",
      " [-93.04285367  38.43292817]]\n",
      "\n",
      "Most frequent words associated to the event: \n",
      "['#iacaucus', '@andrewgillum', '@gopchairwoman', 'iowa', 'wait', 'precincts', 'delays', 'hear', 'the…', 'bad', 'black', 'brown']\n",
      "\n",
      "Event : #IowaCaucus\n",
      "Timeframe : from - 2020-02-03 23:00:11 to - 2020-02-04 22:59:52\n",
      "Location : Des Moines, and the Square: \n",
      "[[-82.86457753  38.39887712]\n",
      " [-82.86457753  39.34570107]\n",
      " [-81.3482764   39.34570107]\n",
      " [-81.3482764   38.39887712]]\n",
      "\n",
      "Most frequent words associated to the event: \n",
      "['#iowacaucuses', '#iowacaucus', 'iowa', '#iowacaucusdisaster', 'bernie', 'caucus', 'breaking', 'party', 'dnc', 'democrats', 'app', 'won']\n",
      "\n",
      "Event : #SidharthShukla\n",
      "Timeframe : from - 2020-02-03 23:15:22 to - 2020-02-04 22:56:29\n",
      "Location : No Location specified, and the Square: \n",
      "No coordinates found\n",
      "\n",
      "Most frequent words associated to the event: \n",
      "['#sidharthshukla', '&amp', '@sidharth_shukla', '#bb13', 'sid', '#biggboss13', '#asimriaz', 'bigg', 'fans', '@herdhush', 'hai', 'good']\n",
      "\n",
      "Event : #BB13\n",
      "Timeframe : from - 2020-02-03 23:05:20 to - 2020-02-04 22:56:29\n",
      "Location : Rajendra Nagar, and the Square: \n",
      "[78.3852855 17.3950375]\n",
      "\n",
      "Most frequent words associated to the event: \n",
      "['#bb13', '#biggboss13', '#sidharthshukla', 'asim', 'sid', '@colorstv', '&amp', '#asimriaz', 'win', '@sidharth_shukla', 'bigg', 'winner']\n",
      "\n",
      "Event : #coronavirus\n",
      "Timeframe : from - 2020-02-03 23:00:03 to - 2020-02-04 22:59:29\n",
      "Location : Hayathnagar, and the Square: \n",
      "[[55.7119335 10.319765 ]\n",
      " [55.7119335 16.194926 ]\n",
      " [63.38491   16.194926 ]\n",
      " [63.38491   10.319765 ]]\n",
      "\n",
      "Most frequent words associated to the event: \n",
      "['#coronavirus', 'cases', 'china', 'confirmed', 'chinese', '#china', 'patients', 'people', 'outbreak', '#coronaviruschina', '&amp', 'hong']\n",
      "\n",
      "Event : #CureCancer_By_TrueWorship\n",
      "Timeframe : from - 2020-02-04 03:16:13 to - 2020-02-04 22:42:39\n",
      "Location : karnal, and the Square: \n",
      "[[76.67403643 25.32314474]\n",
      " [76.67403643 26.73971487]\n",
      " [78.402875   26.73971487]\n",
      " [78.402875   25.32314474]]\n",
      "\n",
      "Most frequent words associated to the event: \n",
      "['cancer', 'rampal', 'worship', 'true', 'cure', 'saint', '#curecancer_by_trueworship', 'maharaj', 'disease', 'god', 'cured', 'diseases']\n",
      "\n",
      "Event : #LoveIsland\n",
      "Timeframe : from - 2020-02-03 23:00:30 to - 2020-02-04 22:59:25\n",
      "Location : Glasgow, and the Square: \n",
      "[[-23.378285    51.7404025 ]\n",
      " [-23.378285    51.92657675]\n",
      " [-23.054456    51.92657675]\n",
      " [-23.054456    51.7404025 ]]\n",
      "\n",
      "Most frequent words associated to the event: \n",
      "['#loveisland', 'callum', 'shaughna', 'casa', 'girl', 'ched', 'mike', 'villa', 'years', 'boy', '@loveisland', '@pineapplebae___']\n",
      "\n",
      "Event : #TREASURE\n",
      "Timeframe : from - 2020-02-03 23:01:44 to - 2020-02-04 22:47:25\n",
      "Location : No Location specified, and the Square: \n",
      "No coordinates found\n",
      "\n",
      "Most frequent words associated to the event: \n",
      "['#treasure', 'treasure', 'editorial', 'week#트레저', 'maker', '#treasure_editorial', '@ygent_official', '2020/2/1st', 'vol.3', '#vol_3', 'dam&gtphotography', '&ltbang']\n",
      "\n",
      "Event : #SuperBowl\n",
      "Timeframe : from - 2020-02-03 22:59:55 to - 2020-02-04 22:52:53\n",
      "Location : Houston, and the Square: \n",
      "[[-66.9509142  32.6242726]\n",
      " [-66.9509142  34.2965314]\n",
      " [-64.8680695  34.2965314]\n",
      " [-64.8680695  32.6242726]]\n",
      "\n",
      "Most frequent words associated to the event: \n",
      "['#superbowl', 'trump', '#superbowlliv', 'national', 'anthem', 'halftime', 'mocking', 'stand', 'caught', '@shakira', 'zero-tolerance', 'gop']\n",
      "\n",
      "Event : #TREASURE_EDITORIAL\n",
      "Timeframe : from - 2020-02-03 23:01:44 to - 2020-02-04 22:47:25\n",
      "Location : No Location specified, and the Square: \n",
      "No coordinates found\n",
      "\n",
      "Most frequent words associated to the event: \n",
      "['#treasure', 'treasure', 'editorial', 'week#트레저', '#treasure_editorial', 'maker', '@ygent_official', '2020/2/1st', 'vol.3', '#vol_3', 'dam&gtphotography', '&ltbang']\n",
      "\n",
      "Event : #WorldCancerDay\n",
      "Timeframe : from - 2020-02-03 23:29:10 to - 2020-02-04 22:58:40\n",
      "Location : Faridabad, and the Square: \n",
      "[[-3.26913908 31.64482362]\n",
      " [-3.26913908 32.35495954]\n",
      " [-2.45376708 32.35495954]\n",
      " [-2.45376708 31.64482362]]\n",
      "\n",
      "Most frequent words associated to the event: \n",
      "['#worldcancerday', 'cancer', 'today', '#worldcancerday2020', '&amp', 'disease', 'day', 'people', '#cancer', 'awareness', 'support', 'terrible']\n",
      "\n",
      "Event : #Yikes\n",
      "Timeframe : from - 2020-02-04 03:15:25 to - 2020-02-04 22:54:43\n",
      "Location : Los Angeles, and the Square: \n",
      "[[-96.997359  36.860348]\n",
      " [-96.997359  37.18433 ]\n",
      " [-96.729237  37.18433 ]\n",
      " [-96.729237  36.860348]]\n",
      "\n",
      "Most frequent words associated to the event: \n",
      "['#yikes', '@nickiminaj', '&amp', 'play', 'tag', '#it', 'https//t.co/pi1yzdifvf', 'life.', 'likes.', '#yikesnm', 'nicki', 'rosa']\n",
      "\n",
      "Event : #BiggBoss13\n",
      "Timeframe : from - 2020-02-03 23:01:13 to - 2020-02-04 22:56:29\n",
      "Location : Rajendra Nagar, and the Square: \n",
      "[78.3852855 17.3950375]\n",
      "\n",
      "Most frequent words associated to the event: \n",
      "['#biggboss13', '#bb13', 'bigg', '&amp', 'boss', 'asim', '#sidharthshukla', 'fans', '#mainbhiasimkigf', 'sidharth', '#asimriaz', '@webtelworld']\n",
      "\n"
     ]
    }
   ],
   "source": [
    "for row in mfht.collect():\n",
    "    ht = row[0]\n",
    "    event_words = data.filter( f.col('text').contains(ht))\n",
    "    end = event_words.select(f.max(f.col('timestamp_ms'))).rdd.map(list).collect()[0][0]\n",
    "    start = event_words.select(f.min(f.col('timestamp_ms'))).rdd.map(list).collect()[0][0]\n",
    "    \n",
    "    ## Removing tuples where place is na:\n",
    "    event_words_na = event_words.na.drop(subset=[\"place\"])\n",
    "    \n",
    "    \n",
    "    coords = event_words_na.select(\"place.bounding_box.coordinates\") \\\n",
    "                           .rdd.map(list).collect()\n",
    "\n",
    "    \n",
    "    \n",
    "    ## Gets the most common location from the tweets !\n",
    "    location_name = event_words_na.groupBy('place.name') \\\n",
    "                                  .count()\\\n",
    "                                  .sort('count', ascending=False)\\\n",
    "                                  .rdd\\\n",
    "                                  .map(lambda x : x[0])\\\n",
    "                                  .collect()\n",
    "    \n",
    "    ## Get the most frequent words for each event:\n",
    "    event_wordspre = event_words.select(f.regexp_replace(f.col('text'), r',|\\n|;|:|(|)|@|\\.|&|\\\\|\\||-|_', '').alias('text'))\\\n",
    "                                .select(lower(col('text')).alias('text'))\\\n",
    "                                .withColumn('word', f.split(f.col('text'), ' ')).select('word') \n",
    "\n",
    "    event_wordspre = remover.transform(event_wordspre)\n",
    "\n",
    "    most_freq_w = event_wordspre.withColumn('filtered', f.explode('filtered')) \\\n",
    "                                .filter(length(col(\"filtered\")) >= 3)\\\n",
    "                                .groupBy('filtered') \\\n",
    "                                .count() \\\n",
    "                                .sort('count', ascending=False)\\\n",
    "                                .rdd\\\n",
    "                                .map(lambda x: x[0])\\\n",
    "                                .collect()[:12]\n",
    "    \n",
    "        \n",
    "    if(coords != []):\n",
    "        coords_mean = np.array(coords).squeeze().mean(axis = 0)\n",
    "        # get geo information from coord\n",
    "    else:\n",
    "        coords_mean = 'No coordinates found'\n",
    "    \n",
    "    if(most_freq_w == []):\n",
    "        most_freq_w = 'no words found...'\n",
    "    \n",
    "    if(location_name != []):\n",
    "        location_name = location_name[0]\n",
    "    else:\n",
    "        location_name = 'No Location specified'\n",
    "    \n",
    "\n",
    "    end = str( pd.to_datetime(end, unit='ms').to_pydatetime())\n",
    "    start = str(pd.to_datetime(start, unit='ms').to_pydatetime())\n",
    "    print(\"Event : \"+ht)\n",
    "    print(\"Timeframe : from - \" + start[:-7] + \" to - \" + end[:-7])\n",
    "    print(\"Location : \" + location_name + \", and the Square: \\n\" + str(coords_mean) + '\\n' )\n",
    "    print(\"Most frequent words associated to the event: \\n\" + str(most_freq_w) + '\\n\\n')"
   ]
  },
  {
   "cell_type": "code",
   "execution_count": 11,
   "metadata": {
    "scrolled": true
   },
   "outputs": [
    {
     "name": "stdout",
     "output_type": "stream",
     "text": [
      "Method 1\n",
      "time spent computing: 1.645\n",
      "Method 2\n",
      "time spent computing: 1.599\n",
      "Method 3\n",
      "time spent computing: 1.487\n",
      "Method 4\n",
      "time spent computing: 0.005715\n"
     ]
    }
   ],
   "source": [
    "import time\n",
    "\n",
    "# Method 1: Use describe()\n",
    "t1 = time.time()\n",
    "float(event_words.describe(\"timestamp_ms\").filter(\"summary = 'max'\").select(\"timestamp_ms\").collect()[0].asDict()['timestamp_ms'])\n",
    "\n",
    "t2 = time.time()\n",
    "print(\"Method 1\")\n",
    "print(\"time spent computing: {:.4g}\".format(t2-t1))\n",
    "\n",
    "# Method 2: Use SQL\n",
    "t1 = time.time()\n",
    "\n",
    "event_words.registerTempTable(\"df_table\")\n",
    "spark.sql(\"SELECT MAX(timestamp_ms) as maxval FROM df_table\").collect()[0].asDict()['maxval']\n",
    "\n",
    "t2 = time.time()\n",
    "print(\"Method 2\")\n",
    "print(\"time spent computing: {:.4g}\".format(t2-t1))\n",
    "\n",
    "# Method 3: Convert to RDD\n",
    "t1 = time.time()\n",
    "\n",
    "event_words.select(\"timestamp_ms\").rdd.max()[0]\n",
    "\n",
    "t2 = time.time()\n",
    "print(\"Method 3\")\n",
    "print(\"time spent computing: {:.4g}\".format(t2-t1))\n",
    "\n",
    "\n",
    "# Method 4: select\n",
    "t1 = time.time()\n",
    "\n",
    "event_words.select(f.max(f.col('timestamp_ms')))\n",
    "\n",
    "t2 = time.time()\n",
    "print(\"Method 4\")\n",
    "print(\"time spent computing: {:.4g}\".format(t2-t1))"
   ]
  },
  {
   "cell_type": "markdown",
   "metadata": {},
   "source": [
    "### Exercice 7"
   ]
  },
  {
   "cell_type": "code",
   "execution_count": 12,
   "metadata": {},
   "outputs": [
    {
     "data": {
      "text/plain": [
       "array([[-51.93829114,  31.30249454],\n",
       "       [-51.93829114,  32.15902719],\n",
       "       [-50.43242623,  32.15902719],\n",
       "       [-50.43242623,  31.30249454]])"
      ]
     },
     "execution_count": 12,
     "metadata": {},
     "output_type": "execute_result"
    }
   ],
   "source": [
    "\n",
    "coords = data.na.drop(subset=[\"place\"]) \\\n",
    "    .select(\"place.bounding_box.coordinates\") \\\n",
    "    .rdd.map(list).collect()\n",
    "\n",
    "coords_mean = np.array(coords).squeeze().mean(axis = 0)\n",
    "coords_mean"
   ]
  },
  {
   "cell_type": "code",
   "execution_count": 13,
   "metadata": {},
   "outputs": [
    {
     "data": {
      "text/plain": [
       "array([[-82.22385426,  38.303055  ],\n",
       "       [-82.22385426,  39.43516021],\n",
       "       [-80.5272213 ,  39.43516021],\n",
       "       [-80.5272213 ,  38.303055  ]])"
      ]
     },
     "execution_count": 13,
     "metadata": {},
     "output_type": "execute_result"
    }
   ],
   "source": [
    "event_words = data.filter( f.col('text').contains('#IowaCaucuses'))\n",
    "\n",
    "coords = event_words.na.drop(subset=[\"place\"]) \\\n",
    "    .select(\"place.bounding_box.coordinates\") \\\n",
    "    .rdd.map(list).collect()\n",
    "\n",
    "coords_mean = np.array(coords).squeeze().mean(axis = 0)\n",
    "coords_mean"
   ]
  },
  {
   "cell_type": "code",
   "execution_count": 47,
   "metadata": {},
   "outputs": [
    {
     "data": {
      "text/plain": [
       "'Los Angeles'"
      ]
     },
     "execution_count": 47,
     "metadata": {},
     "output_type": "execute_result"
    }
   ],
   "source": [
    "data.na.drop(subset=[\"place\"]) \\\n",
    "    .groupBy('place.name') \\\n",
    "    .count()\\\n",
    "    .sort('count', ascending=False)\\\n",
    "    .rdd\\\n",
    "    .map(lambda x : x[0])\\\n",
    "    .collect()[0]"
   ]
  }
 ],
 "metadata": {
  "kernelspec": {
   "display_name": "Python 3",
   "language": "python",
   "name": "python3"
  },
  "language_info": {
   "codemirror_mode": {
    "name": "ipython",
    "version": 3
   },
   "file_extension": ".py",
   "mimetype": "text/x-python",
   "name": "python",
   "nbconvert_exporter": "python",
   "pygments_lexer": "ipython3",
   "version": "3.8.8"
  }
 },
 "nbformat": 4,
 "nbformat_minor": 4
}
