{
 "cells": [
  {
   "cell_type": "code",
   "execution_count": 19,
   "metadata": {},
   "outputs": [],
   "source": [
    "import sys\n",
    "\n",
    "from pyspark import SparkContext\n",
    "from pyspark.sql import *\n",
    "from operator import add\n",
    "from pyspark.sql import SparkSession\n",
    "from pyspark.ml.feature import Tokenizer\n",
    "from pyspark.ml.feature import StopWordsRemover\n",
    "from pyspark.ml.feature import RegexTokenizer\n",
    "import pyspark.sql.functions as f\n",
    "import pandas as pd\n",
    "import numpy as np\n",
    "\n",
    "spark = SparkSession\\\n",
    "  .builder \\\n",
    "  .appName(\"Twitter_app\") \\\n",
    "  .getOrCreate()"
   ]
  },
  {
   "cell_type": "code",
   "execution_count": 7,
   "metadata": {
    "scrolled": false
   },
   "outputs": [],
   "source": [
    "stopWords = [ 'rt', 'RT', 'it’s', 'don’t', 'can’t', 'I’m', 'able', 'about', 'above', 'abroad', 'according', 'accordingly', 'across', 'actually', 'adj', 'after', 'afterwards', 'again', 'against', 'ago', 'ahead', 'aint', 'all', 'allow', 'allows', 'almost', 'alone', 'along', 'alongside', 'already', 'also', 'although', 'always', 'am', 'amid', 'amidst', 'among', 'amongst', 'an', 'and', 'another', 'any', 'anybody', 'anyhow', 'anyone', 'anything', 'anyway', 'anyways', 'anywhere', 'apart', 'appear', 'appreciate', 'appropriate', 'are', 'arent', 'around', 'as', 'as', 'aside', 'ask', 'asking', 'associated', 'at', 'available', 'away', 'awfully', 'back', 'backward', 'backwards', 'be', 'became', 'because', 'become', 'becomes', 'becoming', 'been', 'before', 'beforehand', 'begin', 'behind', 'being', 'believe', 'below', 'beside', 'besides', 'best', 'better', 'between', 'beyond', 'both', 'brief', 'but', 'by', 'came', 'can', 'cannot', 'cant', 'cant', 'caption', 'cause', 'causes', 'certain', 'certainly', 'changes', 'clearly', 'cmon', 'co', 'co.', 'com', 'come', 'comes', 'concerning', 'consequently', 'consider', 'considering', 'contain', 'containing', 'contains', 'corresponding', 'could', 'couldnt', 'course', 'cs', 'currently', 'dare', 'darent', 'definitely', 'described', 'despite', 'did', 'didnt', 'different', 'directly', 'do', 'does', 'doesnt', 'doing', 'done', 'dont', 'down', 'downwards', 'during', 'each', 'edu', 'eg', 'eight', 'eighty', 'either', 'else', 'elsewhere', 'end', 'ending', 'enough', 'entirely', 'especially', 'et', 'etc', 'even', 'ever', 'evermore', 'every', 'everybody', 'everyone', 'everything', 'everywhere', 'ex', 'exactly', 'example', 'except', 'fairly', 'far', 'farther', 'few', 'fewer', 'fifth', 'first', 'five', 'followed', 'following', 'follows', 'for', 'forever', 'former', 'formerly', 'forth', 'forward', 'found', 'four', 'from', 'further', 'furthermore', 'get', 'gets', 'getting', 'given', 'gives', 'go', 'goes', 'going', 'gone', 'got', 'gotten', 'greetings', 'had', 'hadnt', 'half', 'happens', 'hardly', 'has', 'hasnt', 'have', 'havent', 'having', 'he', 'hed', 'hell', 'hello', 'help', 'hence', 'her', 'here', 'hereafter', 'hereby', 'herein', 'heres', 'hereupon', 'hers', 'herself', 'hes', 'hi', 'him', 'himself', 'his', 'hither', 'hopefully', 'how', 'howbeit', 'however', 'hundred', 'id', 'ie', 'if', 'ignored', 'ill', 'im', 'immediate', 'in', 'inasmuch', 'inc', 'inc.', 'indeed', 'indicate', 'indicated', 'indicates', 'inner', 'inside', 'insofar', 'instead', 'into', 'inward', 'is', 'isnt', 'it', 'itd', 'itll', 'its', 'its', 'itself', 'ive', 'just', 'k', 'keep', 'keeps', 'kept', 'know', 'known', 'knows', 'last', 'lately', 'later', 'latter', 'latterly', 'least', 'less', 'lest', 'let', 'lets', 'like', 'liked', 'likely', 'likewise', 'little', 'look', 'looking', 'looks', 'low', 'lower', 'ltd', 'made', 'mainly', 'make', 'makes', 'many', 'may', 'maybe', 'maynt', 'me', 'mean', 'meantime', 'meanwhile', 'merely', 'might', 'mightnt', 'mine', 'minus', 'miss', 'more', 'moreover', 'most', 'mostly', 'mr', 'mrs', 'much', 'must', 'mustnt', 'my', 'myself', 'name', 'namely', 'nd', 'near', 'nearly', 'necessary', 'need', 'neednt', 'needs', 'neither', 'never', 'neverf', 'neverless', 'nevertheless', 'new', 'next', 'nine', 'ninety', 'no', 'nobody', 'non', 'none', 'nonetheless', 'noone', 'no-one', 'nor', 'normally', 'not', 'nothing', 'notwithstanding', 'novel', 'now', 'nowhere', 'obviously', 'of', 'off', 'often', 'oh', 'ok', 'okay', 'old', 'on', 'once', 'one', 'ones', 'ones', 'only', 'onto', 'opposite', 'or', 'other', 'others', 'otherwise', 'ought', 'oughtnt', 'our', 'ours', 'ourselves', 'out', 'outside', 'over', 'overall', 'own', 'particular', 'particularly', 'past', 'per', 'perhaps', 'placed', 'please', 'plus', 'possible', 'presumably', 'probably', 'provided', 'provides', 'que', 'quite', 'qv', 'rather', 'rd', 're', 'really', 'reasonably', 'recent', 'recently', 'regarding', 'regardless', 'regards', 'relatively', 'respectively', 'right', 'round', 'said', 'same', 'saw', 'say', 'saying', 'says', 'second', 'secondly', 'see', 'seeing', 'seem', 'seemed', 'seeming', 'seems', 'seen', 'self', 'selves', 'sensible', 'sent', 'serious', 'seriously', 'seven', 'several', 'shall', 'shant', 'she', 'shed', 'shell', 'shes', 'should', 'shouldnt', 'since', 'six', 'so', 'some', 'somebody', 'someday', 'somehow', 'someone', 'something', 'sometime', 'sometimes', 'somewhat', 'somewhere', 'soon', 'sorry', 'specified', 'specify', 'specifying', 'still', 'sub', 'such', 'sup', 'sure', 'take', 'taken', 'taking', 'tell', 'tends', 'th', 'than', 'thank', 'thanks', 'thanx', 'that', 'thatll', 'thats', 'thats', 'thatve', 'the', 'their', 'theirs', 'them', 'themselves', 'then', 'thence', 'there', 'thereafter', 'thereby', 'thered', 'therefore', 'therein', 'therell', 'therere', 'theres', 'theres', 'thereupon', 'thereve', 'these', 'they', 'theyd', 'theyll', 'theyre', 'theyve', 'thing', 'things', 'think', 'third', 'thirty', 'this', 'thorough', 'thoroughly', 'those', 'though', 'three', 'through', 'throughout', 'thru', 'thus', 'till', 'to', 'together', 'too', 'took', 'toward', 'towards', 'tried', 'tries', 'truly', 'try', 'trying', 'ts', 'twice', 'two', 'un', 'under', 'underneath', 'undoing', 'unfortunately', 'unless', 'unlike', 'unlikely', 'until', 'unto', 'up', 'upon', 'upwards', 'us', 'use', 'used', 'useful', 'uses', 'using', 'usually', 'v', 'value', 'various', 'versus', 'very', 'via', 'viz', 'vs', 'want', 'wants', 'was', 'wasnt', 'way', 'we', 'wed', 'welcome', 'well', 'well', 'went', 'were', 'were', 'werent', 'weve', 'what', 'whatever', 'whatll', 'whats', 'whatve', 'when', 'whence', 'whenever', 'where', 'whereafter', 'whereas', 'whereby', 'wherein', 'wheres', 'whereupon', 'wherever', 'whether', 'which', 'whichever', 'while', 'whilst', 'whither', 'who', 'whod', 'whoever', 'whole', 'wholl', 'whom', 'whomever', 'whos', 'whose', 'why', 'will', 'willing', 'wish', 'with', 'within', 'without', 'wonder', 'wont', 'would', 'wouldnt', 'yes', 'yet', 'you', 'youd', 'youll', 'your', 'youre', 'yours', 'yourself', 'yourselves', 'youve', 'zero', 'a', 'hows', 'i', 'whens', 'whys', 'b', 'c', 'd', 'e', 'f', 'g', 'h', 'j', 'l', 'm', 'n', 'o', 'p', 'q', 'r', 's', 't', 'u', 'uucp', 'w', 'x', 'y', 'z', 'I', 'www', 'amount', 'bill', 'bottom', 'call', 'computer', 'con', 'couldnt', 'cry', 'de', 'describe', 'detail', 'due', 'eleven', 'empty', 'fifteen', 'fifty', 'fill', 'find', 'fire', 'forty', 'front', 'full', 'give', 'hasnt', 'herse', 'himse', 'interest', 'itse”', 'mill', 'move', 'myse”', 'part', 'put', 'show', 'side', 'sincere', 'sixty', 'system', 'ten', 'thick', 'thin', 'top', 'twelve', 'twenty', 'abst', 'accordance', 'act', 'added', 'adopted', 'affected', 'affecting', 'affects', 'ah', 'announce', 'anymore', 'apparently', 'approximately', 'aren', 'arent', 'arise', 'auth', 'beginning', 'beginnings', 'begins', 'biol', 'briefly', 'ca', 'date', 'ed', 'effect', 'et-al', 'ff', 'fix', 'gave', 'giving', 'heres', 'hes', 'hid', 'home', 'id', 'im', 'immediately', 'importance', 'important', 'index', 'information', 'invention', 'itd', 'keys', 'kg', 'km', 'largely', 'lets', 'line', 'll', 'means', 'mg', 'million', 'ml', 'mug', 'na', 'nay', 'necessarily', 'nos', 'noted', 'obtain', 'obtained', 'omitted', 'ord', 'owing', 'page', 'pages', 'poorly', 'possibly', 'potentially', 'pp', 'predominantly', 'present', 'previously', 'primarily', 'promptly', 'proud', 'quickly', 'ran', 'readily', 'ref', 'refs', 'related', 'research', 'resulted', 'resulting', 'results', 'run', 'sec', 'section', 'shed', 'shes', 'showed', 'shown', 'showns', 'shows', 'significant', 'significantly', 'similar', 'similarly', 'slightly', 'somethan', 'specifically', 'state', 'states', 'stop', 'strongly', 'substantially', 'successfully', 'sufficiently', 'suggest', 'thered', 'thereof', 'therere', 'thereto', 'theyd', 'theyre', 'thou', 'thoughh', 'thousand', 'throug', 'til', 'tip', 'ts', 'ups', 'usefully', 'usefulness', 've', 'vol', 'vols', 'wed', 'whats', 'wheres', 'whim', 'whod', 'whos', 'widely', 'words', 'world', 'youd', 'youre']"
   ]
  },
  {
   "cell_type": "code",
   "execution_count": 8,
   "metadata": {},
   "outputs": [],
   "source": [
    "#Load the data\n",
    "\n",
    "data = spark.read.format('json').options(header='true', inferSchema='true') \\\n",
    "  .load('./datasets/NoFilterEnglish2020-02-04.json')"
   ]
  },
  {
   "cell_type": "markdown",
   "metadata": {},
   "source": [
    "### Exercise 1"
   ]
  },
  {
   "cell_type": "code",
   "execution_count": 109,
   "metadata": {},
   "outputs": [
    {
     "name": "stdout",
     "output_type": "stream",
     "text": [
      "+------+-----+\n",
      "|  word|count|\n",
      "+------+-----+\n",
      "|    RT|   20|\n",
      "|   the|   11|\n",
      "|     I|    7|\n",
      "|    to|    7|\n",
      "|    is|    6|\n",
      "|     a|    5|\n",
      "|   for|    4|\n",
      "|  this|    4|\n",
      "|    it|    4|\n",
      "|    an|    4|\n",
      "|    of|    3|\n",
      "|      |    3|\n",
      "|    at|    3|\n",
      "|  make|    3|\n",
      "|   you|    3|\n",
      "|saying|    2|\n",
      "|  your|    2|\n",
      "|  need|    2|\n",
      "|   You|    2|\n",
      "|   and|    2|\n",
      "+------+-----+\n",
      "only showing top 20 rows\n",
      "\n"
     ]
    }
   ],
   "source": [
    "data.filter(f.col('timestamp_ms').between(1580770795658, 1580770796665) ) \\\n",
    "    .select(f.regexp_replace(f.col('text'), r',|\\n|;|:|(|)|@|\\.|&|\\\\|\\||-|_', '').alias('text'))\\\n",
    "    .withColumn('word', f.explode(f.split(f.col('text'), ' '))) \\\n",
    "    .groupBy('word') \\\n",
    "    .count() \\\n",
    "    .sort('count', ascending=False) \\\n",
    "    .show()"
   ]
  },
  {
   "cell_type": "markdown",
   "metadata": {},
   "source": [
    "### Exercise 2"
   ]
  },
  {
   "cell_type": "code",
   "execution_count": 23,
   "metadata": {},
   "outputs": [
    {
     "name": "stdout",
     "output_type": "stream",
     "text": [
      "+---------------+-----+\n",
      "|       filtered|count|\n",
      "+---------------+-----+\n",
      "|               |    3|\n",
      "|            amp|    2|\n",
      "|           Rush|    2|\n",
      "|           fuck|    2|\n",
      "|            hit|    1|\n",
      "|       clinging|    1|\n",
      "|           Nice|    1|\n",
      "|          rolls|    1|\n",
      "|            (ie|    1|\n",
      "|      @yungcalc|    1|\n",
      "|@washingtonpost|    1|\n",
      "|        explain|    1|\n",
      "|       jaCCuZZi|    1|\n",
      "|             i…|    1|\n",
      "|  @iBeSuckaFree|    1|\n",
      "|           icon|    1|\n",
      "|         hyolyn|    1|\n",
      "|      @dbongino|    1|\n",
      "|          Trump|    1|\n",
      "|           rare|    1|\n",
      "+---------------+-----+\n",
      "only showing top 20 rows\n",
      "\n"
     ]
    }
   ],
   "source": [
    "# Converting the text to the array of strings\n",
    "words = data.filter(f.col('timestamp_ms').between(1580770795659, 1580770796665) ) \\\n",
    "    .select(f.regexp_replace(f.col('text'), r',|\\.|&|:|;|\\|@|\\|-|_', '').alias('text')) \\\n",
    "    .withColumn('word', f.split(f.col('text'), ' ')).select('word')\n",
    "\n",
    "# Removing the stopwords from the array of strings\n",
    "sc = spark.sparkContext\n",
    "broadcastVar = sc.broadcast(stopWords)\n",
    "broadcastVar.value\n",
    "\n",
    "remover = StopWordsRemover(inputCol=\"word\", outputCol=\"filtered\", stopWords=broadcastVar.value)\n",
    "words = remover.transform(words)\n",
    "\n",
    "# Strings to column + calculate most frequent\n",
    "words.withColumn('filtered', f.explode('filtered')) \\\n",
    "    .groupBy('filtered') \\\n",
    "    .count() \\\n",
    "    .sort('count', ascending=False) \\\n",
    "    .show()"
   ]
  },
  {
   "cell_type": "markdown",
   "metadata": {},
   "source": [
    "### Exercise 3"
   ]
  },
  {
   "cell_type": "code",
   "execution_count": 161,
   "metadata": {},
   "outputs": [
    {
     "name": "stdout",
     "output_type": "stream",
     "text": [
      "+----------------+-----+\n",
      "|        filtered|count|\n",
      "+----------------+-----+\n",
      "|                |58085|\n",
      "|             amp| 6585|\n",
      "|          people| 5388|\n",
      "|            love| 4842|\n",
      "|            time| 4108|\n",
      "|             day| 3357|\n",
      "|            good| 3084|\n",
      "|           Trump| 3008|\n",
      "|            Iowa| 2974|\n",
      "|            shit| 2692|\n",
      "|             man| 2428|\n",
      "|           today| 2375|\n",
      "|            yall| 2209|\n",
      "|               2| 1976|\n",
      "|           years| 1943|\n",
      "|@realDonaldTrump| 1819|\n",
      "|            life| 1805|\n",
      "|            feel| 1700|\n",
      "|            work| 1658|\n",
      "|            fuck| 1607|\n",
      "+----------------+-----+\n",
      "only showing top 20 rows\n",
      "\n"
     ]
    }
   ],
   "source": [
    "# Converting the text to the array of strings\n",
    "words = data.filter(\"(timestamp_ms / 1000 / 60 / 60  % 24 )>= 20\") \\\n",
    "    .select(f.regexp_replace(f.col('text'), r',|\\.|’|\\'|&|:|;|\\|@|\\||-|_', '').alias('text')) \\\n",
    "    .withColumn('word', f.split(f.col('text'), ' ')).select('word')\n",
    "\n",
    "# Removing the stopwords from the array of strings\n",
    "remover = StopWordsRemover(inputCol=\"word\", outputCol=\"filtered\", stopWords=broadcastVar.value)\n",
    "words = remover.transform(words)\n",
    "\n",
    "# Strings to column + calculate most frequent\n",
    "words.withColumn('filtered', f.explode('filtered')) \\\n",
    "    .groupBy('filtered') \\\n",
    "    .count() \\\n",
    "    .sort('count', ascending=False) \\\n",
    "    .show()"
   ]
  },
  {
   "cell_type": "markdown",
   "metadata": {},
   "source": [
    "### Exercise 5"
   ]
  },
  {
   "cell_type": "code",
   "execution_count": 60,
   "metadata": {},
   "outputs": [],
   "source": [
    "hashtags = data.select(f.regexp_replace(f.col('text'), r',|\\n|;|:|(|)|@|\\.|&|\\\\|\\||-|_', '').alias('text'))\\\n",
    "    .withColumn('hashtag', f.explode(f.split(f.col('text'), ' ')))\n",
    "\n",
    "hashtags = hashtags.filter( hashtags.hashtag.startswith('#') )"
   ]
  },
  {
   "cell_type": "code",
   "execution_count": 64,
   "metadata": {},
   "outputs": [
    {
     "name": "stdout",
     "output_type": "stream",
     "text": [
      "+--------------------+-----+\n",
      "|             hashtag|count|\n",
      "+--------------------+-----+\n",
      "|       #IowaCaucuses| 2438|\n",
      "|#DeshKiAwaazShehnaaz| 1741|\n",
      "|       #iHeartAwards| 1421|\n",
      "|    #MainBhiAsimKiGF| 1400|\n",
      "|      #MeraAdarshSid| 1394|\n",
      "|                  #1| 1146|\n",
      "|                  #…| 1118|\n",
      "|           #AsimRiaz| 1099|\n",
      "|        #TheBachelor| 1068|\n",
      "|                #BTS| 1020|\n",
      "|           #IACaucus|  980|\n",
      "|         #IowaCaucus|  973|\n",
      "|     #SidharthShukla|  917|\n",
      "|               #BB13|  716|\n",
      "|        #coronavirus|  709|\n",
      "|#CureCancer_By_Tr...|  683|\n",
      "|         #LoveIsland|  646|\n",
      "|           #TREASURE|  625|\n",
      "|          #SuperBowl|  610|\n",
      "| #TREASURE_EDITORIAL|  576|\n",
      "+--------------------+-----+\n",
      "only showing top 20 rows\n",
      "\n"
     ]
    }
   ],
   "source": [
    "most_freq_hash = hashtags.groupBy('hashtag') \\\n",
    "    .count() \\\n",
    "    .sort('count', ascending=False) \n",
    "most_freq_hash.show()"
   ]
  },
  {
   "cell_type": "code",
   "execution_count": 78,
   "metadata": {},
   "outputs": [],
   "source": [
    "mfht = most_freq_hash.filter('count >= 500').select('hashtag').rdd.map(list)"
   ]
  },
  {
   "cell_type": "markdown",
   "metadata": {},
   "source": [
    "### Exercise 6 and Exercice 7"
   ]
  },
  {
   "cell_type": "code",
   "execution_count": 146,
   "metadata": {},
   "outputs": [
    {
     "name": "stdout",
     "output_type": "stream",
     "text": [
      "Event : #IowaCaucuses\n",
      "Timeframe: from - 2020-02-03 23:00:11 to - 2020-02-04 22:58:28\n",
      "\n",
      "Event : #DeshKiAwaazShehnaaz\n",
      "Timeframe: from - 2020-02-04 01:58:49 to - 2020-02-04 22:59:12\n",
      "\n",
      "Event : #iHeartAwards\n",
      "Timeframe: from - 2020-02-03 23:00:38 to - 2020-02-04 22:58:29\n",
      "\n",
      "Event : #MainBhiAsimKiGF\n",
      "Timeframe: from - 2020-02-03 23:26:18 to - 2020-02-04 22:58:06\n",
      "\n",
      "Event : #MeraAdarshSid\n",
      "Timeframe: from - 2020-02-04 08:30:32 to - 2020-02-04 22:59:16\n",
      "\n",
      "Event : #1\n",
      "Timeframe: from - 2020-02-03 23:00:17 to - 2020-02-04 22:59:54\n",
      "\n",
      "Event : #…\n",
      "Timeframe: from - 2020-02-03 23:00:30 to - 2020-02-04 22:58:58\n",
      "\n",
      "Event : #AsimRiaz\n",
      "Timeframe: from - 2020-02-03 23:01:13 to - 2020-02-04 22:59:07\n",
      "\n",
      "Event : #TheBachelor\n",
      "Timeframe: from - 2020-02-03 23:00:11 to - 2020-02-04 22:54:09\n",
      "\n",
      "Event : #BTS\n",
      "Timeframe: from - 2020-02-03 23:00:02 to - 2020-02-04 22:59:54\n",
      "\n",
      "Event : #IACaucus\n",
      "Timeframe: from - 2020-02-03 23:08:20 to - 2020-02-04 22:59:04\n",
      "\n",
      "Event : #IowaCaucus\n",
      "Timeframe: from - 2020-02-03 23:00:11 to - 2020-02-04 22:59:52\n",
      "\n",
      "Event : #SidharthShukla\n",
      "Timeframe: from - 2020-02-03 23:15:22 to - 2020-02-04 22:56:29\n",
      "\n",
      "Event : #BB13\n",
      "Timeframe: from - 2020-02-03 23:05:20 to - 2020-02-04 22:56:29\n",
      "\n",
      "Event : #coronavirus\n",
      "Timeframe: from - 2020-02-03 23:00:03 to - 2020-02-04 22:59:29\n",
      "\n",
      "Event : #CureCancer_By_TrueWorship\n",
      "Timeframe: from - 2020-02-04 03:16:13 to - 2020-02-04 22:42:39\n",
      "\n",
      "Event : #LoveIsland\n",
      "Timeframe: from - 2020-02-03 23:00:30 to - 2020-02-04 22:59:25\n",
      "\n",
      "Event : #TREASURE\n",
      "Timeframe: from - 2020-02-03 23:01:44 to - 2020-02-04 22:47:25\n",
      "\n",
      "Event : #SuperBowl\n",
      "Timeframe: from - 2020-02-03 22:59:55 to - 2020-02-04 22:52:53\n",
      "\n",
      "Event : #TREASURE_EDITORIAL\n",
      "Timeframe: from - 2020-02-03 23:01:44 to - 2020-02-04 22:47:25\n",
      "\n",
      "Event : #WorldCancerDay\n",
      "Timeframe: from - 2020-02-03 23:29:10 to - 2020-02-04 22:58:40\n",
      "\n",
      "Event : #Yikes\n",
      "Timeframe: from - 2020-02-04 03:15:25 to - 2020-02-04 22:54:43\n",
      "\n",
      "Event : #BiggBoss13\n",
      "Timeframe: from - 2020-02-03 23:01:13 to - 2020-02-04 22:56:29\n",
      "\n"
     ]
    }
   ],
   "source": [
    "for row in mfht.collect():\n",
    "    ht = row[0]\n",
    "    event_words = data.filter( f.col('text').contains(ht))\n",
    "    end = event_words.select(f.max(f.col('timestamp_ms'))).rdd.map(list).collect()[0][0]\n",
    "    start = event_words.select(f.min(f.col('timestamp_ms'))).rdd.map(list).collect()[0][0]\n",
    "    \n",
    "    coords = event_words.na.drop(subset=[\"place\"]) \\\n",
    "    .select(\"place.bounding_box.coordinates\") \\\n",
    "    .rdd.map(list).collect()\n",
    "\n",
    "    coords_mean = np.array(coords).squeeze().mean(axis = 0)\n",
    "\n",
    "    end = str( pd.to_datetime(end, unit='ms').to_pydatetime())\n",
    "    start = str(pd.to_datetime(start, unit='ms').to_pydatetime())\n",
    "    print(\"Event : \"+ht)\n",
    "    print(\"Timeframe : from - \"+start[:-7] + \" to - \" + end[:-7])\n",
    "    print(\"Location : \" + str(coords_mean) + '\\n' )"
   ]
  },
  {
   "cell_type": "code",
   "execution_count": 127,
   "metadata": {
    "scrolled": true
   },
   "outputs": [
    {
     "name": "stdout",
     "output_type": "stream",
     "text": [
      "Method 1\n",
      "time spent computing: 1.699\n",
      "Method 2\n",
      "time spent computing: 1.634\n",
      "Method 3\n",
      "time spent computing: 1.692\n",
      "Method 4\n",
      "time spent computing: 0.004184\n"
     ]
    }
   ],
   "source": [
    "import time\n",
    "\n",
    "# Method 1: Use describe()\n",
    "t1 = time.time()\n",
    "float(event_words.describe(\"timestamp_ms\").filter(\"summary = 'max'\").select(\"timestamp_ms\").collect()[0].asDict()['timestamp_ms'])\n",
    "\n",
    "t2 = time.time()\n",
    "print(\"Method 1\")\n",
    "print(\"time spent computing: {:.4g}\".format(t2-t1))\n",
    "\n",
    "# Method 2: Use SQL\n",
    "t1 = time.time()\n",
    "\n",
    "event_words.registerTempTable(\"df_table\")\n",
    "spark.sql(\"SELECT MAX(timestamp_ms) as maxval FROM df_table\").collect()[0].asDict()['maxval']\n",
    "\n",
    "t2 = time.time()\n",
    "print(\"Method 2\")\n",
    "print(\"time spent computing: {:.4g}\".format(t2-t1))\n",
    "\n",
    "# Method 3: Convert to RDD\n",
    "t1 = time.time()\n",
    "\n",
    "event_words.select(\"timestamp_ms\").rdd.max()[0]\n",
    "\n",
    "t2 = time.time()\n",
    "print(\"Method 3\")\n",
    "print(\"time spent computing: {:.4g}\".format(t2-t1))\n",
    "\n",
    "\n",
    "# Method 4: select\n",
    "t1 = time.time()\n",
    "\n",
    "event_words.select(f.max(f.col('timestamp_ms')))\n",
    "\n",
    "t2 = time.time()\n",
    "print(\"Method 4\")\n",
    "print(\"time spent computing: {:.4g}\".format(t2-t1))"
   ]
  },
  {
   "cell_type": "markdown",
   "metadata": {},
   "source": [
    "### Exercice 7"
   ]
  },
  {
   "cell_type": "code",
   "execution_count": 322,
   "metadata": {},
   "outputs": [
    {
     "data": {
      "text/plain": [
       "array([[-51.93829114,  31.30249454],\n",
       "       [-51.93829114,  32.15902719],\n",
       "       [-50.43242623,  32.15902719],\n",
       "       [-50.43242623,  31.30249454]])"
      ]
     },
     "execution_count": 322,
     "metadata": {},
     "output_type": "execute_result"
    }
   ],
   "source": [
    "\n",
    "coords = data.na.drop(subset=[\"place\"]) \\\n",
    "    .select(\"place.bounding_box.coordinates\") \\\n",
    "    .rdd.map(list).collect()\n",
    "\n",
    "coords_mean = np.array(cors).squeeze().mean(axis = 0)\n",
    "coords_mean"
   ]
  },
  {
   "cell_type": "code",
   "execution_count": 333,
   "metadata": {},
   "outputs": [
    {
     "data": {
      "text/plain": [
       "array([[-82.22385426,  38.303055  ],\n",
       "       [-82.22385426,  39.43516021],\n",
       "       [-80.5272213 ,  39.43516021],\n",
       "       [-80.5272213 ,  38.303055  ]])"
      ]
     },
     "execution_count": 333,
     "metadata": {},
     "output_type": "execute_result"
    }
   ],
   "source": [
    "event_words = data.filter( f.col('text').contains('#IowaCaucuses'))\n",
    "\n",
    "coords = event_words.na.drop(subset=[\"place\"]) \\\n",
    "    .select(\"place.bounding_box.coordinates\") \\\n",
    "    .rdd.map(list).collect()\n",
    "\n",
    "coords_mean = np.array(coords).squeeze().mean(axis = 0)\n",
    "coords_mean"
   ]
  }
 ],
 "metadata": {
  "kernelspec": {
   "display_name": "Python 3",
   "language": "python",
   "name": "python3"
  },
  "language_info": {
   "codemirror_mode": {
    "name": "ipython",
    "version": 3
   },
   "file_extension": ".py",
   "mimetype": "text/x-python",
   "name": "python",
   "nbconvert_exporter": "python",
   "pygments_lexer": "ipython3",
   "version": "3.6.9"
  }
 },
 "nbformat": 4,
 "nbformat_minor": 4
}
