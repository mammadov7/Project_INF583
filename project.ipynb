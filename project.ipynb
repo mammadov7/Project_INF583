{
 "cells": [
  {
   "cell_type": "code",
   "execution_count": 3,
   "metadata": {},
   "outputs": [],
   "source": [
    "import sys\n",
    "import time\n",
    "\n",
    "from geopy.geocoders import Nominatim\n",
    "\n",
    "import pyspark.sql.functions as f\n",
    "from pyspark import SparkContext\n",
    "from pyspark.sql import *\n",
    "from pyspark.sql.types import *\n",
    "from pyspark.sql.functions import lower, col, size, length\n",
    "from operator import add\n",
    "from pyspark.ml.feature import Tokenizer, StopWordsRemover, RegexTokenizer\n",
    "\n",
    "import pandas as pd\n",
    "import numpy as np\n",
    "\n",
    "spark = SparkSession\\\n",
    "  .builder \\\n",
    "  .appName(\"Twitter_app\") \\\n",
    "  .getOrCreate()"
   ]
  },
  {
   "cell_type": "markdown",
   "metadata": {},
   "source": [
    "### Loading Stop Words:"
   ]
  },
  {
   "cell_type": "code",
   "execution_count": 4,
   "metadata": {},
   "outputs": [
    {
     "output_type": "error",
     "ename": "UnicodeDecodeError",
     "evalue": "'charmap' codec can't decode byte 0x9d in position 5113: character maps to <undefined>",
     "traceback": [
      "\u001b[1;31m---------------------------------------------------------------------------\u001b[0m",
      "\u001b[1;31mUnicodeDecodeError\u001b[0m                        Traceback (most recent call last)",
      "\u001b[1;32m<ipython-input-4-39f8939400bd>\u001b[0m in \u001b[0;36m<module>\u001b[1;34m\u001b[0m\n\u001b[0;32m      1\u001b[0m \u001b[1;31m## Reading from the stopword file:\u001b[0m\u001b[1;33m\u001b[0m\u001b[1;33m\u001b[0m\u001b[1;33m\u001b[0m\u001b[0m\n\u001b[0;32m      2\u001b[0m \u001b[0mtext_file\u001b[0m \u001b[1;33m=\u001b[0m \u001b[0mopen\u001b[0m\u001b[1;33m(\u001b[0m\u001b[1;34m\"datasets/stop_words_english.txt\"\u001b[0m\u001b[1;33m,\u001b[0m \u001b[1;34m\"r\"\u001b[0m\u001b[1;33m)\u001b[0m\u001b[1;33m\u001b[0m\u001b[1;33m\u001b[0m\u001b[0m\n\u001b[1;32m----> 3\u001b[1;33m \u001b[0mlines\u001b[0m \u001b[1;33m=\u001b[0m \u001b[0mtext_file\u001b[0m\u001b[1;33m.\u001b[0m\u001b[0mread\u001b[0m\u001b[1;33m(\u001b[0m\u001b[1;33m)\u001b[0m\u001b[1;33m\u001b[0m\u001b[1;33m\u001b[0m\u001b[0m\n\u001b[0m\u001b[0;32m      4\u001b[0m \u001b[1;33m\u001b[0m\u001b[0m\n\u001b[0;32m      5\u001b[0m \u001b[1;31m## Creating the stop word array:\u001b[0m\u001b[1;33m\u001b[0m\u001b[1;33m\u001b[0m\u001b[1;33m\u001b[0m\u001b[0m\n",
      "\u001b[1;32m~\\AppData\\Local\\Programs\\Python\\Python39\\lib\\encodings\\cp1252.py\u001b[0m in \u001b[0;36mdecode\u001b[1;34m(self, input, final)\u001b[0m\n\u001b[0;32m     21\u001b[0m \u001b[1;32mclass\u001b[0m \u001b[0mIncrementalDecoder\u001b[0m\u001b[1;33m(\u001b[0m\u001b[0mcodecs\u001b[0m\u001b[1;33m.\u001b[0m\u001b[0mIncrementalDecoder\u001b[0m\u001b[1;33m)\u001b[0m\u001b[1;33m:\u001b[0m\u001b[1;33m\u001b[0m\u001b[1;33m\u001b[0m\u001b[0m\n\u001b[0;32m     22\u001b[0m     \u001b[1;32mdef\u001b[0m \u001b[0mdecode\u001b[0m\u001b[1;33m(\u001b[0m\u001b[0mself\u001b[0m\u001b[1;33m,\u001b[0m \u001b[0minput\u001b[0m\u001b[1;33m,\u001b[0m \u001b[0mfinal\u001b[0m\u001b[1;33m=\u001b[0m\u001b[1;32mFalse\u001b[0m\u001b[1;33m)\u001b[0m\u001b[1;33m:\u001b[0m\u001b[1;33m\u001b[0m\u001b[1;33m\u001b[0m\u001b[0m\n\u001b[1;32m---> 23\u001b[1;33m         \u001b[1;32mreturn\u001b[0m \u001b[0mcodecs\u001b[0m\u001b[1;33m.\u001b[0m\u001b[0mcharmap_decode\u001b[0m\u001b[1;33m(\u001b[0m\u001b[0minput\u001b[0m\u001b[1;33m,\u001b[0m\u001b[0mself\u001b[0m\u001b[1;33m.\u001b[0m\u001b[0merrors\u001b[0m\u001b[1;33m,\u001b[0m\u001b[0mdecoding_table\u001b[0m\u001b[1;33m)\u001b[0m\u001b[1;33m[\u001b[0m\u001b[1;36m0\u001b[0m\u001b[1;33m]\u001b[0m\u001b[1;33m\u001b[0m\u001b[1;33m\u001b[0m\u001b[0m\n\u001b[0m\u001b[0;32m     24\u001b[0m \u001b[1;33m\u001b[0m\u001b[0m\n\u001b[0;32m     25\u001b[0m \u001b[1;32mclass\u001b[0m \u001b[0mStreamWriter\u001b[0m\u001b[1;33m(\u001b[0m\u001b[0mCodec\u001b[0m\u001b[1;33m,\u001b[0m\u001b[0mcodecs\u001b[0m\u001b[1;33m.\u001b[0m\u001b[0mStreamWriter\u001b[0m\u001b[1;33m)\u001b[0m\u001b[1;33m:\u001b[0m\u001b[1;33m\u001b[0m\u001b[1;33m\u001b[0m\u001b[0m\n",
      "\u001b[1;31mUnicodeDecodeError\u001b[0m: 'charmap' codec can't decode byte 0x9d in position 5113: character maps to <undefined>"
     ]
    }
   ],
   "source": [
    "## Reading from the stopword file:\n",
    "text_file = open(\"datasets/stop_words_english.txt\", \"r\")\n",
    "lines = text_file.read()\n",
    "\n",
    "## Creating the stop word array:\n",
    "stopWords = lines.split()\n",
    "# Adding http and https to it:\n",
    "stopWords.append('http')\n",
    "stopWords.append('https')\n",
    "stopWords[-10:]"
   ]
  },
  {
   "cell_type": "markdown",
   "metadata": {},
   "source": [
    "### Loading the Data:"
   ]
  },
  {
   "cell_type": "code",
   "execution_count": 5,
   "metadata": {},
   "outputs": [],
   "source": [
    "#Load the data\n",
    "data = spark.read.format('json').options(header='true', inferSchema='true') \\\n",
    "  .load('./datasets/NoFilterEnglish2020-02-04.json')"
   ]
  },
  {
   "cell_type": "markdown",
   "metadata": {},
   "source": [
    "### Exercise 1"
   ]
  },
  {
   "cell_type": "markdown",
   "metadata": {},
   "source": [
    "##### Words preprocessed:"
   ]
  },
  {
   "cell_type": "code",
   "execution_count": 6,
   "metadata": {},
   "outputs": [
    {
     "output_type": "stream",
     "name": "stdout",
     "text": [
      "+---------------------------------------------------------+\n|text                                                     |\n+---------------------------------------------------------+\n|@theythemsbian thank you for being brave enough to say it|\n+---------------------------------------------------------+\nonly showing top 1 row\n\n"
     ]
    }
   ],
   "source": [
    "# Clean text\n",
    "clean_texts = data.select('*', lower(f.regexp_replace(f.col('text'), r'[^a-zA-Z#@,!\\\\s]', ' ')).alias('text2'))\\\n",
    "                  .drop('text')\\\n",
    "                  .withColumnRenamed('text2', 'text')\n",
    "\n",
    "clean_texts.select('text').show(1, False)"
   ]
  },
  {
   "cell_type": "markdown",
   "metadata": {},
   "source": [
    "#### Tokenize the words:"
   ]
  },
  {
   "cell_type": "code",
   "execution_count": 7,
   "metadata": {},
   "outputs": [
    {
     "output_type": "stream",
     "name": "stdout",
     "text": [
      "+--------------------------------------------------------------------+\n|words_t                                                             |\n+--------------------------------------------------------------------+\n|[@theythemsbian, thank, you, for, being, brave, enough, to, say, it]|\n+--------------------------------------------------------------------+\nonly showing top 1 row\n\n"
     ]
    }
   ],
   "source": [
    "# Tokenize text\n",
    "tokenizer = Tokenizer(inputCol='text', outputCol='words_t')\n",
    "clean_word_tokens = tokenizer.transform(clean_texts)\n",
    "\n",
    "clean_word_tokens.select('words_t').show(1, False)"
   ]
  },
  {
   "cell_type": "markdown",
   "metadata": {},
   "source": [
    "#### Remove useless words:\n",
    "\n",
    "By useless, we mean the words of size 2 or less."
   ]
  },
  {
   "cell_type": "code",
   "execution_count": 8,
   "metadata": {},
   "outputs": [
    {
     "output_type": "error",
     "ename": "Py4JJavaError",
     "evalue": "An error occurred while calling o78.showString.\n: org.apache.spark.SparkException: Job aborted due to stage failure: Task 0 in stage 3.0 failed 1 times, most recent failure: Lost task 0.0 in stage 3.0 (TID 49) (LAPTOP-G4N120DU executor driver): java.io.IOException: Cannot run program \"python3\": CreateProcess error=2, Le fichier spécifié est introuvable\r\n\tat java.base/java.lang.ProcessBuilder.start(ProcessBuilder.java:1128)\r\n\tat java.base/java.lang.ProcessBuilder.start(ProcessBuilder.java:1071)\r\n\tat org.apache.spark.api.python.PythonWorkerFactory.createSimpleWorker(PythonWorkerFactory.scala:165)\r\n\tat org.apache.spark.api.python.PythonWorkerFactory.create(PythonWorkerFactory.scala:107)\r\n\tat org.apache.spark.SparkEnv.createPythonWorker(SparkEnv.scala:119)\r\n\tat org.apache.spark.api.python.BasePythonRunner.compute(PythonRunner.scala:145)\r\n\tat org.apache.spark.sql.execution.python.BatchEvalPythonExec.evaluate(BatchEvalPythonExec.scala:70)\r\n\tat org.apache.spark.sql.execution.python.EvalPythonExec.$anonfun$doExecute$2(EvalPythonExec.scala:130)\r\n\tat org.apache.spark.rdd.RDD.$anonfun$mapPartitions$2(RDD.scala:863)\r\n\tat org.apache.spark.rdd.RDD.$anonfun$mapPartitions$2$adapted(RDD.scala:863)\r\n\tat org.apache.spark.rdd.MapPartitionsRDD.compute(MapPartitionsRDD.scala:52)\r\n\tat org.apache.spark.rdd.RDD.computeOrReadCheckpoint(RDD.scala:373)\r\n\tat org.apache.spark.rdd.RDD.iterator(RDD.scala:337)\r\n\tat org.apache.spark.rdd.MapPartitionsRDD.compute(MapPartitionsRDD.scala:52)\r\n\tat org.apache.spark.rdd.RDD.computeOrReadCheckpoint(RDD.scala:373)\r\n\tat org.apache.spark.rdd.RDD.iterator(RDD.scala:337)\r\n\tat org.apache.spark.rdd.MapPartitionsRDD.compute(MapPartitionsRDD.scala:52)\r\n\tat org.apache.spark.rdd.RDD.computeOrReadCheckpoint(RDD.scala:373)\r\n\tat org.apache.spark.rdd.RDD.iterator(RDD.scala:337)\r\n\tat org.apache.spark.scheduler.ResultTask.runTask(ResultTask.scala:90)\r\n\tat org.apache.spark.scheduler.Task.run(Task.scala:131)\r\n\tat org.apache.spark.executor.Executor$TaskRunner.$anonfun$run$3(Executor.scala:497)\r\n\tat org.apache.spark.util.Utils$.tryWithSafeFinally(Utils.scala:1439)\r\n\tat org.apache.spark.executor.Executor$TaskRunner.run(Executor.scala:500)\r\n\tat java.base/java.util.concurrent.ThreadPoolExecutor.runWorker(ThreadPoolExecutor.java:1128)\r\n\tat java.base/java.util.concurrent.ThreadPoolExecutor$Worker.run(ThreadPoolExecutor.java:628)\r\n\tat java.base/java.lang.Thread.run(Thread.java:834)\r\nCaused by: java.io.IOException: CreateProcess error=2, Le fichier spécifié est introuvable\r\n\tat java.base/java.lang.ProcessImpl.create(Native Method)\r\n\tat java.base/java.lang.ProcessImpl.<init>(ProcessImpl.java:478)\r\n\tat java.base/java.lang.ProcessImpl.start(ProcessImpl.java:154)\r\n\tat java.base/java.lang.ProcessBuilder.start(ProcessBuilder.java:1107)\r\n\t... 26 more\r\n\nDriver stacktrace:\r\n\tat org.apache.spark.scheduler.DAGScheduler.failJobAndIndependentStages(DAGScheduler.scala:2253)\r\n\tat org.apache.spark.scheduler.DAGScheduler.$anonfun$abortStage$2(DAGScheduler.scala:2202)\r\n\tat org.apache.spark.scheduler.DAGScheduler.$anonfun$abortStage$2$adapted(DAGScheduler.scala:2201)\r\n\tat scala.collection.mutable.ResizableArray.foreach(ResizableArray.scala:62)\r\n\tat scala.collection.mutable.ResizableArray.foreach$(ResizableArray.scala:55)\r\n\tat scala.collection.mutable.ArrayBuffer.foreach(ArrayBuffer.scala:49)\r\n\tat org.apache.spark.scheduler.DAGScheduler.abortStage(DAGScheduler.scala:2201)\r\n\tat org.apache.spark.scheduler.DAGScheduler.$anonfun$handleTaskSetFailed$1(DAGScheduler.scala:1078)\r\n\tat org.apache.spark.scheduler.DAGScheduler.$anonfun$handleTaskSetFailed$1$adapted(DAGScheduler.scala:1078)\r\n\tat scala.Option.foreach(Option.scala:407)\r\n\tat org.apache.spark.scheduler.DAGScheduler.handleTaskSetFailed(DAGScheduler.scala:1078)\r\n\tat org.apache.spark.scheduler.DAGSchedulerEventProcessLoop.doOnReceive(DAGScheduler.scala:2440)\r\n\tat org.apache.spark.scheduler.DAGSchedulerEventProcessLoop.onReceive(DAGScheduler.scala:2382)\r\n\tat org.apache.spark.scheduler.DAGSchedulerEventProcessLoop.onReceive(DAGScheduler.scala:2371)\r\n\tat org.apache.spark.util.EventLoop$$anon$1.run(EventLoop.scala:49)\r\n\tat org.apache.spark.scheduler.DAGScheduler.runJob(DAGScheduler.scala:868)\r\n\tat org.apache.spark.SparkContext.runJob(SparkContext.scala:2202)\r\n\tat org.apache.spark.SparkContext.runJob(SparkContext.scala:2223)\r\n\tat org.apache.spark.SparkContext.runJob(SparkContext.scala:2242)\r\n\tat org.apache.spark.sql.execution.SparkPlan.executeTake(SparkPlan.scala:472)\r\n\tat org.apache.spark.sql.execution.SparkPlan.executeTake(SparkPlan.scala:425)\r\n\tat org.apache.spark.sql.execution.CollectLimitExec.executeCollect(limit.scala:47)\r\n\tat org.apache.spark.sql.Dataset.collectFromPlan(Dataset.scala:3696)\r\n\tat org.apache.spark.sql.Dataset.$anonfun$head$1(Dataset.scala:2722)\r\n\tat org.apache.spark.sql.Dataset.$anonfun$withAction$1(Dataset.scala:3687)\r\n\tat org.apache.spark.sql.execution.SQLExecution$.$anonfun$withNewExecutionId$5(SQLExecution.scala:103)\r\n\tat org.apache.spark.sql.execution.SQLExecution$.withSQLConfPropagated(SQLExecution.scala:163)\r\n\tat org.apache.spark.sql.execution.SQLExecution$.$anonfun$withNewExecutionId$1(SQLExecution.scala:90)\r\n\tat org.apache.spark.sql.SparkSession.withActive(SparkSession.scala:772)\r\n\tat org.apache.spark.sql.execution.SQLExecution$.withNewExecutionId(SQLExecution.scala:64)\r\n\tat org.apache.spark.sql.Dataset.withAction(Dataset.scala:3685)\r\n\tat org.apache.spark.sql.Dataset.head(Dataset.scala:2722)\r\n\tat org.apache.spark.sql.Dataset.take(Dataset.scala:2929)\r\n\tat org.apache.spark.sql.Dataset.getRows(Dataset.scala:301)\r\n\tat org.apache.spark.sql.Dataset.showString(Dataset.scala:338)\r\n\tat java.base/jdk.internal.reflect.NativeMethodAccessorImpl.invoke0(Native Method)\r\n\tat java.base/jdk.internal.reflect.NativeMethodAccessorImpl.invoke(NativeMethodAccessorImpl.java:62)\r\n\tat java.base/jdk.internal.reflect.DelegatingMethodAccessorImpl.invoke(DelegatingMethodAccessorImpl.java:43)\r\n\tat java.base/java.lang.reflect.Method.invoke(Method.java:566)\r\n\tat py4j.reflection.MethodInvoker.invoke(MethodInvoker.java:244)\r\n\tat py4j.reflection.ReflectionEngine.invoke(ReflectionEngine.java:357)\r\n\tat py4j.Gateway.invoke(Gateway.java:282)\r\n\tat py4j.commands.AbstractCommand.invokeMethod(AbstractCommand.java:132)\r\n\tat py4j.commands.CallCommand.execute(CallCommand.java:79)\r\n\tat py4j.GatewayConnection.run(GatewayConnection.java:238)\r\n\tat java.base/java.lang.Thread.run(Thread.java:834)\r\nCaused by: java.io.IOException: Cannot run program \"python3\": CreateProcess error=2, Le fichier spécifié est introuvable\r\n\tat java.base/java.lang.ProcessBuilder.start(ProcessBuilder.java:1128)\r\n\tat java.base/java.lang.ProcessBuilder.start(ProcessBuilder.java:1071)\r\n\tat org.apache.spark.api.python.PythonWorkerFactory.createSimpleWorker(PythonWorkerFactory.scala:165)\r\n\tat org.apache.spark.api.python.PythonWorkerFactory.create(PythonWorkerFactory.scala:107)\r\n\tat org.apache.spark.SparkEnv.createPythonWorker(SparkEnv.scala:119)\r\n\tat org.apache.spark.api.python.BasePythonRunner.compute(PythonRunner.scala:145)\r\n\tat org.apache.spark.sql.execution.python.BatchEvalPythonExec.evaluate(BatchEvalPythonExec.scala:70)\r\n\tat org.apache.spark.sql.execution.python.EvalPythonExec.$anonfun$doExecute$2(EvalPythonExec.scala:130)\r\n\tat org.apache.spark.rdd.RDD.$anonfun$mapPartitions$2(RDD.scala:863)\r\n\tat org.apache.spark.rdd.RDD.$anonfun$mapPartitions$2$adapted(RDD.scala:863)\r\n\tat org.apache.spark.rdd.MapPartitionsRDD.compute(MapPartitionsRDD.scala:52)\r\n\tat org.apache.spark.rdd.RDD.computeOrReadCheckpoint(RDD.scala:373)\r\n\tat org.apache.spark.rdd.RDD.iterator(RDD.scala:337)\r\n\tat org.apache.spark.rdd.MapPartitionsRDD.compute(MapPartitionsRDD.scala:52)\r\n\tat org.apache.spark.rdd.RDD.computeOrReadCheckpoint(RDD.scala:373)\r\n\tat org.apache.spark.rdd.RDD.iterator(RDD.scala:337)\r\n\tat org.apache.spark.rdd.MapPartitionsRDD.compute(MapPartitionsRDD.scala:52)\r\n\tat org.apache.spark.rdd.RDD.computeOrReadCheckpoint(RDD.scala:373)\r\n\tat org.apache.spark.rdd.RDD.iterator(RDD.scala:337)\r\n\tat org.apache.spark.scheduler.ResultTask.runTask(ResultTask.scala:90)\r\n\tat org.apache.spark.scheduler.Task.run(Task.scala:131)\r\n\tat org.apache.spark.executor.Executor$TaskRunner.$anonfun$run$3(Executor.scala:497)\r\n\tat org.apache.spark.util.Utils$.tryWithSafeFinally(Utils.scala:1439)\r\n\tat org.apache.spark.executor.Executor$TaskRunner.run(Executor.scala:500)\r\n\tat java.base/java.util.concurrent.ThreadPoolExecutor.runWorker(ThreadPoolExecutor.java:1128)\r\n\tat java.base/java.util.concurrent.ThreadPoolExecutor$Worker.run(ThreadPoolExecutor.java:628)\r\n\t... 1 more\r\nCaused by: java.io.IOException: CreateProcess error=2, Le fichier spécifié est introuvable\r\n\tat java.base/java.lang.ProcessImpl.create(Native Method)\r\n\tat java.base/java.lang.ProcessImpl.<init>(ProcessImpl.java:478)\r\n\tat java.base/java.lang.ProcessImpl.start(ProcessImpl.java:154)\r\n\tat java.base/java.lang.ProcessBuilder.start(ProcessBuilder.java:1107)\r\n\t... 26 more\r\n",
     "traceback": [
      "\u001b[1;31m---------------------------------------------------------------------------\u001b[0m",
      "\u001b[1;31mPy4JJavaError\u001b[0m                             Traceback (most recent call last)",
      "\u001b[1;32m<ipython-input-8-3fc12575417f>\u001b[0m in \u001b[0;36m<module>\u001b[1;34m\u001b[0m\n\u001b[0;32m      3\u001b[0m \u001b[0mclean_word_tokens\u001b[0m \u001b[1;33m=\u001b[0m \u001b[0mclean_word_tokens\u001b[0m\u001b[1;33m.\u001b[0m\u001b[0mwithColumn\u001b[0m\u001b[1;33m(\u001b[0m\u001b[1;34m'words'\u001b[0m\u001b[1;33m,\u001b[0m \u001b[0mfilter_length_udf\u001b[0m\u001b[1;33m(\u001b[0m\u001b[0mcol\u001b[0m\u001b[1;33m(\u001b[0m\u001b[1;34m'words_t'\u001b[0m\u001b[1;33m)\u001b[0m\u001b[1;33m)\u001b[0m\u001b[1;33m)\u001b[0m\u001b[1;33m\u001b[0m\u001b[1;33m\u001b[0m\u001b[0m\n\u001b[0;32m      4\u001b[0m \u001b[1;33m\u001b[0m\u001b[0m\n\u001b[1;32m----> 5\u001b[1;33m \u001b[0mclean_word_tokens\u001b[0m\u001b[1;33m.\u001b[0m\u001b[0mselect\u001b[0m\u001b[1;33m(\u001b[0m\u001b[1;34m'words'\u001b[0m\u001b[1;33m)\u001b[0m\u001b[1;33m.\u001b[0m\u001b[0mshow\u001b[0m\u001b[1;33m(\u001b[0m\u001b[1;36m1\u001b[0m\u001b[1;33m,\u001b[0m \u001b[1;32mFalse\u001b[0m\u001b[1;33m)\u001b[0m\u001b[1;33m\u001b[0m\u001b[1;33m\u001b[0m\u001b[0m\n\u001b[0m",
      "\u001b[1;32mC:\\Program Files\\spark\\spark-3.1.1-bin-hadoop2.7\\python\\pyspark\\sql\\dataframe.py\u001b[0m in \u001b[0;36mshow\u001b[1;34m(self, n, truncate, vertical)\u001b[0m\n\u001b[0;32m    484\u001b[0m             \u001b[0mprint\u001b[0m\u001b[1;33m(\u001b[0m\u001b[0mself\u001b[0m\u001b[1;33m.\u001b[0m\u001b[0m_jdf\u001b[0m\u001b[1;33m.\u001b[0m\u001b[0mshowString\u001b[0m\u001b[1;33m(\u001b[0m\u001b[0mn\u001b[0m\u001b[1;33m,\u001b[0m \u001b[1;36m20\u001b[0m\u001b[1;33m,\u001b[0m \u001b[0mvertical\u001b[0m\u001b[1;33m)\u001b[0m\u001b[1;33m)\u001b[0m\u001b[1;33m\u001b[0m\u001b[1;33m\u001b[0m\u001b[0m\n\u001b[0;32m    485\u001b[0m         \u001b[1;32melse\u001b[0m\u001b[1;33m:\u001b[0m\u001b[1;33m\u001b[0m\u001b[1;33m\u001b[0m\u001b[0m\n\u001b[1;32m--> 486\u001b[1;33m             \u001b[0mprint\u001b[0m\u001b[1;33m(\u001b[0m\u001b[0mself\u001b[0m\u001b[1;33m.\u001b[0m\u001b[0m_jdf\u001b[0m\u001b[1;33m.\u001b[0m\u001b[0mshowString\u001b[0m\u001b[1;33m(\u001b[0m\u001b[0mn\u001b[0m\u001b[1;33m,\u001b[0m \u001b[0mint\u001b[0m\u001b[1;33m(\u001b[0m\u001b[0mtruncate\u001b[0m\u001b[1;33m)\u001b[0m\u001b[1;33m,\u001b[0m \u001b[0mvertical\u001b[0m\u001b[1;33m)\u001b[0m\u001b[1;33m)\u001b[0m\u001b[1;33m\u001b[0m\u001b[1;33m\u001b[0m\u001b[0m\n\u001b[0m\u001b[0;32m    487\u001b[0m \u001b[1;33m\u001b[0m\u001b[0m\n\u001b[0;32m    488\u001b[0m     \u001b[1;32mdef\u001b[0m \u001b[0m__repr__\u001b[0m\u001b[1;33m(\u001b[0m\u001b[0mself\u001b[0m\u001b[1;33m)\u001b[0m\u001b[1;33m:\u001b[0m\u001b[1;33m\u001b[0m\u001b[1;33m\u001b[0m\u001b[0m\n",
      "\u001b[1;32m~\\AppData\\Local\\Programs\\Python\\Python39\\lib\\site-packages\\py4j\\java_gateway.py\u001b[0m in \u001b[0;36m__call__\u001b[1;34m(self, *args)\u001b[0m\n\u001b[0;32m   1302\u001b[0m \u001b[1;33m\u001b[0m\u001b[0m\n\u001b[0;32m   1303\u001b[0m         \u001b[0manswer\u001b[0m \u001b[1;33m=\u001b[0m \u001b[0mself\u001b[0m\u001b[1;33m.\u001b[0m\u001b[0mgateway_client\u001b[0m\u001b[1;33m.\u001b[0m\u001b[0msend_command\u001b[0m\u001b[1;33m(\u001b[0m\u001b[0mcommand\u001b[0m\u001b[1;33m)\u001b[0m\u001b[1;33m\u001b[0m\u001b[1;33m\u001b[0m\u001b[0m\n\u001b[1;32m-> 1304\u001b[1;33m         return_value = get_return_value(\n\u001b[0m\u001b[0;32m   1305\u001b[0m             answer, self.gateway_client, self.target_id, self.name)\n\u001b[0;32m   1306\u001b[0m \u001b[1;33m\u001b[0m\u001b[0m\n",
      "\u001b[1;32mC:\\Program Files\\spark\\spark-3.1.1-bin-hadoop2.7\\python\\pyspark\\sql\\utils.py\u001b[0m in \u001b[0;36mdeco\u001b[1;34m(*a, **kw)\u001b[0m\n\u001b[0;32m    109\u001b[0m     \u001b[1;32mdef\u001b[0m \u001b[0mdeco\u001b[0m\u001b[1;33m(\u001b[0m\u001b[1;33m*\u001b[0m\u001b[0ma\u001b[0m\u001b[1;33m,\u001b[0m \u001b[1;33m**\u001b[0m\u001b[0mkw\u001b[0m\u001b[1;33m)\u001b[0m\u001b[1;33m:\u001b[0m\u001b[1;33m\u001b[0m\u001b[1;33m\u001b[0m\u001b[0m\n\u001b[0;32m    110\u001b[0m         \u001b[1;32mtry\u001b[0m\u001b[1;33m:\u001b[0m\u001b[1;33m\u001b[0m\u001b[1;33m\u001b[0m\u001b[0m\n\u001b[1;32m--> 111\u001b[1;33m             \u001b[1;32mreturn\u001b[0m \u001b[0mf\u001b[0m\u001b[1;33m(\u001b[0m\u001b[1;33m*\u001b[0m\u001b[0ma\u001b[0m\u001b[1;33m,\u001b[0m \u001b[1;33m**\u001b[0m\u001b[0mkw\u001b[0m\u001b[1;33m)\u001b[0m\u001b[1;33m\u001b[0m\u001b[1;33m\u001b[0m\u001b[0m\n\u001b[0m\u001b[0;32m    112\u001b[0m         \u001b[1;32mexcept\u001b[0m \u001b[0mpy4j\u001b[0m\u001b[1;33m.\u001b[0m\u001b[0mprotocol\u001b[0m\u001b[1;33m.\u001b[0m\u001b[0mPy4JJavaError\u001b[0m \u001b[1;32mas\u001b[0m \u001b[0me\u001b[0m\u001b[1;33m:\u001b[0m\u001b[1;33m\u001b[0m\u001b[1;33m\u001b[0m\u001b[0m\n\u001b[0;32m    113\u001b[0m             \u001b[0mconverted\u001b[0m \u001b[1;33m=\u001b[0m \u001b[0mconvert_exception\u001b[0m\u001b[1;33m(\u001b[0m\u001b[0me\u001b[0m\u001b[1;33m.\u001b[0m\u001b[0mjava_exception\u001b[0m\u001b[1;33m)\u001b[0m\u001b[1;33m\u001b[0m\u001b[1;33m\u001b[0m\u001b[0m\n",
      "\u001b[1;32m~\\AppData\\Local\\Programs\\Python\\Python39\\lib\\site-packages\\py4j\\protocol.py\u001b[0m in \u001b[0;36mget_return_value\u001b[1;34m(answer, gateway_client, target_id, name)\u001b[0m\n\u001b[0;32m    324\u001b[0m             \u001b[0mvalue\u001b[0m \u001b[1;33m=\u001b[0m \u001b[0mOUTPUT_CONVERTER\u001b[0m\u001b[1;33m[\u001b[0m\u001b[0mtype\u001b[0m\u001b[1;33m]\u001b[0m\u001b[1;33m(\u001b[0m\u001b[0manswer\u001b[0m\u001b[1;33m[\u001b[0m\u001b[1;36m2\u001b[0m\u001b[1;33m:\u001b[0m\u001b[1;33m]\u001b[0m\u001b[1;33m,\u001b[0m \u001b[0mgateway_client\u001b[0m\u001b[1;33m)\u001b[0m\u001b[1;33m\u001b[0m\u001b[1;33m\u001b[0m\u001b[0m\n\u001b[0;32m    325\u001b[0m             \u001b[1;32mif\u001b[0m \u001b[0manswer\u001b[0m\u001b[1;33m[\u001b[0m\u001b[1;36m1\u001b[0m\u001b[1;33m]\u001b[0m \u001b[1;33m==\u001b[0m \u001b[0mREFERENCE_TYPE\u001b[0m\u001b[1;33m:\u001b[0m\u001b[1;33m\u001b[0m\u001b[1;33m\u001b[0m\u001b[0m\n\u001b[1;32m--> 326\u001b[1;33m                 raise Py4JJavaError(\n\u001b[0m\u001b[0;32m    327\u001b[0m                     \u001b[1;34m\"An error occurred while calling {0}{1}{2}.\\n\"\u001b[0m\u001b[1;33m.\u001b[0m\u001b[1;33m\u001b[0m\u001b[1;33m\u001b[0m\u001b[0m\n\u001b[0;32m    328\u001b[0m                     format(target_id, \".\", name), value)\n",
      "\u001b[1;31mPy4JJavaError\u001b[0m: An error occurred while calling o78.showString.\n: org.apache.spark.SparkException: Job aborted due to stage failure: Task 0 in stage 3.0 failed 1 times, most recent failure: Lost task 0.0 in stage 3.0 (TID 49) (LAPTOP-G4N120DU executor driver): java.io.IOException: Cannot run program \"python3\": CreateProcess error=2, Le fichier spécifié est introuvable\r\n\tat java.base/java.lang.ProcessBuilder.start(ProcessBuilder.java:1128)\r\n\tat java.base/java.lang.ProcessBuilder.start(ProcessBuilder.java:1071)\r\n\tat org.apache.spark.api.python.PythonWorkerFactory.createSimpleWorker(PythonWorkerFactory.scala:165)\r\n\tat org.apache.spark.api.python.PythonWorkerFactory.create(PythonWorkerFactory.scala:107)\r\n\tat org.apache.spark.SparkEnv.createPythonWorker(SparkEnv.scala:119)\r\n\tat org.apache.spark.api.python.BasePythonRunner.compute(PythonRunner.scala:145)\r\n\tat org.apache.spark.sql.execution.python.BatchEvalPythonExec.evaluate(BatchEvalPythonExec.scala:70)\r\n\tat org.apache.spark.sql.execution.python.EvalPythonExec.$anonfun$doExecute$2(EvalPythonExec.scala:130)\r\n\tat org.apache.spark.rdd.RDD.$anonfun$mapPartitions$2(RDD.scala:863)\r\n\tat org.apache.spark.rdd.RDD.$anonfun$mapPartitions$2$adapted(RDD.scala:863)\r\n\tat org.apache.spark.rdd.MapPartitionsRDD.compute(MapPartitionsRDD.scala:52)\r\n\tat org.apache.spark.rdd.RDD.computeOrReadCheckpoint(RDD.scala:373)\r\n\tat org.apache.spark.rdd.RDD.iterator(RDD.scala:337)\r\n\tat org.apache.spark.rdd.MapPartitionsRDD.compute(MapPartitionsRDD.scala:52)\r\n\tat org.apache.spark.rdd.RDD.computeOrReadCheckpoint(RDD.scala:373)\r\n\tat org.apache.spark.rdd.RDD.iterator(RDD.scala:337)\r\n\tat org.apache.spark.rdd.MapPartitionsRDD.compute(MapPartitionsRDD.scala:52)\r\n\tat org.apache.spark.rdd.RDD.computeOrReadCheckpoint(RDD.scala:373)\r\n\tat org.apache.spark.rdd.RDD.iterator(RDD.scala:337)\r\n\tat org.apache.spark.scheduler.ResultTask.runTask(ResultTask.scala:90)\r\n\tat org.apache.spark.scheduler.Task.run(Task.scala:131)\r\n\tat org.apache.spark.executor.Executor$TaskRunner.$anonfun$run$3(Executor.scala:497)\r\n\tat org.apache.spark.util.Utils$.tryWithSafeFinally(Utils.scala:1439)\r\n\tat org.apache.spark.executor.Executor$TaskRunner.run(Executor.scala:500)\r\n\tat java.base/java.util.concurrent.ThreadPoolExecutor.runWorker(ThreadPoolExecutor.java:1128)\r\n\tat java.base/java.util.concurrent.ThreadPoolExecutor$Worker.run(ThreadPoolExecutor.java:628)\r\n\tat java.base/java.lang.Thread.run(Thread.java:834)\r\nCaused by: java.io.IOException: CreateProcess error=2, Le fichier spécifié est introuvable\r\n\tat java.base/java.lang.ProcessImpl.create(Native Method)\r\n\tat java.base/java.lang.ProcessImpl.<init>(ProcessImpl.java:478)\r\n\tat java.base/java.lang.ProcessImpl.start(ProcessImpl.java:154)\r\n\tat java.base/java.lang.ProcessBuilder.start(ProcessBuilder.java:1107)\r\n\t... 26 more\r\n\nDriver stacktrace:\r\n\tat org.apache.spark.scheduler.DAGScheduler.failJobAndIndependentStages(DAGScheduler.scala:2253)\r\n\tat org.apache.spark.scheduler.DAGScheduler.$anonfun$abortStage$2(DAGScheduler.scala:2202)\r\n\tat org.apache.spark.scheduler.DAGScheduler.$anonfun$abortStage$2$adapted(DAGScheduler.scala:2201)\r\n\tat scala.collection.mutable.ResizableArray.foreach(ResizableArray.scala:62)\r\n\tat scala.collection.mutable.ResizableArray.foreach$(ResizableArray.scala:55)\r\n\tat scala.collection.mutable.ArrayBuffer.foreach(ArrayBuffer.scala:49)\r\n\tat org.apache.spark.scheduler.DAGScheduler.abortStage(DAGScheduler.scala:2201)\r\n\tat org.apache.spark.scheduler.DAGScheduler.$anonfun$handleTaskSetFailed$1(DAGScheduler.scala:1078)\r\n\tat org.apache.spark.scheduler.DAGScheduler.$anonfun$handleTaskSetFailed$1$adapted(DAGScheduler.scala:1078)\r\n\tat scala.Option.foreach(Option.scala:407)\r\n\tat org.apache.spark.scheduler.DAGScheduler.handleTaskSetFailed(DAGScheduler.scala:1078)\r\n\tat org.apache.spark.scheduler.DAGSchedulerEventProcessLoop.doOnReceive(DAGScheduler.scala:2440)\r\n\tat org.apache.spark.scheduler.DAGSchedulerEventProcessLoop.onReceive(DAGScheduler.scala:2382)\r\n\tat org.apache.spark.scheduler.DAGSchedulerEventProcessLoop.onReceive(DAGScheduler.scala:2371)\r\n\tat org.apache.spark.util.EventLoop$$anon$1.run(EventLoop.scala:49)\r\n\tat org.apache.spark.scheduler.DAGScheduler.runJob(DAGScheduler.scala:868)\r\n\tat org.apache.spark.SparkContext.runJob(SparkContext.scala:2202)\r\n\tat org.apache.spark.SparkContext.runJob(SparkContext.scala:2223)\r\n\tat org.apache.spark.SparkContext.runJob(SparkContext.scala:2242)\r\n\tat org.apache.spark.sql.execution.SparkPlan.executeTake(SparkPlan.scala:472)\r\n\tat org.apache.spark.sql.execution.SparkPlan.executeTake(SparkPlan.scala:425)\r\n\tat org.apache.spark.sql.execution.CollectLimitExec.executeCollect(limit.scala:47)\r\n\tat org.apache.spark.sql.Dataset.collectFromPlan(Dataset.scala:3696)\r\n\tat org.apache.spark.sql.Dataset.$anonfun$head$1(Dataset.scala:2722)\r\n\tat org.apache.spark.sql.Dataset.$anonfun$withAction$1(Dataset.scala:3687)\r\n\tat org.apache.spark.sql.execution.SQLExecution$.$anonfun$withNewExecutionId$5(SQLExecution.scala:103)\r\n\tat org.apache.spark.sql.execution.SQLExecution$.withSQLConfPropagated(SQLExecution.scala:163)\r\n\tat org.apache.spark.sql.execution.SQLExecution$.$anonfun$withNewExecutionId$1(SQLExecution.scala:90)\r\n\tat org.apache.spark.sql.SparkSession.withActive(SparkSession.scala:772)\r\n\tat org.apache.spark.sql.execution.SQLExecution$.withNewExecutionId(SQLExecution.scala:64)\r\n\tat org.apache.spark.sql.Dataset.withAction(Dataset.scala:3685)\r\n\tat org.apache.spark.sql.Dataset.head(Dataset.scala:2722)\r\n\tat org.apache.spark.sql.Dataset.take(Dataset.scala:2929)\r\n\tat org.apache.spark.sql.Dataset.getRows(Dataset.scala:301)\r\n\tat org.apache.spark.sql.Dataset.showString(Dataset.scala:338)\r\n\tat java.base/jdk.internal.reflect.NativeMethodAccessorImpl.invoke0(Native Method)\r\n\tat java.base/jdk.internal.reflect.NativeMethodAccessorImpl.invoke(NativeMethodAccessorImpl.java:62)\r\n\tat java.base/jdk.internal.reflect.DelegatingMethodAccessorImpl.invoke(DelegatingMethodAccessorImpl.java:43)\r\n\tat java.base/java.lang.reflect.Method.invoke(Method.java:566)\r\n\tat py4j.reflection.MethodInvoker.invoke(MethodInvoker.java:244)\r\n\tat py4j.reflection.ReflectionEngine.invoke(ReflectionEngine.java:357)\r\n\tat py4j.Gateway.invoke(Gateway.java:282)\r\n\tat py4j.commands.AbstractCommand.invokeMethod(AbstractCommand.java:132)\r\n\tat py4j.commands.CallCommand.execute(CallCommand.java:79)\r\n\tat py4j.GatewayConnection.run(GatewayConnection.java:238)\r\n\tat java.base/java.lang.Thread.run(Thread.java:834)\r\nCaused by: java.io.IOException: Cannot run program \"python3\": CreateProcess error=2, Le fichier spécifié est introuvable\r\n\tat java.base/java.lang.ProcessBuilder.start(ProcessBuilder.java:1128)\r\n\tat java.base/java.lang.ProcessBuilder.start(ProcessBuilder.java:1071)\r\n\tat org.apache.spark.api.python.PythonWorkerFactory.createSimpleWorker(PythonWorkerFactory.scala:165)\r\n\tat org.apache.spark.api.python.PythonWorkerFactory.create(PythonWorkerFactory.scala:107)\r\n\tat org.apache.spark.SparkEnv.createPythonWorker(SparkEnv.scala:119)\r\n\tat org.apache.spark.api.python.BasePythonRunner.compute(PythonRunner.scala:145)\r\n\tat org.apache.spark.sql.execution.python.BatchEvalPythonExec.evaluate(BatchEvalPythonExec.scala:70)\r\n\tat org.apache.spark.sql.execution.python.EvalPythonExec.$anonfun$doExecute$2(EvalPythonExec.scala:130)\r\n\tat org.apache.spark.rdd.RDD.$anonfun$mapPartitions$2(RDD.scala:863)\r\n\tat org.apache.spark.rdd.RDD.$anonfun$mapPartitions$2$adapted(RDD.scala:863)\r\n\tat org.apache.spark.rdd.MapPartitionsRDD.compute(MapPartitionsRDD.scala:52)\r\n\tat org.apache.spark.rdd.RDD.computeOrReadCheckpoint(RDD.scala:373)\r\n\tat org.apache.spark.rdd.RDD.iterator(RDD.scala:337)\r\n\tat org.apache.spark.rdd.MapPartitionsRDD.compute(MapPartitionsRDD.scala:52)\r\n\tat org.apache.spark.rdd.RDD.computeOrReadCheckpoint(RDD.scala:373)\r\n\tat org.apache.spark.rdd.RDD.iterator(RDD.scala:337)\r\n\tat org.apache.spark.rdd.MapPartitionsRDD.compute(MapPartitionsRDD.scala:52)\r\n\tat org.apache.spark.rdd.RDD.computeOrReadCheckpoint(RDD.scala:373)\r\n\tat org.apache.spark.rdd.RDD.iterator(RDD.scala:337)\r\n\tat org.apache.spark.scheduler.ResultTask.runTask(ResultTask.scala:90)\r\n\tat org.apache.spark.scheduler.Task.run(Task.scala:131)\r\n\tat org.apache.spark.executor.Executor$TaskRunner.$anonfun$run$3(Executor.scala:497)\r\n\tat org.apache.spark.util.Utils$.tryWithSafeFinally(Utils.scala:1439)\r\n\tat org.apache.spark.executor.Executor$TaskRunner.run(Executor.scala:500)\r\n\tat java.base/java.util.concurrent.ThreadPoolExecutor.runWorker(ThreadPoolExecutor.java:1128)\r\n\tat java.base/java.util.concurrent.ThreadPoolExecutor$Worker.run(ThreadPoolExecutor.java:628)\r\n\t... 1 more\r\nCaused by: java.io.IOException: CreateProcess error=2, Le fichier spécifié est introuvable\r\n\tat java.base/java.lang.ProcessImpl.create(Native Method)\r\n\tat java.base/java.lang.ProcessImpl.<init>(ProcessImpl.java:478)\r\n\tat java.base/java.lang.ProcessImpl.start(ProcessImpl.java:154)\r\n\tat java.base/java.lang.ProcessBuilder.start(ProcessBuilder.java:1107)\r\n\t... 26 more\r\n"
     ]
    }
   ],
   "source": [
    "## Defining the function: (udf: user defined function)\n",
    "filter_length_udf = f.udf(lambda row: [x for x in row if len(x) >= 3], ArrayType(StringType()))\n",
    "clean_word_tokens = clean_word_tokens.withColumn('words', filter_length_udf(col('words_t')))\n",
    "\n",
    "clean_word_tokens.select('words').show(1, False)"
   ]
  },
  {
   "cell_type": "markdown",
   "metadata": {},
   "source": [
    "#### Creating the view words:"
   ]
  },
  {
   "cell_type": "code",
   "execution_count": 9,
   "metadata": {},
   "outputs": [
    {
     "output_type": "error",
     "ename": "Py4JJavaError",
     "evalue": "An error occurred while calling o90.showString.\n: org.apache.spark.SparkException: Job aborted due to stage failure: Task 0 in stage 4.0 failed 1 times, most recent failure: Lost task 0.0 in stage 4.0 (TID 50) (LAPTOP-G4N120DU executor driver): java.io.IOException: Cannot run program \"python3\": CreateProcess error=2, Le fichier spécifié est introuvable\r\n\tat java.base/java.lang.ProcessBuilder.start(ProcessBuilder.java:1128)\r\n\tat java.base/java.lang.ProcessBuilder.start(ProcessBuilder.java:1071)\r\n\tat org.apache.spark.api.python.PythonWorkerFactory.createSimpleWorker(PythonWorkerFactory.scala:165)\r\n\tat org.apache.spark.api.python.PythonWorkerFactory.create(PythonWorkerFactory.scala:107)\r\n\tat org.apache.spark.SparkEnv.createPythonWorker(SparkEnv.scala:119)\r\n\tat org.apache.spark.api.python.BasePythonRunner.compute(PythonRunner.scala:145)\r\n\tat org.apache.spark.sql.execution.python.BatchEvalPythonExec.evaluate(BatchEvalPythonExec.scala:70)\r\n\tat org.apache.spark.sql.execution.python.EvalPythonExec.$anonfun$doExecute$2(EvalPythonExec.scala:130)\r\n\tat org.apache.spark.rdd.RDD.$anonfun$mapPartitions$2(RDD.scala:863)\r\n\tat org.apache.spark.rdd.RDD.$anonfun$mapPartitions$2$adapted(RDD.scala:863)\r\n\tat org.apache.spark.rdd.MapPartitionsRDD.compute(MapPartitionsRDD.scala:52)\r\n\tat org.apache.spark.rdd.RDD.computeOrReadCheckpoint(RDD.scala:373)\r\n\tat org.apache.spark.rdd.RDD.iterator(RDD.scala:337)\r\n\tat org.apache.spark.rdd.MapPartitionsRDD.compute(MapPartitionsRDD.scala:52)\r\n\tat org.apache.spark.rdd.RDD.computeOrReadCheckpoint(RDD.scala:373)\r\n\tat org.apache.spark.rdd.RDD.iterator(RDD.scala:337)\r\n\tat org.apache.spark.rdd.MapPartitionsRDD.compute(MapPartitionsRDD.scala:52)\r\n\tat org.apache.spark.rdd.RDD.computeOrReadCheckpoint(RDD.scala:373)\r\n\tat org.apache.spark.rdd.RDD.iterator(RDD.scala:337)\r\n\tat org.apache.spark.rdd.MapPartitionsRDD.compute(MapPartitionsRDD.scala:52)\r\n\tat org.apache.spark.rdd.RDD.computeOrReadCheckpoint(RDD.scala:373)\r\n\tat org.apache.spark.rdd.RDD.iterator(RDD.scala:337)\r\n\tat org.apache.spark.rdd.MapPartitionsRDD.compute(MapPartitionsRDD.scala:52)\r\n\tat org.apache.spark.rdd.RDD.computeOrReadCheckpoint(RDD.scala:373)\r\n\tat org.apache.spark.rdd.RDD.iterator(RDD.scala:337)\r\n\tat org.apache.spark.rdd.MapPartitionsRDD.compute(MapPartitionsRDD.scala:52)\r\n\tat org.apache.spark.rdd.RDD.computeOrReadCheckpoint(RDD.scala:373)\r\n\tat org.apache.spark.rdd.RDD.iterator(RDD.scala:337)\r\n\tat org.apache.spark.rdd.MapPartitionsRDD.compute(MapPartitionsRDD.scala:52)\r\n\tat org.apache.spark.rdd.RDD.computeOrReadCheckpoint(RDD.scala:373)\r\n\tat org.apache.spark.rdd.RDD.iterator(RDD.scala:337)\r\n\tat org.apache.spark.scheduler.ResultTask.runTask(ResultTask.scala:90)\r\n\tat org.apache.spark.scheduler.Task.run(Task.scala:131)\r\n\tat org.apache.spark.executor.Executor$TaskRunner.$anonfun$run$3(Executor.scala:497)\r\n\tat org.apache.spark.util.Utils$.tryWithSafeFinally(Utils.scala:1439)\r\n\tat org.apache.spark.executor.Executor$TaskRunner.run(Executor.scala:500)\r\n\tat java.base/java.util.concurrent.ThreadPoolExecutor.runWorker(ThreadPoolExecutor.java:1128)\r\n\tat java.base/java.util.concurrent.ThreadPoolExecutor$Worker.run(ThreadPoolExecutor.java:628)\r\n\tat java.base/java.lang.Thread.run(Thread.java:834)\r\nCaused by: java.io.IOException: CreateProcess error=2, Le fichier spécifié est introuvable\r\n\tat java.base/java.lang.ProcessImpl.create(Native Method)\r\n\tat java.base/java.lang.ProcessImpl.<init>(ProcessImpl.java:478)\r\n\tat java.base/java.lang.ProcessImpl.start(ProcessImpl.java:154)\r\n\tat java.base/java.lang.ProcessBuilder.start(ProcessBuilder.java:1107)\r\n\t... 38 more\r\n\nDriver stacktrace:\r\n\tat org.apache.spark.scheduler.DAGScheduler.failJobAndIndependentStages(DAGScheduler.scala:2253)\r\n\tat org.apache.spark.scheduler.DAGScheduler.$anonfun$abortStage$2(DAGScheduler.scala:2202)\r\n\tat org.apache.spark.scheduler.DAGScheduler.$anonfun$abortStage$2$adapted(DAGScheduler.scala:2201)\r\n\tat scala.collection.mutable.ResizableArray.foreach(ResizableArray.scala:62)\r\n\tat scala.collection.mutable.ResizableArray.foreach$(ResizableArray.scala:55)\r\n\tat scala.collection.mutable.ArrayBuffer.foreach(ArrayBuffer.scala:49)\r\n\tat org.apache.spark.scheduler.DAGScheduler.abortStage(DAGScheduler.scala:2201)\r\n\tat org.apache.spark.scheduler.DAGScheduler.$anonfun$handleTaskSetFailed$1(DAGScheduler.scala:1078)\r\n\tat org.apache.spark.scheduler.DAGScheduler.$anonfun$handleTaskSetFailed$1$adapted(DAGScheduler.scala:1078)\r\n\tat scala.Option.foreach(Option.scala:407)\r\n\tat org.apache.spark.scheduler.DAGScheduler.handleTaskSetFailed(DAGScheduler.scala:1078)\r\n\tat org.apache.spark.scheduler.DAGSchedulerEventProcessLoop.doOnReceive(DAGScheduler.scala:2440)\r\n\tat org.apache.spark.scheduler.DAGSchedulerEventProcessLoop.onReceive(DAGScheduler.scala:2382)\r\n\tat org.apache.spark.scheduler.DAGSchedulerEventProcessLoop.onReceive(DAGScheduler.scala:2371)\r\n\tat org.apache.spark.util.EventLoop$$anon$1.run(EventLoop.scala:49)\r\n\tat org.apache.spark.scheduler.DAGScheduler.runJob(DAGScheduler.scala:868)\r\n\tat org.apache.spark.SparkContext.runJob(SparkContext.scala:2202)\r\n\tat org.apache.spark.SparkContext.runJob(SparkContext.scala:2223)\r\n\tat org.apache.spark.SparkContext.runJob(SparkContext.scala:2242)\r\n\tat org.apache.spark.sql.execution.SparkPlan.executeTake(SparkPlan.scala:472)\r\n\tat org.apache.spark.sql.execution.SparkPlan.executeTake(SparkPlan.scala:425)\r\n\tat org.apache.spark.sql.execution.CollectLimitExec.executeCollect(limit.scala:47)\r\n\tat org.apache.spark.sql.Dataset.collectFromPlan(Dataset.scala:3696)\r\n\tat org.apache.spark.sql.Dataset.$anonfun$head$1(Dataset.scala:2722)\r\n\tat org.apache.spark.sql.Dataset.$anonfun$withAction$1(Dataset.scala:3687)\r\n\tat org.apache.spark.sql.execution.SQLExecution$.$anonfun$withNewExecutionId$5(SQLExecution.scala:103)\r\n\tat org.apache.spark.sql.execution.SQLExecution$.withSQLConfPropagated(SQLExecution.scala:163)\r\n\tat org.apache.spark.sql.execution.SQLExecution$.$anonfun$withNewExecutionId$1(SQLExecution.scala:90)\r\n\tat org.apache.spark.sql.SparkSession.withActive(SparkSession.scala:772)\r\n\tat org.apache.spark.sql.execution.SQLExecution$.withNewExecutionId(SQLExecution.scala:64)\r\n\tat org.apache.spark.sql.Dataset.withAction(Dataset.scala:3685)\r\n\tat org.apache.spark.sql.Dataset.head(Dataset.scala:2722)\r\n\tat org.apache.spark.sql.Dataset.take(Dataset.scala:2929)\r\n\tat org.apache.spark.sql.Dataset.getRows(Dataset.scala:301)\r\n\tat org.apache.spark.sql.Dataset.showString(Dataset.scala:338)\r\n\tat java.base/jdk.internal.reflect.NativeMethodAccessorImpl.invoke0(Native Method)\r\n\tat java.base/jdk.internal.reflect.NativeMethodAccessorImpl.invoke(NativeMethodAccessorImpl.java:62)\r\n\tat java.base/jdk.internal.reflect.DelegatingMethodAccessorImpl.invoke(DelegatingMethodAccessorImpl.java:43)\r\n\tat java.base/java.lang.reflect.Method.invoke(Method.java:566)\r\n\tat py4j.reflection.MethodInvoker.invoke(MethodInvoker.java:244)\r\n\tat py4j.reflection.ReflectionEngine.invoke(ReflectionEngine.java:357)\r\n\tat py4j.Gateway.invoke(Gateway.java:282)\r\n\tat py4j.commands.AbstractCommand.invokeMethod(AbstractCommand.java:132)\r\n\tat py4j.commands.CallCommand.execute(CallCommand.java:79)\r\n\tat py4j.GatewayConnection.run(GatewayConnection.java:238)\r\n\tat java.base/java.lang.Thread.run(Thread.java:834)\r\nCaused by: java.io.IOException: Cannot run program \"python3\": CreateProcess error=2, Le fichier spécifié est introuvable\r\n\tat java.base/java.lang.ProcessBuilder.start(ProcessBuilder.java:1128)\r\n\tat java.base/java.lang.ProcessBuilder.start(ProcessBuilder.java:1071)\r\n\tat org.apache.spark.api.python.PythonWorkerFactory.createSimpleWorker(PythonWorkerFactory.scala:165)\r\n\tat org.apache.spark.api.python.PythonWorkerFactory.create(PythonWorkerFactory.scala:107)\r\n\tat org.apache.spark.SparkEnv.createPythonWorker(SparkEnv.scala:119)\r\n\tat org.apache.spark.api.python.BasePythonRunner.compute(PythonRunner.scala:145)\r\n\tat org.apache.spark.sql.execution.python.BatchEvalPythonExec.evaluate(BatchEvalPythonExec.scala:70)\r\n\tat org.apache.spark.sql.execution.python.EvalPythonExec.$anonfun$doExecute$2(EvalPythonExec.scala:130)\r\n\tat org.apache.spark.rdd.RDD.$anonfun$mapPartitions$2(RDD.scala:863)\r\n\tat org.apache.spark.rdd.RDD.$anonfun$mapPartitions$2$adapted(RDD.scala:863)\r\n\tat org.apache.spark.rdd.MapPartitionsRDD.compute(MapPartitionsRDD.scala:52)\r\n\tat org.apache.spark.rdd.RDD.computeOrReadCheckpoint(RDD.scala:373)\r\n\tat org.apache.spark.rdd.RDD.iterator(RDD.scala:337)\r\n\tat org.apache.spark.rdd.MapPartitionsRDD.compute(MapPartitionsRDD.scala:52)\r\n\tat org.apache.spark.rdd.RDD.computeOrReadCheckpoint(RDD.scala:373)\r\n\tat org.apache.spark.rdd.RDD.iterator(RDD.scala:337)\r\n\tat org.apache.spark.rdd.MapPartitionsRDD.compute(MapPartitionsRDD.scala:52)\r\n\tat org.apache.spark.rdd.RDD.computeOrReadCheckpoint(RDD.scala:373)\r\n\tat org.apache.spark.rdd.RDD.iterator(RDD.scala:337)\r\n\tat org.apache.spark.rdd.MapPartitionsRDD.compute(MapPartitionsRDD.scala:52)\r\n\tat org.apache.spark.rdd.RDD.computeOrReadCheckpoint(RDD.scala:373)\r\n\tat org.apache.spark.rdd.RDD.iterator(RDD.scala:337)\r\n\tat org.apache.spark.rdd.MapPartitionsRDD.compute(MapPartitionsRDD.scala:52)\r\n\tat org.apache.spark.rdd.RDD.computeOrReadCheckpoint(RDD.scala:373)\r\n\tat org.apache.spark.rdd.RDD.iterator(RDD.scala:337)\r\n\tat org.apache.spark.rdd.MapPartitionsRDD.compute(MapPartitionsRDD.scala:52)\r\n\tat org.apache.spark.rdd.RDD.computeOrReadCheckpoint(RDD.scala:373)\r\n\tat org.apache.spark.rdd.RDD.iterator(RDD.scala:337)\r\n\tat org.apache.spark.rdd.MapPartitionsRDD.compute(MapPartitionsRDD.scala:52)\r\n\tat org.apache.spark.rdd.RDD.computeOrReadCheckpoint(RDD.scala:373)\r\n\tat org.apache.spark.rdd.RDD.iterator(RDD.scala:337)\r\n\tat org.apache.spark.scheduler.ResultTask.runTask(ResultTask.scala:90)\r\n\tat org.apache.spark.scheduler.Task.run(Task.scala:131)\r\n\tat org.apache.spark.executor.Executor$TaskRunner.$anonfun$run$3(Executor.scala:497)\r\n\tat org.apache.spark.util.Utils$.tryWithSafeFinally(Utils.scala:1439)\r\n\tat org.apache.spark.executor.Executor$TaskRunner.run(Executor.scala:500)\r\n\tat java.base/java.util.concurrent.ThreadPoolExecutor.runWorker(ThreadPoolExecutor.java:1128)\r\n\tat java.base/java.util.concurrent.ThreadPoolExecutor$Worker.run(ThreadPoolExecutor.java:628)\r\n\t... 1 more\r\nCaused by: java.io.IOException: CreateProcess error=2, Le fichier spécifié est introuvable\r\n\tat java.base/java.lang.ProcessImpl.create(Native Method)\r\n\tat java.base/java.lang.ProcessImpl.<init>(ProcessImpl.java:478)\r\n\tat java.base/java.lang.ProcessImpl.start(ProcessImpl.java:154)\r\n\tat java.base/java.lang.ProcessBuilder.start(ProcessBuilder.java:1107)\r\n\t... 38 more\r\n",
     "traceback": [
      "\u001b[1;31m---------------------------------------------------------------------------\u001b[0m",
      "\u001b[1;31mPy4JJavaError\u001b[0m                             Traceback (most recent call last)",
      "\u001b[1;32m<ipython-input-9-8ed19859781b>\u001b[0m in \u001b[0;36m<module>\u001b[1;34m\u001b[0m\n\u001b[0;32m      3\u001b[0m \u001b[1;33m\u001b[0m\u001b[0m\n\u001b[0;32m      4\u001b[0m \u001b[1;31m#Tokenizer\u001b[0m\u001b[1;33m\u001b[0m\u001b[1;33m\u001b[0m\u001b[1;33m\u001b[0m\u001b[0m\n\u001b[1;32m----> 5\u001b[1;33m \u001b[0mexp_words\u001b[0m\u001b[1;33m.\u001b[0m\u001b[0mselect\u001b[0m\u001b[1;33m(\u001b[0m\u001b[1;34m'text'\u001b[0m\u001b[1;33m,\u001b[0m \u001b[1;34m'word'\u001b[0m\u001b[1;33m)\u001b[0m\u001b[1;33m.\u001b[0m\u001b[0mshow\u001b[0m\u001b[1;33m(\u001b[0m\u001b[1;36m4\u001b[0m\u001b[1;33m)\u001b[0m\u001b[1;33m\u001b[0m\u001b[1;33m\u001b[0m\u001b[0m\n\u001b[0m\u001b[0;32m      6\u001b[0m \u001b[1;33m\u001b[0m\u001b[0m\n\u001b[0;32m      7\u001b[0m \u001b[0mexp_words\u001b[0m\u001b[1;33m.\u001b[0m\u001b[0mcreateOrReplaceTempView\u001b[0m\u001b[1;33m(\u001b[0m\u001b[1;34m\"words\"\u001b[0m\u001b[1;33m)\u001b[0m\u001b[1;33m\u001b[0m\u001b[1;33m\u001b[0m\u001b[0m\n",
      "\u001b[1;32mC:\\Program Files\\spark\\spark-3.1.1-bin-hadoop2.7\\python\\pyspark\\sql\\dataframe.py\u001b[0m in \u001b[0;36mshow\u001b[1;34m(self, n, truncate, vertical)\u001b[0m\n\u001b[0;32m    482\u001b[0m         \"\"\"\n\u001b[0;32m    483\u001b[0m         \u001b[1;32mif\u001b[0m \u001b[0misinstance\u001b[0m\u001b[1;33m(\u001b[0m\u001b[0mtruncate\u001b[0m\u001b[1;33m,\u001b[0m \u001b[0mbool\u001b[0m\u001b[1;33m)\u001b[0m \u001b[1;32mand\u001b[0m \u001b[0mtruncate\u001b[0m\u001b[1;33m:\u001b[0m\u001b[1;33m\u001b[0m\u001b[1;33m\u001b[0m\u001b[0m\n\u001b[1;32m--> 484\u001b[1;33m             \u001b[0mprint\u001b[0m\u001b[1;33m(\u001b[0m\u001b[0mself\u001b[0m\u001b[1;33m.\u001b[0m\u001b[0m_jdf\u001b[0m\u001b[1;33m.\u001b[0m\u001b[0mshowString\u001b[0m\u001b[1;33m(\u001b[0m\u001b[0mn\u001b[0m\u001b[1;33m,\u001b[0m \u001b[1;36m20\u001b[0m\u001b[1;33m,\u001b[0m \u001b[0mvertical\u001b[0m\u001b[1;33m)\u001b[0m\u001b[1;33m)\u001b[0m\u001b[1;33m\u001b[0m\u001b[1;33m\u001b[0m\u001b[0m\n\u001b[0m\u001b[0;32m    485\u001b[0m         \u001b[1;32melse\u001b[0m\u001b[1;33m:\u001b[0m\u001b[1;33m\u001b[0m\u001b[1;33m\u001b[0m\u001b[0m\n\u001b[0;32m    486\u001b[0m             \u001b[0mprint\u001b[0m\u001b[1;33m(\u001b[0m\u001b[0mself\u001b[0m\u001b[1;33m.\u001b[0m\u001b[0m_jdf\u001b[0m\u001b[1;33m.\u001b[0m\u001b[0mshowString\u001b[0m\u001b[1;33m(\u001b[0m\u001b[0mn\u001b[0m\u001b[1;33m,\u001b[0m \u001b[0mint\u001b[0m\u001b[1;33m(\u001b[0m\u001b[0mtruncate\u001b[0m\u001b[1;33m)\u001b[0m\u001b[1;33m,\u001b[0m \u001b[0mvertical\u001b[0m\u001b[1;33m)\u001b[0m\u001b[1;33m)\u001b[0m\u001b[1;33m\u001b[0m\u001b[1;33m\u001b[0m\u001b[0m\n",
      "\u001b[1;32m~\\AppData\\Local\\Programs\\Python\\Python39\\lib\\site-packages\\py4j\\java_gateway.py\u001b[0m in \u001b[0;36m__call__\u001b[1;34m(self, *args)\u001b[0m\n\u001b[0;32m   1302\u001b[0m \u001b[1;33m\u001b[0m\u001b[0m\n\u001b[0;32m   1303\u001b[0m         \u001b[0manswer\u001b[0m \u001b[1;33m=\u001b[0m \u001b[0mself\u001b[0m\u001b[1;33m.\u001b[0m\u001b[0mgateway_client\u001b[0m\u001b[1;33m.\u001b[0m\u001b[0msend_command\u001b[0m\u001b[1;33m(\u001b[0m\u001b[0mcommand\u001b[0m\u001b[1;33m)\u001b[0m\u001b[1;33m\u001b[0m\u001b[1;33m\u001b[0m\u001b[0m\n\u001b[1;32m-> 1304\u001b[1;33m         return_value = get_return_value(\n\u001b[0m\u001b[0;32m   1305\u001b[0m             answer, self.gateway_client, self.target_id, self.name)\n\u001b[0;32m   1306\u001b[0m \u001b[1;33m\u001b[0m\u001b[0m\n",
      "\u001b[1;32mC:\\Program Files\\spark\\spark-3.1.1-bin-hadoop2.7\\python\\pyspark\\sql\\utils.py\u001b[0m in \u001b[0;36mdeco\u001b[1;34m(*a, **kw)\u001b[0m\n\u001b[0;32m    109\u001b[0m     \u001b[1;32mdef\u001b[0m \u001b[0mdeco\u001b[0m\u001b[1;33m(\u001b[0m\u001b[1;33m*\u001b[0m\u001b[0ma\u001b[0m\u001b[1;33m,\u001b[0m \u001b[1;33m**\u001b[0m\u001b[0mkw\u001b[0m\u001b[1;33m)\u001b[0m\u001b[1;33m:\u001b[0m\u001b[1;33m\u001b[0m\u001b[1;33m\u001b[0m\u001b[0m\n\u001b[0;32m    110\u001b[0m         \u001b[1;32mtry\u001b[0m\u001b[1;33m:\u001b[0m\u001b[1;33m\u001b[0m\u001b[1;33m\u001b[0m\u001b[0m\n\u001b[1;32m--> 111\u001b[1;33m             \u001b[1;32mreturn\u001b[0m \u001b[0mf\u001b[0m\u001b[1;33m(\u001b[0m\u001b[1;33m*\u001b[0m\u001b[0ma\u001b[0m\u001b[1;33m,\u001b[0m \u001b[1;33m**\u001b[0m\u001b[0mkw\u001b[0m\u001b[1;33m)\u001b[0m\u001b[1;33m\u001b[0m\u001b[1;33m\u001b[0m\u001b[0m\n\u001b[0m\u001b[0;32m    112\u001b[0m         \u001b[1;32mexcept\u001b[0m \u001b[0mpy4j\u001b[0m\u001b[1;33m.\u001b[0m\u001b[0mprotocol\u001b[0m\u001b[1;33m.\u001b[0m\u001b[0mPy4JJavaError\u001b[0m \u001b[1;32mas\u001b[0m \u001b[0me\u001b[0m\u001b[1;33m:\u001b[0m\u001b[1;33m\u001b[0m\u001b[1;33m\u001b[0m\u001b[0m\n\u001b[0;32m    113\u001b[0m             \u001b[0mconverted\u001b[0m \u001b[1;33m=\u001b[0m \u001b[0mconvert_exception\u001b[0m\u001b[1;33m(\u001b[0m\u001b[0me\u001b[0m\u001b[1;33m.\u001b[0m\u001b[0mjava_exception\u001b[0m\u001b[1;33m)\u001b[0m\u001b[1;33m\u001b[0m\u001b[1;33m\u001b[0m\u001b[0m\n",
      "\u001b[1;32m~\\AppData\\Local\\Programs\\Python\\Python39\\lib\\site-packages\\py4j\\protocol.py\u001b[0m in \u001b[0;36mget_return_value\u001b[1;34m(answer, gateway_client, target_id, name)\u001b[0m\n\u001b[0;32m    324\u001b[0m             \u001b[0mvalue\u001b[0m \u001b[1;33m=\u001b[0m \u001b[0mOUTPUT_CONVERTER\u001b[0m\u001b[1;33m[\u001b[0m\u001b[0mtype\u001b[0m\u001b[1;33m]\u001b[0m\u001b[1;33m(\u001b[0m\u001b[0manswer\u001b[0m\u001b[1;33m[\u001b[0m\u001b[1;36m2\u001b[0m\u001b[1;33m:\u001b[0m\u001b[1;33m]\u001b[0m\u001b[1;33m,\u001b[0m \u001b[0mgateway_client\u001b[0m\u001b[1;33m)\u001b[0m\u001b[1;33m\u001b[0m\u001b[1;33m\u001b[0m\u001b[0m\n\u001b[0;32m    325\u001b[0m             \u001b[1;32mif\u001b[0m \u001b[0manswer\u001b[0m\u001b[1;33m[\u001b[0m\u001b[1;36m1\u001b[0m\u001b[1;33m]\u001b[0m \u001b[1;33m==\u001b[0m \u001b[0mREFERENCE_TYPE\u001b[0m\u001b[1;33m:\u001b[0m\u001b[1;33m\u001b[0m\u001b[1;33m\u001b[0m\u001b[0m\n\u001b[1;32m--> 326\u001b[1;33m                 raise Py4JJavaError(\n\u001b[0m\u001b[0;32m    327\u001b[0m                     \u001b[1;34m\"An error occurred while calling {0}{1}{2}.\\n\"\u001b[0m\u001b[1;33m.\u001b[0m\u001b[1;33m\u001b[0m\u001b[1;33m\u001b[0m\u001b[0m\n\u001b[0;32m    328\u001b[0m                     format(target_id, \".\", name), value)\n",
      "\u001b[1;31mPy4JJavaError\u001b[0m: An error occurred while calling o90.showString.\n: org.apache.spark.SparkException: Job aborted due to stage failure: Task 0 in stage 4.0 failed 1 times, most recent failure: Lost task 0.0 in stage 4.0 (TID 50) (LAPTOP-G4N120DU executor driver): java.io.IOException: Cannot run program \"python3\": CreateProcess error=2, Le fichier spécifié est introuvable\r\n\tat java.base/java.lang.ProcessBuilder.start(ProcessBuilder.java:1128)\r\n\tat java.base/java.lang.ProcessBuilder.start(ProcessBuilder.java:1071)\r\n\tat org.apache.spark.api.python.PythonWorkerFactory.createSimpleWorker(PythonWorkerFactory.scala:165)\r\n\tat org.apache.spark.api.python.PythonWorkerFactory.create(PythonWorkerFactory.scala:107)\r\n\tat org.apache.spark.SparkEnv.createPythonWorker(SparkEnv.scala:119)\r\n\tat org.apache.spark.api.python.BasePythonRunner.compute(PythonRunner.scala:145)\r\n\tat org.apache.spark.sql.execution.python.BatchEvalPythonExec.evaluate(BatchEvalPythonExec.scala:70)\r\n\tat org.apache.spark.sql.execution.python.EvalPythonExec.$anonfun$doExecute$2(EvalPythonExec.scala:130)\r\n\tat org.apache.spark.rdd.RDD.$anonfun$mapPartitions$2(RDD.scala:863)\r\n\tat org.apache.spark.rdd.RDD.$anonfun$mapPartitions$2$adapted(RDD.scala:863)\r\n\tat org.apache.spark.rdd.MapPartitionsRDD.compute(MapPartitionsRDD.scala:52)\r\n\tat org.apache.spark.rdd.RDD.computeOrReadCheckpoint(RDD.scala:373)\r\n\tat org.apache.spark.rdd.RDD.iterator(RDD.scala:337)\r\n\tat org.apache.spark.rdd.MapPartitionsRDD.compute(MapPartitionsRDD.scala:52)\r\n\tat org.apache.spark.rdd.RDD.computeOrReadCheckpoint(RDD.scala:373)\r\n\tat org.apache.spark.rdd.RDD.iterator(RDD.scala:337)\r\n\tat org.apache.spark.rdd.MapPartitionsRDD.compute(MapPartitionsRDD.scala:52)\r\n\tat org.apache.spark.rdd.RDD.computeOrReadCheckpoint(RDD.scala:373)\r\n\tat org.apache.spark.rdd.RDD.iterator(RDD.scala:337)\r\n\tat org.apache.spark.rdd.MapPartitionsRDD.compute(MapPartitionsRDD.scala:52)\r\n\tat org.apache.spark.rdd.RDD.computeOrReadCheckpoint(RDD.scala:373)\r\n\tat org.apache.spark.rdd.RDD.iterator(RDD.scala:337)\r\n\tat org.apache.spark.rdd.MapPartitionsRDD.compute(MapPartitionsRDD.scala:52)\r\n\tat org.apache.spark.rdd.RDD.computeOrReadCheckpoint(RDD.scala:373)\r\n\tat org.apache.spark.rdd.RDD.iterator(RDD.scala:337)\r\n\tat org.apache.spark.rdd.MapPartitionsRDD.compute(MapPartitionsRDD.scala:52)\r\n\tat org.apache.spark.rdd.RDD.computeOrReadCheckpoint(RDD.scala:373)\r\n\tat org.apache.spark.rdd.RDD.iterator(RDD.scala:337)\r\n\tat org.apache.spark.rdd.MapPartitionsRDD.compute(MapPartitionsRDD.scala:52)\r\n\tat org.apache.spark.rdd.RDD.computeOrReadCheckpoint(RDD.scala:373)\r\n\tat org.apache.spark.rdd.RDD.iterator(RDD.scala:337)\r\n\tat org.apache.spark.scheduler.ResultTask.runTask(ResultTask.scala:90)\r\n\tat org.apache.spark.scheduler.Task.run(Task.scala:131)\r\n\tat org.apache.spark.executor.Executor$TaskRunner.$anonfun$run$3(Executor.scala:497)\r\n\tat org.apache.spark.util.Utils$.tryWithSafeFinally(Utils.scala:1439)\r\n\tat org.apache.spark.executor.Executor$TaskRunner.run(Executor.scala:500)\r\n\tat java.base/java.util.concurrent.ThreadPoolExecutor.runWorker(ThreadPoolExecutor.java:1128)\r\n\tat java.base/java.util.concurrent.ThreadPoolExecutor$Worker.run(ThreadPoolExecutor.java:628)\r\n\tat java.base/java.lang.Thread.run(Thread.java:834)\r\nCaused by: java.io.IOException: CreateProcess error=2, Le fichier spécifié est introuvable\r\n\tat java.base/java.lang.ProcessImpl.create(Native Method)\r\n\tat java.base/java.lang.ProcessImpl.<init>(ProcessImpl.java:478)\r\n\tat java.base/java.lang.ProcessImpl.start(ProcessImpl.java:154)\r\n\tat java.base/java.lang.ProcessBuilder.start(ProcessBuilder.java:1107)\r\n\t... 38 more\r\n\nDriver stacktrace:\r\n\tat org.apache.spark.scheduler.DAGScheduler.failJobAndIndependentStages(DAGScheduler.scala:2253)\r\n\tat org.apache.spark.scheduler.DAGScheduler.$anonfun$abortStage$2(DAGScheduler.scala:2202)\r\n\tat org.apache.spark.scheduler.DAGScheduler.$anonfun$abortStage$2$adapted(DAGScheduler.scala:2201)\r\n\tat scala.collection.mutable.ResizableArray.foreach(ResizableArray.scala:62)\r\n\tat scala.collection.mutable.ResizableArray.foreach$(ResizableArray.scala:55)\r\n\tat scala.collection.mutable.ArrayBuffer.foreach(ArrayBuffer.scala:49)\r\n\tat org.apache.spark.scheduler.DAGScheduler.abortStage(DAGScheduler.scala:2201)\r\n\tat org.apache.spark.scheduler.DAGScheduler.$anonfun$handleTaskSetFailed$1(DAGScheduler.scala:1078)\r\n\tat org.apache.spark.scheduler.DAGScheduler.$anonfun$handleTaskSetFailed$1$adapted(DAGScheduler.scala:1078)\r\n\tat scala.Option.foreach(Option.scala:407)\r\n\tat org.apache.spark.scheduler.DAGScheduler.handleTaskSetFailed(DAGScheduler.scala:1078)\r\n\tat org.apache.spark.scheduler.DAGSchedulerEventProcessLoop.doOnReceive(DAGScheduler.scala:2440)\r\n\tat org.apache.spark.scheduler.DAGSchedulerEventProcessLoop.onReceive(DAGScheduler.scala:2382)\r\n\tat org.apache.spark.scheduler.DAGSchedulerEventProcessLoop.onReceive(DAGScheduler.scala:2371)\r\n\tat org.apache.spark.util.EventLoop$$anon$1.run(EventLoop.scala:49)\r\n\tat org.apache.spark.scheduler.DAGScheduler.runJob(DAGScheduler.scala:868)\r\n\tat org.apache.spark.SparkContext.runJob(SparkContext.scala:2202)\r\n\tat org.apache.spark.SparkContext.runJob(SparkContext.scala:2223)\r\n\tat org.apache.spark.SparkContext.runJob(SparkContext.scala:2242)\r\n\tat org.apache.spark.sql.execution.SparkPlan.executeTake(SparkPlan.scala:472)\r\n\tat org.apache.spark.sql.execution.SparkPlan.executeTake(SparkPlan.scala:425)\r\n\tat org.apache.spark.sql.execution.CollectLimitExec.executeCollect(limit.scala:47)\r\n\tat org.apache.spark.sql.Dataset.collectFromPlan(Dataset.scala:3696)\r\n\tat org.apache.spark.sql.Dataset.$anonfun$head$1(Dataset.scala:2722)\r\n\tat org.apache.spark.sql.Dataset.$anonfun$withAction$1(Dataset.scala:3687)\r\n\tat org.apache.spark.sql.execution.SQLExecution$.$anonfun$withNewExecutionId$5(SQLExecution.scala:103)\r\n\tat org.apache.spark.sql.execution.SQLExecution$.withSQLConfPropagated(SQLExecution.scala:163)\r\n\tat org.apache.spark.sql.execution.SQLExecution$.$anonfun$withNewExecutionId$1(SQLExecution.scala:90)\r\n\tat org.apache.spark.sql.SparkSession.withActive(SparkSession.scala:772)\r\n\tat org.apache.spark.sql.execution.SQLExecution$.withNewExecutionId(SQLExecution.scala:64)\r\n\tat org.apache.spark.sql.Dataset.withAction(Dataset.scala:3685)\r\n\tat org.apache.spark.sql.Dataset.head(Dataset.scala:2722)\r\n\tat org.apache.spark.sql.Dataset.take(Dataset.scala:2929)\r\n\tat org.apache.spark.sql.Dataset.getRows(Dataset.scala:301)\r\n\tat org.apache.spark.sql.Dataset.showString(Dataset.scala:338)\r\n\tat java.base/jdk.internal.reflect.NativeMethodAccessorImpl.invoke0(Native Method)\r\n\tat java.base/jdk.internal.reflect.NativeMethodAccessorImpl.invoke(NativeMethodAccessorImpl.java:62)\r\n\tat java.base/jdk.internal.reflect.DelegatingMethodAccessorImpl.invoke(DelegatingMethodAccessorImpl.java:43)\r\n\tat java.base/java.lang.reflect.Method.invoke(Method.java:566)\r\n\tat py4j.reflection.MethodInvoker.invoke(MethodInvoker.java:244)\r\n\tat py4j.reflection.ReflectionEngine.invoke(ReflectionEngine.java:357)\r\n\tat py4j.Gateway.invoke(Gateway.java:282)\r\n\tat py4j.commands.AbstractCommand.invokeMethod(AbstractCommand.java:132)\r\n\tat py4j.commands.CallCommand.execute(CallCommand.java:79)\r\n\tat py4j.GatewayConnection.run(GatewayConnection.java:238)\r\n\tat java.base/java.lang.Thread.run(Thread.java:834)\r\nCaused by: java.io.IOException: Cannot run program \"python3\": CreateProcess error=2, Le fichier spécifié est introuvable\r\n\tat java.base/java.lang.ProcessBuilder.start(ProcessBuilder.java:1128)\r\n\tat java.base/java.lang.ProcessBuilder.start(ProcessBuilder.java:1071)\r\n\tat org.apache.spark.api.python.PythonWorkerFactory.createSimpleWorker(PythonWorkerFactory.scala:165)\r\n\tat org.apache.spark.api.python.PythonWorkerFactory.create(PythonWorkerFactory.scala:107)\r\n\tat org.apache.spark.SparkEnv.createPythonWorker(SparkEnv.scala:119)\r\n\tat org.apache.spark.api.python.BasePythonRunner.compute(PythonRunner.scala:145)\r\n\tat org.apache.spark.sql.execution.python.BatchEvalPythonExec.evaluate(BatchEvalPythonExec.scala:70)\r\n\tat org.apache.spark.sql.execution.python.EvalPythonExec.$anonfun$doExecute$2(EvalPythonExec.scala:130)\r\n\tat org.apache.spark.rdd.RDD.$anonfun$mapPartitions$2(RDD.scala:863)\r\n\tat org.apache.spark.rdd.RDD.$anonfun$mapPartitions$2$adapted(RDD.scala:863)\r\n\tat org.apache.spark.rdd.MapPartitionsRDD.compute(MapPartitionsRDD.scala:52)\r\n\tat org.apache.spark.rdd.RDD.computeOrReadCheckpoint(RDD.scala:373)\r\n\tat org.apache.spark.rdd.RDD.iterator(RDD.scala:337)\r\n\tat org.apache.spark.rdd.MapPartitionsRDD.compute(MapPartitionsRDD.scala:52)\r\n\tat org.apache.spark.rdd.RDD.computeOrReadCheckpoint(RDD.scala:373)\r\n\tat org.apache.spark.rdd.RDD.iterator(RDD.scala:337)\r\n\tat org.apache.spark.rdd.MapPartitionsRDD.compute(MapPartitionsRDD.scala:52)\r\n\tat org.apache.spark.rdd.RDD.computeOrReadCheckpoint(RDD.scala:373)\r\n\tat org.apache.spark.rdd.RDD.iterator(RDD.scala:337)\r\n\tat org.apache.spark.rdd.MapPartitionsRDD.compute(MapPartitionsRDD.scala:52)\r\n\tat org.apache.spark.rdd.RDD.computeOrReadCheckpoint(RDD.scala:373)\r\n\tat org.apache.spark.rdd.RDD.iterator(RDD.scala:337)\r\n\tat org.apache.spark.rdd.MapPartitionsRDD.compute(MapPartitionsRDD.scala:52)\r\n\tat org.apache.spark.rdd.RDD.computeOrReadCheckpoint(RDD.scala:373)\r\n\tat org.apache.spark.rdd.RDD.iterator(RDD.scala:337)\r\n\tat org.apache.spark.rdd.MapPartitionsRDD.compute(MapPartitionsRDD.scala:52)\r\n\tat org.apache.spark.rdd.RDD.computeOrReadCheckpoint(RDD.scala:373)\r\n\tat org.apache.spark.rdd.RDD.iterator(RDD.scala:337)\r\n\tat org.apache.spark.rdd.MapPartitionsRDD.compute(MapPartitionsRDD.scala:52)\r\n\tat org.apache.spark.rdd.RDD.computeOrReadCheckpoint(RDD.scala:373)\r\n\tat org.apache.spark.rdd.RDD.iterator(RDD.scala:337)\r\n\tat org.apache.spark.scheduler.ResultTask.runTask(ResultTask.scala:90)\r\n\tat org.apache.spark.scheduler.Task.run(Task.scala:131)\r\n\tat org.apache.spark.executor.Executor$TaskRunner.$anonfun$run$3(Executor.scala:497)\r\n\tat org.apache.spark.util.Utils$.tryWithSafeFinally(Utils.scala:1439)\r\n\tat org.apache.spark.executor.Executor$TaskRunner.run(Executor.scala:500)\r\n\tat java.base/java.util.concurrent.ThreadPoolExecutor.runWorker(ThreadPoolExecutor.java:1128)\r\n\tat java.base/java.util.concurrent.ThreadPoolExecutor$Worker.run(ThreadPoolExecutor.java:628)\r\n\t... 1 more\r\nCaused by: java.io.IOException: CreateProcess error=2, Le fichier spécifié est introuvable\r\n\tat java.base/java.lang.ProcessImpl.create(Native Method)\r\n\tat java.base/java.lang.ProcessImpl.<init>(ProcessImpl.java:478)\r\n\tat java.base/java.lang.ProcessImpl.start(ProcessImpl.java:154)\r\n\tat java.base/java.lang.ProcessBuilder.start(ProcessBuilder.java:1107)\r\n\t... 38 more\r\n"
     ]
    }
   ],
   "source": [
    "exp_words = clean_word_tokens.withColumn('word', f.explode('words'))\\\n",
    "                             .drop('words')\n",
    "                 \n",
    "#Tokenizer\n",
    "exp_words.select('text', 'word').show(4)\n",
    "\n",
    "exp_words.createOrReplaceTempView(\"words\")\n",
    "\n"
   ]
  },
  {
   "cell_type": "markdown",
   "metadata": {},
   "source": [
    "#### Getting most frequent words in a given period of time using SPARK SQL:"
   ]
  },
  {
   "cell_type": "code",
   "execution_count": 40,
   "metadata": {},
   "outputs": [],
   "source": [
    "def FreqWords(ts1, ts2, table = \"words\"):\n",
    "\n",
    "    sqlDF = spark.sql(\"SELECT word, count(*) AS word_count \" + \n",
    "                      \"FROM {} \".format(table) + \n",
    "                      \"WHERE {0}.timestamp_ms BETWEEN {1} AND {2} \".format(table, ts1, ts2)+ \n",
    "                      \"GROUP BY word \" + \n",
    "                      \"ORDER BY word_count DESC\")\n",
    "    sqlDF.show(10)\n",
    "    return sqlDF"
   ]
  },
  {
   "cell_type": "code",
   "execution_count": 41,
   "metadata": {},
   "outputs": [
    {
     "name": "stdout",
     "output_type": "stream",
     "text": [
      "+-----+----------+\n",
      "| word|word_count|\n",
      "+-----+----------+\n",
      "|  the|        13|\n",
      "|https|         7|\n",
      "|  you|         6|\n",
      "| this|         6|\n",
      "|  for|         4|\n",
      "|  can|         4|\n",
      "| make|         3|\n",
      "| need|         3|\n",
      "|  not|         2|\n",
      "| rare|         2|\n",
      "+-----+----------+\n",
      "only showing top 10 rows\n",
      "\n",
      "time spent computing: 5.339\n"
     ]
    }
   ],
   "source": [
    "ts1 = 1580770795658\n",
    "ts2 = 1580770796665\n",
    "\n",
    "\n",
    "t1 = time.time()\n",
    "FreqWords(ts1, ts2, table = \"words\")\n",
    "t2 = time.time()\n",
    "\n",
    "print(\"time spent computing: {:.4g}\".format(t2-t1))"
   ]
  },
  {
   "cell_type": "markdown",
   "metadata": {},
   "source": [
    "#### Getting most frequent words in a given period of time using SPARK only:"
   ]
  },
  {
   "cell_type": "code",
   "execution_count": 42,
   "metadata": {},
   "outputs": [
    {
     "name": "stdout",
     "output_type": "stream",
     "text": [
      "+-----+-----+\n",
      "| word|count|\n",
      "+-----+-----+\n",
      "|  the|   13|\n",
      "|https|    7|\n",
      "|  you|    6|\n",
      "| this|    6|\n",
      "|  for|    4|\n",
      "|  can|    4|\n",
      "| make|    3|\n",
      "| need|    3|\n",
      "| rare|    2|\n",
      "|  not|    2|\n",
      "+-----+-----+\n",
      "only showing top 10 rows\n",
      "\n",
      "time spent computing: 5.297\n"
     ]
    }
   ],
   "source": [
    "ts1 = 1580770795658\n",
    "ts2 = 1580770796665\n",
    "\n",
    "## Timing the operation:\n",
    "t1 = time.time()\n",
    "\n",
    "exp_words.filter(f.col('timestamp_ms').between(ts1, ts2) )\\\n",
    "         .groupBy('word') \\\n",
    "         .count() \\\n",
    "         .sort('count', ascending=False) \\\n",
    "         .show(10)\n",
    "\n",
    "t2 = time.time()\n",
    "\n",
    "#         .filter(length(col(\"word\")) >= 3)\\\n",
    "\n",
    "print(\"time spent computing: {:.4g}\".format(t2-t1))"
   ]
  },
  {
   "cell_type": "markdown",
   "metadata": {},
   "source": [
    "##### Conclusion:\n",
    "\n",
    "We can see that both methods are equivalent in computing time and yield to the same results. Choosing between both is just a question of taste. We Personally prefer **SQL** querying."
   ]
  },
  {
   "cell_type": "markdown",
   "metadata": {},
   "source": [
    "### Exercise 2"
   ]
  },
  {
   "cell_type": "markdown",
   "metadata": {},
   "source": [
    "#### Removing stop words:"
   ]
  },
  {
   "cell_type": "code",
   "execution_count": 43,
   "metadata": {},
   "outputs": [
    {
     "name": "stdout",
     "output_type": "stream",
     "text": [
      "+-----------------------------------------------------------------------------------------------------------+\n",
      "|filtered                                                                                                   |\n",
      "+-----------------------------------------------------------------------------------------------------------+\n",
      "|[@theythemsbian, brave]                                                                                    |\n",
      "|[@camillediola, duterte, violated, law, appointing, honasan,, background,, head, dict, shrugged,, pointing]|\n",
      "|[@tinyseokjinnie, lol, bored, dypgt]                                                                       |\n",
      "|[@ibesuckafree, suck, quitting, weed, argument, amp, gettin]                                               |\n",
      "|[@mikebloomberg, donald, trump, bring, change, country, #superbowl, vciycilow]                             |\n",
      "+-----------------------------------------------------------------------------------------------------------+\n",
      "only showing top 5 rows\n",
      "\n"
     ]
    }
   ],
   "source": [
    "# Removing the stopwords from the array of strings\n",
    "sc = spark.sparkContext\n",
    "broadcastVar = sc.broadcast(stopWords)\n",
    "broadcastVar.value\n",
    "\n",
    "remover = StopWordsRemover(inputCol=\"words\", outputCol=\"filtered\", stopWords=broadcastVar.value)\n",
    "words_f = remover.transform(clean_word_tokens)\n",
    "words_f = words_f.drop('words_t', 'words')\n",
    "\n",
    "words_f.select('filtered').show(5, False)"
   ]
  },
  {
   "cell_type": "code",
   "execution_count": 44,
   "metadata": {},
   "outputs": [
    {
     "data": {
      "text/plain": [
       "['truncated', 'user', 'withheld_in_countries', 'text', 'filtered']"
      ]
     },
     "execution_count": 44,
     "metadata": {},
     "output_type": "execute_result"
    }
   ],
   "source": [
    "words_f.columns[-5:]"
   ]
  },
  {
   "cell_type": "markdown",
   "metadata": {},
   "source": [
    "#### Creating the view words_filtered:"
   ]
  },
  {
   "cell_type": "code",
   "execution_count": 45,
   "metadata": {},
   "outputs": [
    {
     "name": "stdout",
     "output_type": "stream",
     "text": [
      "+---------------------------------------------------------+--------------+\n",
      "|text                                                     |word          |\n",
      "+---------------------------------------------------------+--------------+\n",
      "|@theythemsbian thank you for being brave enough to say it|@theythemsbian|\n",
      "+---------------------------------------------------------+--------------+\n",
      "only showing top 1 row\n",
      "\n"
     ]
    }
   ],
   "source": [
    "exp_words_f = words_f.withColumn('word', f.explode('filtered'))#\\\n",
    "                     #.drop('filtered')\n",
    "#.drop('filtered')???\n",
    "\n",
    "exp_words_f.select('text', 'word').show(1, False)\n",
    "\n",
    "exp_words_f.createOrReplaceTempView(\"words_filtered\")"
   ]
  },
  {
   "cell_type": "code",
   "execution_count": 46,
   "metadata": {},
   "outputs": [
    {
     "data": {
      "text/plain": [
       "['user', 'withheld_in_countries', 'text', 'filtered', 'word']"
      ]
     },
     "execution_count": 46,
     "metadata": {},
     "output_type": "execute_result"
    }
   ],
   "source": [
    "exp_words_f.columns[-5:]"
   ]
  },
  {
   "cell_type": "markdown",
   "metadata": {},
   "source": [
    "#### Getting most frequent words in a given period of time after filtering using SPARK SQL:"
   ]
  },
  {
   "cell_type": "code",
   "execution_count": 47,
   "metadata": {},
   "outputs": [
    {
     "name": "stdout",
     "output_type": "stream",
     "text": [
      "+-------------+----------+\n",
      "|         word|word_count|\n",
      "+-------------+----------+\n",
      "|          pro|         2|\n",
      "|         rare|         2|\n",
      "|         rush|         2|\n",
      "|          amp|         2|\n",
      "|         fuck|         2|\n",
      "|    @yungcalc|         1|\n",
      "|    @santeira|         1|\n",
      "|        paral|         1|\n",
      "|@chqmbiedolan|         1|\n",
      "|     whaaaaat|         1|\n",
      "+-------------+----------+\n",
      "only showing top 10 rows\n",
      "\n",
      "time spent computing: 5.306\n"
     ]
    }
   ],
   "source": [
    "ts1 = 1580770795658\n",
    "ts2 = 1580770796665\n",
    "\n",
    "\n",
    "t1 = time.time()\n",
    "FreqWords(ts1, ts2, table = \"words_filtered\")\n",
    "t2 = time.time()\n",
    "\n",
    "print(\"time spent computing: {:.4g}\".format(t2-t1))"
   ]
  },
  {
   "cell_type": "markdown",
   "metadata": {},
   "source": [
    "### Exercise 3"
   ]
  },
  {
   "cell_type": "code",
   "execution_count": 17,
   "metadata": {},
   "outputs": [
    {
     "name": "stdout",
     "output_type": "stream",
     "text": [
      "+----------------+-----+\n",
      "|            word|count|\n",
      "+----------------+-----+\n",
      "|             don| 7919|\n",
      "|             amp| 7470|\n",
      "|          people| 6621|\n",
      "|            love| 6304|\n",
      "|            time| 5231|\n",
      "|             day| 4775|\n",
      "|           trump| 4621|\n",
      "|            good| 4434|\n",
      "|           today| 3708|\n",
      "|            iowa| 3488|\n",
      "|            shit| 3213|\n",
      "|             man| 3156|\n",
      "|            life| 2527|\n",
      "|           happy| 2424|\n",
      "|            fuck| 2337|\n",
      "|            year| 2273|\n",
      "|           years| 2206|\n",
      "|           black| 2127|\n",
      "|@realdonaldtrump| 2107|\n",
      "|           great| 2065|\n",
      "+----------------+-----+\n",
      "only showing top 20 rows\n",
      "\n"
     ]
    }
   ],
   "source": [
    "exp_words_f.filter(\"(timestamp_ms / 1000 / 60 / 60  % 24 )>= 20\") \\\n",
    "           .groupBy('word') \\\n",
    "           .count() \\\n",
    "           .sort('count', ascending=False) \\\n",
    "           .show()"
   ]
  },
  {
   "source": [
    "### Exercise 4"
   ],
   "cell_type": "markdown",
   "metadata": {}
  },
  {
   "cell_type": "code",
   "execution_count": 13,
   "metadata": {},
   "outputs": [
    {
     "output_type": "stream",
     "name": "stdout",
     "text": [
      "+--------------------+--------------------+\n",
      "|               words|          created_at|\n",
      "+--------------------+--------------------+\n",
      "|[@theythemsbian, ...|Mon Feb 03 22:59:...|\n",
      "|[rt, @camillediol...|Mon Feb 03 22:59:...|\n",
      "|[rt, @tinyseokjin...|Mon Feb 03 22:59:...|\n",
      "|[rt, @ibesuckafre...|Mon Feb 03 22:59:...|\n",
      "|[rt, @mikebloombe...|Mon Feb 03 22:59:...|\n",
      "+--------------------+--------------------+\n",
      "only showing top 5 rows\n",
      "\n",
      "+--------------+--------------------+\n",
      "|          word|          created_at|\n",
      "+--------------+--------------------+\n",
      "|@theythemsbian|Mon Feb 03 22:59:...|\n",
      "|         thank|Mon Feb 03 22:59:...|\n",
      "|           you|Mon Feb 03 22:59:...|\n",
      "|           for|Mon Feb 03 22:59:...|\n",
      "|         being|Mon Feb 03 22:59:...|\n",
      "+--------------+--------------------+\n",
      "only showing top 5 rows\n",
      "\n",
      "+--------------+--------------------+\n",
      "|          word|          created_at|\n",
      "+--------------+--------------------+\n",
      "|@theythemsbian|Mon Feb 03 22:59:...|\n",
      "|         thank|Mon Feb 03 22:59:...|\n",
      "|           you|Mon Feb 03 22:59:...|\n",
      "|           for|Mon Feb 03 22:59:...|\n",
      "|         being|Mon Feb 03 22:59:...|\n",
      "+--------------+--------------------+\n",
      "only showing top 5 rows\n",
      "\n"
     ]
    }
   ],
   "source": [
    "from pyspark.sql import functions\n",
    "\n",
    "# Splitting the text column\n",
    "tweetsWords = data.withColumn(\"words\", functions.split(functions.lower(data[\"text\"]), \" |,\")).select(\"words\", \"created_at\")\n",
    "#|.|!|:|;|[|]|/|\\\\?|-\n",
    "tweetsWords.show(5)\n",
    "\n",
    "#Datasets with one row by word\n",
    "words = tweetsWords.withColumn(\"word\", functions.explode(tweetsWords[\"words\"])).select(\"word\", \"created_at\")\n",
    "words.show(5)\n",
    "\n",
    "#Removing blank words\n",
    "words_filtered = words.filter(\"word != ''\")\n",
    "words_filtered.show(5)"
   ]
  },
  {
   "cell_type": "code",
   "execution_count": 17,
   "metadata": {},
   "outputs": [
    {
     "output_type": "error",
     "ename": "Py4JJavaError",
     "evalue": "An error occurred while calling o315.showString.\n: org.apache.spark.SparkException: Job aborted due to stage failure: Task 0 in stage 10.0 failed 1 times, most recent failure: Lost task 0.0 in stage 10.0 (TID 56) (LAPTOP-G4N120DU executor driver): java.io.IOException: Cannot run program \"python3\": CreateProcess error=2, Le fichier spécifié est introuvable\r\n\tat java.base/java.lang.ProcessBuilder.start(ProcessBuilder.java:1128)\r\n\tat java.base/java.lang.ProcessBuilder.start(ProcessBuilder.java:1071)\r\n\tat org.apache.spark.api.python.PythonWorkerFactory.createSimpleWorker(PythonWorkerFactory.scala:165)\r\n\tat org.apache.spark.api.python.PythonWorkerFactory.create(PythonWorkerFactory.scala:107)\r\n\tat org.apache.spark.SparkEnv.createPythonWorker(SparkEnv.scala:119)\r\n\tat org.apache.spark.api.python.BasePythonRunner.compute(PythonRunner.scala:145)\r\n\tat org.apache.spark.sql.execution.python.BatchEvalPythonExec.evaluate(BatchEvalPythonExec.scala:70)\r\n\tat org.apache.spark.sql.execution.python.EvalPythonExec.$anonfun$doExecute$2(EvalPythonExec.scala:130)\r\n\tat org.apache.spark.rdd.RDD.$anonfun$mapPartitions$2(RDD.scala:863)\r\n\tat org.apache.spark.rdd.RDD.$anonfun$mapPartitions$2$adapted(RDD.scala:863)\r\n\tat org.apache.spark.rdd.MapPartitionsRDD.compute(MapPartitionsRDD.scala:52)\r\n\tat org.apache.spark.rdd.RDD.computeOrReadCheckpoint(RDD.scala:373)\r\n\tat org.apache.spark.rdd.RDD.iterator(RDD.scala:337)\r\n\tat org.apache.spark.rdd.MapPartitionsRDD.compute(MapPartitionsRDD.scala:52)\r\n\tat org.apache.spark.rdd.RDD.computeOrReadCheckpoint(RDD.scala:373)\r\n\tat org.apache.spark.rdd.RDD.iterator(RDD.scala:337)\r\n\tat org.apache.spark.rdd.MapPartitionsRDD.compute(MapPartitionsRDD.scala:52)\r\n\tat org.apache.spark.rdd.RDD.computeOrReadCheckpoint(RDD.scala:373)\r\n\tat org.apache.spark.rdd.RDD.iterator(RDD.scala:337)\r\n\tat org.apache.spark.scheduler.ResultTask.runTask(ResultTask.scala:90)\r\n\tat org.apache.spark.scheduler.Task.run(Task.scala:131)\r\n\tat org.apache.spark.executor.Executor$TaskRunner.$anonfun$run$3(Executor.scala:497)\r\n\tat org.apache.spark.util.Utils$.tryWithSafeFinally(Utils.scala:1439)\r\n\tat org.apache.spark.executor.Executor$TaskRunner.run(Executor.scala:500)\r\n\tat java.base/java.util.concurrent.ThreadPoolExecutor.runWorker(ThreadPoolExecutor.java:1128)\r\n\tat java.base/java.util.concurrent.ThreadPoolExecutor$Worker.run(ThreadPoolExecutor.java:628)\r\n\tat java.base/java.lang.Thread.run(Thread.java:834)\r\nCaused by: java.io.IOException: CreateProcess error=2, Le fichier spécifié est introuvable\r\n\tat java.base/java.lang.ProcessImpl.create(Native Method)\r\n\tat java.base/java.lang.ProcessImpl.<init>(ProcessImpl.java:478)\r\n\tat java.base/java.lang.ProcessImpl.start(ProcessImpl.java:154)\r\n\tat java.base/java.lang.ProcessBuilder.start(ProcessBuilder.java:1107)\r\n\t... 26 more\r\n\nDriver stacktrace:\r\n\tat org.apache.spark.scheduler.DAGScheduler.failJobAndIndependentStages(DAGScheduler.scala:2253)\r\n\tat org.apache.spark.scheduler.DAGScheduler.$anonfun$abortStage$2(DAGScheduler.scala:2202)\r\n\tat org.apache.spark.scheduler.DAGScheduler.$anonfun$abortStage$2$adapted(DAGScheduler.scala:2201)\r\n\tat scala.collection.mutable.ResizableArray.foreach(ResizableArray.scala:62)\r\n\tat scala.collection.mutable.ResizableArray.foreach$(ResizableArray.scala:55)\r\n\tat scala.collection.mutable.ArrayBuffer.foreach(ArrayBuffer.scala:49)\r\n\tat org.apache.spark.scheduler.DAGScheduler.abortStage(DAGScheduler.scala:2201)\r\n\tat org.apache.spark.scheduler.DAGScheduler.$anonfun$handleTaskSetFailed$1(DAGScheduler.scala:1078)\r\n\tat org.apache.spark.scheduler.DAGScheduler.$anonfun$handleTaskSetFailed$1$adapted(DAGScheduler.scala:1078)\r\n\tat scala.Option.foreach(Option.scala:407)\r\n\tat org.apache.spark.scheduler.DAGScheduler.handleTaskSetFailed(DAGScheduler.scala:1078)\r\n\tat org.apache.spark.scheduler.DAGSchedulerEventProcessLoop.doOnReceive(DAGScheduler.scala:2440)\r\n\tat org.apache.spark.scheduler.DAGSchedulerEventProcessLoop.onReceive(DAGScheduler.scala:2382)\r\n\tat org.apache.spark.scheduler.DAGSchedulerEventProcessLoop.onReceive(DAGScheduler.scala:2371)\r\n\tat org.apache.spark.util.EventLoop$$anon$1.run(EventLoop.scala:49)\r\n\tat org.apache.spark.scheduler.DAGScheduler.runJob(DAGScheduler.scala:868)\r\n\tat org.apache.spark.SparkContext.runJob(SparkContext.scala:2202)\r\n\tat org.apache.spark.SparkContext.runJob(SparkContext.scala:2223)\r\n\tat org.apache.spark.SparkContext.runJob(SparkContext.scala:2242)\r\n\tat org.apache.spark.sql.execution.SparkPlan.executeTake(SparkPlan.scala:472)\r\n\tat org.apache.spark.sql.execution.SparkPlan.executeTake(SparkPlan.scala:425)\r\n\tat org.apache.spark.sql.execution.CollectLimitExec.executeCollect(limit.scala:47)\r\n\tat org.apache.spark.sql.Dataset.collectFromPlan(Dataset.scala:3696)\r\n\tat org.apache.spark.sql.Dataset.$anonfun$head$1(Dataset.scala:2722)\r\n\tat org.apache.spark.sql.Dataset.$anonfun$withAction$1(Dataset.scala:3687)\r\n\tat org.apache.spark.sql.execution.SQLExecution$.$anonfun$withNewExecutionId$5(SQLExecution.scala:103)\r\n\tat org.apache.spark.sql.execution.SQLExecution$.withSQLConfPropagated(SQLExecution.scala:163)\r\n\tat org.apache.spark.sql.execution.SQLExecution$.$anonfun$withNewExecutionId$1(SQLExecution.scala:90)\r\n\tat org.apache.spark.sql.SparkSession.withActive(SparkSession.scala:772)\r\n\tat org.apache.spark.sql.execution.SQLExecution$.withNewExecutionId(SQLExecution.scala:64)\r\n\tat org.apache.spark.sql.Dataset.withAction(Dataset.scala:3685)\r\n\tat org.apache.spark.sql.Dataset.head(Dataset.scala:2722)\r\n\tat org.apache.spark.sql.Dataset.take(Dataset.scala:2929)\r\n\tat org.apache.spark.sql.Dataset.getRows(Dataset.scala:301)\r\n\tat org.apache.spark.sql.Dataset.showString(Dataset.scala:338)\r\n\tat java.base/jdk.internal.reflect.NativeMethodAccessorImpl.invoke0(Native Method)\r\n\tat java.base/jdk.internal.reflect.NativeMethodAccessorImpl.invoke(NativeMethodAccessorImpl.java:62)\r\n\tat java.base/jdk.internal.reflect.DelegatingMethodAccessorImpl.invoke(DelegatingMethodAccessorImpl.java:43)\r\n\tat java.base/java.lang.reflect.Method.invoke(Method.java:566)\r\n\tat py4j.reflection.MethodInvoker.invoke(MethodInvoker.java:244)\r\n\tat py4j.reflection.ReflectionEngine.invoke(ReflectionEngine.java:357)\r\n\tat py4j.Gateway.invoke(Gateway.java:282)\r\n\tat py4j.commands.AbstractCommand.invokeMethod(AbstractCommand.java:132)\r\n\tat py4j.commands.CallCommand.execute(CallCommand.java:79)\r\n\tat py4j.GatewayConnection.run(GatewayConnection.java:238)\r\n\tat java.base/java.lang.Thread.run(Thread.java:834)\r\nCaused by: java.io.IOException: Cannot run program \"python3\": CreateProcess error=2, Le fichier spécifié est introuvable\r\n\tat java.base/java.lang.ProcessBuilder.start(ProcessBuilder.java:1128)\r\n\tat java.base/java.lang.ProcessBuilder.start(ProcessBuilder.java:1071)\r\n\tat org.apache.spark.api.python.PythonWorkerFactory.createSimpleWorker(PythonWorkerFactory.scala:165)\r\n\tat org.apache.spark.api.python.PythonWorkerFactory.create(PythonWorkerFactory.scala:107)\r\n\tat org.apache.spark.SparkEnv.createPythonWorker(SparkEnv.scala:119)\r\n\tat org.apache.spark.api.python.BasePythonRunner.compute(PythonRunner.scala:145)\r\n\tat org.apache.spark.sql.execution.python.BatchEvalPythonExec.evaluate(BatchEvalPythonExec.scala:70)\r\n\tat org.apache.spark.sql.execution.python.EvalPythonExec.$anonfun$doExecute$2(EvalPythonExec.scala:130)\r\n\tat org.apache.spark.rdd.RDD.$anonfun$mapPartitions$2(RDD.scala:863)\r\n\tat org.apache.spark.rdd.RDD.$anonfun$mapPartitions$2$adapted(RDD.scala:863)\r\n\tat org.apache.spark.rdd.MapPartitionsRDD.compute(MapPartitionsRDD.scala:52)\r\n\tat org.apache.spark.rdd.RDD.computeOrReadCheckpoint(RDD.scala:373)\r\n\tat org.apache.spark.rdd.RDD.iterator(RDD.scala:337)\r\n\tat org.apache.spark.rdd.MapPartitionsRDD.compute(MapPartitionsRDD.scala:52)\r\n\tat org.apache.spark.rdd.RDD.computeOrReadCheckpoint(RDD.scala:373)\r\n\tat org.apache.spark.rdd.RDD.iterator(RDD.scala:337)\r\n\tat org.apache.spark.rdd.MapPartitionsRDD.compute(MapPartitionsRDD.scala:52)\r\n\tat org.apache.spark.rdd.RDD.computeOrReadCheckpoint(RDD.scala:373)\r\n\tat org.apache.spark.rdd.RDD.iterator(RDD.scala:337)\r\n\tat org.apache.spark.scheduler.ResultTask.runTask(ResultTask.scala:90)\r\n\tat org.apache.spark.scheduler.Task.run(Task.scala:131)\r\n\tat org.apache.spark.executor.Executor$TaskRunner.$anonfun$run$3(Executor.scala:497)\r\n\tat org.apache.spark.util.Utils$.tryWithSafeFinally(Utils.scala:1439)\r\n\tat org.apache.spark.executor.Executor$TaskRunner.run(Executor.scala:500)\r\n\tat java.base/java.util.concurrent.ThreadPoolExecutor.runWorker(ThreadPoolExecutor.java:1128)\r\n\tat java.base/java.util.concurrent.ThreadPoolExecutor$Worker.run(ThreadPoolExecutor.java:628)\r\n\t... 1 more\r\nCaused by: java.io.IOException: CreateProcess error=2, Le fichier spécifié est introuvable\r\n\tat java.base/java.lang.ProcessImpl.create(Native Method)\r\n\tat java.base/java.lang.ProcessImpl.<init>(ProcessImpl.java:478)\r\n\tat java.base/java.lang.ProcessImpl.start(ProcessImpl.java:154)\r\n\tat java.base/java.lang.ProcessBuilder.start(ProcessBuilder.java:1107)\r\n\t... 26 more\r\n",
     "traceback": [
      "\u001b[1;31m---------------------------------------------------------------------------\u001b[0m",
      "\u001b[1;31mPy4JJavaError\u001b[0m                             Traceback (most recent call last)",
      "\u001b[1;32m<ipython-input-17-4cf8973a9303>\u001b[0m in \u001b[0;36m<module>\u001b[1;34m\u001b[0m\n\u001b[0;32m     17\u001b[0m \u001b[0mwords_time\u001b[0m \u001b[1;33m=\u001b[0m \u001b[0mwords_time\u001b[0m\u001b[1;33m.\u001b[0m\u001b[0mwithColumn\u001b[0m\u001b[1;33m(\u001b[0m\u001b[1;34m'hour'\u001b[0m\u001b[1;33m,\u001b[0m \u001b[0msplit_col\u001b[0m\u001b[1;33m.\u001b[0m\u001b[0mgetItem\u001b[0m\u001b[1;33m(\u001b[0m\u001b[1;36m3\u001b[0m\u001b[1;33m)\u001b[0m\u001b[1;33m)\u001b[0m\u001b[1;33m\u001b[0m\u001b[1;33m\u001b[0m\u001b[0m\n\u001b[0;32m     18\u001b[0m \u001b[0mwords_time\u001b[0m \u001b[1;33m=\u001b[0m \u001b[0mwords_time\u001b[0m\u001b[1;33m.\u001b[0m\u001b[0mwithColumn\u001b[0m\u001b[1;33m(\u001b[0m\u001b[1;34m'min'\u001b[0m\u001b[1;33m,\u001b[0m \u001b[0msplit_col\u001b[0m\u001b[1;33m.\u001b[0m\u001b[0mgetItem\u001b[0m\u001b[1;33m(\u001b[0m\u001b[1;36m4\u001b[0m\u001b[1;33m)\u001b[0m\u001b[1;33m)\u001b[0m\u001b[1;33m\u001b[0m\u001b[1;33m\u001b[0m\u001b[0m\n\u001b[1;32m---> 19\u001b[1;33m \u001b[0mwords_time\u001b[0m\u001b[1;33m.\u001b[0m\u001b[0mselect\u001b[0m\u001b[1;33m(\u001b[0m\u001b[1;34m\"word\"\u001b[0m\u001b[1;33m,\u001b[0m \u001b[1;34m\"number\"\u001b[0m\u001b[1;33m,\u001b[0m \u001b[1;34m\"month\"\u001b[0m\u001b[1;33m,\u001b[0m \u001b[1;34m\"hour\"\u001b[0m\u001b[1;33m)\u001b[0m\u001b[1;33m.\u001b[0m\u001b[0mshow\u001b[0m\u001b[1;33m(\u001b[0m\u001b[1;33m)\u001b[0m\u001b[1;33m\u001b[0m\u001b[1;33m\u001b[0m\u001b[0m\n\u001b[0m",
      "\u001b[1;32mC:\\Program Files\\spark\\spark-3.1.1-bin-hadoop2.7\\python\\pyspark\\sql\\dataframe.py\u001b[0m in \u001b[0;36mshow\u001b[1;34m(self, n, truncate, vertical)\u001b[0m\n\u001b[0;32m    482\u001b[0m         \"\"\"\n\u001b[0;32m    483\u001b[0m         \u001b[1;32mif\u001b[0m \u001b[0misinstance\u001b[0m\u001b[1;33m(\u001b[0m\u001b[0mtruncate\u001b[0m\u001b[1;33m,\u001b[0m \u001b[0mbool\u001b[0m\u001b[1;33m)\u001b[0m \u001b[1;32mand\u001b[0m \u001b[0mtruncate\u001b[0m\u001b[1;33m:\u001b[0m\u001b[1;33m\u001b[0m\u001b[1;33m\u001b[0m\u001b[0m\n\u001b[1;32m--> 484\u001b[1;33m             \u001b[0mprint\u001b[0m\u001b[1;33m(\u001b[0m\u001b[0mself\u001b[0m\u001b[1;33m.\u001b[0m\u001b[0m_jdf\u001b[0m\u001b[1;33m.\u001b[0m\u001b[0mshowString\u001b[0m\u001b[1;33m(\u001b[0m\u001b[0mn\u001b[0m\u001b[1;33m,\u001b[0m \u001b[1;36m20\u001b[0m\u001b[1;33m,\u001b[0m \u001b[0mvertical\u001b[0m\u001b[1;33m)\u001b[0m\u001b[1;33m)\u001b[0m\u001b[1;33m\u001b[0m\u001b[1;33m\u001b[0m\u001b[0m\n\u001b[0m\u001b[0;32m    485\u001b[0m         \u001b[1;32melse\u001b[0m\u001b[1;33m:\u001b[0m\u001b[1;33m\u001b[0m\u001b[1;33m\u001b[0m\u001b[0m\n\u001b[0;32m    486\u001b[0m             \u001b[0mprint\u001b[0m\u001b[1;33m(\u001b[0m\u001b[0mself\u001b[0m\u001b[1;33m.\u001b[0m\u001b[0m_jdf\u001b[0m\u001b[1;33m.\u001b[0m\u001b[0mshowString\u001b[0m\u001b[1;33m(\u001b[0m\u001b[0mn\u001b[0m\u001b[1;33m,\u001b[0m \u001b[0mint\u001b[0m\u001b[1;33m(\u001b[0m\u001b[0mtruncate\u001b[0m\u001b[1;33m)\u001b[0m\u001b[1;33m,\u001b[0m \u001b[0mvertical\u001b[0m\u001b[1;33m)\u001b[0m\u001b[1;33m)\u001b[0m\u001b[1;33m\u001b[0m\u001b[1;33m\u001b[0m\u001b[0m\n",
      "\u001b[1;32m~\\AppData\\Local\\Programs\\Python\\Python39\\lib\\site-packages\\py4j\\java_gateway.py\u001b[0m in \u001b[0;36m__call__\u001b[1;34m(self, *args)\u001b[0m\n\u001b[0;32m   1302\u001b[0m \u001b[1;33m\u001b[0m\u001b[0m\n\u001b[0;32m   1303\u001b[0m         \u001b[0manswer\u001b[0m \u001b[1;33m=\u001b[0m \u001b[0mself\u001b[0m\u001b[1;33m.\u001b[0m\u001b[0mgateway_client\u001b[0m\u001b[1;33m.\u001b[0m\u001b[0msend_command\u001b[0m\u001b[1;33m(\u001b[0m\u001b[0mcommand\u001b[0m\u001b[1;33m)\u001b[0m\u001b[1;33m\u001b[0m\u001b[1;33m\u001b[0m\u001b[0m\n\u001b[1;32m-> 1304\u001b[1;33m         return_value = get_return_value(\n\u001b[0m\u001b[0;32m   1305\u001b[0m             answer, self.gateway_client, self.target_id, self.name)\n\u001b[0;32m   1306\u001b[0m \u001b[1;33m\u001b[0m\u001b[0m\n",
      "\u001b[1;32mC:\\Program Files\\spark\\spark-3.1.1-bin-hadoop2.7\\python\\pyspark\\sql\\utils.py\u001b[0m in \u001b[0;36mdeco\u001b[1;34m(*a, **kw)\u001b[0m\n\u001b[0;32m    109\u001b[0m     \u001b[1;32mdef\u001b[0m \u001b[0mdeco\u001b[0m\u001b[1;33m(\u001b[0m\u001b[1;33m*\u001b[0m\u001b[0ma\u001b[0m\u001b[1;33m,\u001b[0m \u001b[1;33m**\u001b[0m\u001b[0mkw\u001b[0m\u001b[1;33m)\u001b[0m\u001b[1;33m:\u001b[0m\u001b[1;33m\u001b[0m\u001b[1;33m\u001b[0m\u001b[0m\n\u001b[0;32m    110\u001b[0m         \u001b[1;32mtry\u001b[0m\u001b[1;33m:\u001b[0m\u001b[1;33m\u001b[0m\u001b[1;33m\u001b[0m\u001b[0m\n\u001b[1;32m--> 111\u001b[1;33m             \u001b[1;32mreturn\u001b[0m \u001b[0mf\u001b[0m\u001b[1;33m(\u001b[0m\u001b[1;33m*\u001b[0m\u001b[0ma\u001b[0m\u001b[1;33m,\u001b[0m \u001b[1;33m**\u001b[0m\u001b[0mkw\u001b[0m\u001b[1;33m)\u001b[0m\u001b[1;33m\u001b[0m\u001b[1;33m\u001b[0m\u001b[0m\n\u001b[0m\u001b[0;32m    112\u001b[0m         \u001b[1;32mexcept\u001b[0m \u001b[0mpy4j\u001b[0m\u001b[1;33m.\u001b[0m\u001b[0mprotocol\u001b[0m\u001b[1;33m.\u001b[0m\u001b[0mPy4JJavaError\u001b[0m \u001b[1;32mas\u001b[0m \u001b[0me\u001b[0m\u001b[1;33m:\u001b[0m\u001b[1;33m\u001b[0m\u001b[1;33m\u001b[0m\u001b[0m\n\u001b[0;32m    113\u001b[0m             \u001b[0mconverted\u001b[0m \u001b[1;33m=\u001b[0m \u001b[0mconvert_exception\u001b[0m\u001b[1;33m(\u001b[0m\u001b[0me\u001b[0m\u001b[1;33m.\u001b[0m\u001b[0mjava_exception\u001b[0m\u001b[1;33m)\u001b[0m\u001b[1;33m\u001b[0m\u001b[1;33m\u001b[0m\u001b[0m\n",
      "\u001b[1;32m~\\AppData\\Local\\Programs\\Python\\Python39\\lib\\site-packages\\py4j\\protocol.py\u001b[0m in \u001b[0;36mget_return_value\u001b[1;34m(answer, gateway_client, target_id, name)\u001b[0m\n\u001b[0;32m    324\u001b[0m             \u001b[0mvalue\u001b[0m \u001b[1;33m=\u001b[0m \u001b[0mOUTPUT_CONVERTER\u001b[0m\u001b[1;33m[\u001b[0m\u001b[0mtype\u001b[0m\u001b[1;33m]\u001b[0m\u001b[1;33m(\u001b[0m\u001b[0manswer\u001b[0m\u001b[1;33m[\u001b[0m\u001b[1;36m2\u001b[0m\u001b[1;33m:\u001b[0m\u001b[1;33m]\u001b[0m\u001b[1;33m,\u001b[0m \u001b[0mgateway_client\u001b[0m\u001b[1;33m)\u001b[0m\u001b[1;33m\u001b[0m\u001b[1;33m\u001b[0m\u001b[0m\n\u001b[0;32m    325\u001b[0m             \u001b[1;32mif\u001b[0m \u001b[0manswer\u001b[0m\u001b[1;33m[\u001b[0m\u001b[1;36m1\u001b[0m\u001b[1;33m]\u001b[0m \u001b[1;33m==\u001b[0m \u001b[0mREFERENCE_TYPE\u001b[0m\u001b[1;33m:\u001b[0m\u001b[1;33m\u001b[0m\u001b[1;33m\u001b[0m\u001b[0m\n\u001b[1;32m--> 326\u001b[1;33m                 raise Py4JJavaError(\n\u001b[0m\u001b[0;32m    327\u001b[0m                     \u001b[1;34m\"An error occurred while calling {0}{1}{2}.\\n\"\u001b[0m\u001b[1;33m.\u001b[0m\u001b[1;33m\u001b[0m\u001b[1;33m\u001b[0m\u001b[0m\n\u001b[0;32m    328\u001b[0m                     format(target_id, \".\", name), value)\n",
      "\u001b[1;31mPy4JJavaError\u001b[0m: An error occurred while calling o315.showString.\n: org.apache.spark.SparkException: Job aborted due to stage failure: Task 0 in stage 10.0 failed 1 times, most recent failure: Lost task 0.0 in stage 10.0 (TID 56) (LAPTOP-G4N120DU executor driver): java.io.IOException: Cannot run program \"python3\": CreateProcess error=2, Le fichier spécifié est introuvable\r\n\tat java.base/java.lang.ProcessBuilder.start(ProcessBuilder.java:1128)\r\n\tat java.base/java.lang.ProcessBuilder.start(ProcessBuilder.java:1071)\r\n\tat org.apache.spark.api.python.PythonWorkerFactory.createSimpleWorker(PythonWorkerFactory.scala:165)\r\n\tat org.apache.spark.api.python.PythonWorkerFactory.create(PythonWorkerFactory.scala:107)\r\n\tat org.apache.spark.SparkEnv.createPythonWorker(SparkEnv.scala:119)\r\n\tat org.apache.spark.api.python.BasePythonRunner.compute(PythonRunner.scala:145)\r\n\tat org.apache.spark.sql.execution.python.BatchEvalPythonExec.evaluate(BatchEvalPythonExec.scala:70)\r\n\tat org.apache.spark.sql.execution.python.EvalPythonExec.$anonfun$doExecute$2(EvalPythonExec.scala:130)\r\n\tat org.apache.spark.rdd.RDD.$anonfun$mapPartitions$2(RDD.scala:863)\r\n\tat org.apache.spark.rdd.RDD.$anonfun$mapPartitions$2$adapted(RDD.scala:863)\r\n\tat org.apache.spark.rdd.MapPartitionsRDD.compute(MapPartitionsRDD.scala:52)\r\n\tat org.apache.spark.rdd.RDD.computeOrReadCheckpoint(RDD.scala:373)\r\n\tat org.apache.spark.rdd.RDD.iterator(RDD.scala:337)\r\n\tat org.apache.spark.rdd.MapPartitionsRDD.compute(MapPartitionsRDD.scala:52)\r\n\tat org.apache.spark.rdd.RDD.computeOrReadCheckpoint(RDD.scala:373)\r\n\tat org.apache.spark.rdd.RDD.iterator(RDD.scala:337)\r\n\tat org.apache.spark.rdd.MapPartitionsRDD.compute(MapPartitionsRDD.scala:52)\r\n\tat org.apache.spark.rdd.RDD.computeOrReadCheckpoint(RDD.scala:373)\r\n\tat org.apache.spark.rdd.RDD.iterator(RDD.scala:337)\r\n\tat org.apache.spark.scheduler.ResultTask.runTask(ResultTask.scala:90)\r\n\tat org.apache.spark.scheduler.Task.run(Task.scala:131)\r\n\tat org.apache.spark.executor.Executor$TaskRunner.$anonfun$run$3(Executor.scala:497)\r\n\tat org.apache.spark.util.Utils$.tryWithSafeFinally(Utils.scala:1439)\r\n\tat org.apache.spark.executor.Executor$TaskRunner.run(Executor.scala:500)\r\n\tat java.base/java.util.concurrent.ThreadPoolExecutor.runWorker(ThreadPoolExecutor.java:1128)\r\n\tat java.base/java.util.concurrent.ThreadPoolExecutor$Worker.run(ThreadPoolExecutor.java:628)\r\n\tat java.base/java.lang.Thread.run(Thread.java:834)\r\nCaused by: java.io.IOException: CreateProcess error=2, Le fichier spécifié est introuvable\r\n\tat java.base/java.lang.ProcessImpl.create(Native Method)\r\n\tat java.base/java.lang.ProcessImpl.<init>(ProcessImpl.java:478)\r\n\tat java.base/java.lang.ProcessImpl.start(ProcessImpl.java:154)\r\n\tat java.base/java.lang.ProcessBuilder.start(ProcessBuilder.java:1107)\r\n\t... 26 more\r\n\nDriver stacktrace:\r\n\tat org.apache.spark.scheduler.DAGScheduler.failJobAndIndependentStages(DAGScheduler.scala:2253)\r\n\tat org.apache.spark.scheduler.DAGScheduler.$anonfun$abortStage$2(DAGScheduler.scala:2202)\r\n\tat org.apache.spark.scheduler.DAGScheduler.$anonfun$abortStage$2$adapted(DAGScheduler.scala:2201)\r\n\tat scala.collection.mutable.ResizableArray.foreach(ResizableArray.scala:62)\r\n\tat scala.collection.mutable.ResizableArray.foreach$(ResizableArray.scala:55)\r\n\tat scala.collection.mutable.ArrayBuffer.foreach(ArrayBuffer.scala:49)\r\n\tat org.apache.spark.scheduler.DAGScheduler.abortStage(DAGScheduler.scala:2201)\r\n\tat org.apache.spark.scheduler.DAGScheduler.$anonfun$handleTaskSetFailed$1(DAGScheduler.scala:1078)\r\n\tat org.apache.spark.scheduler.DAGScheduler.$anonfun$handleTaskSetFailed$1$adapted(DAGScheduler.scala:1078)\r\n\tat scala.Option.foreach(Option.scala:407)\r\n\tat org.apache.spark.scheduler.DAGScheduler.handleTaskSetFailed(DAGScheduler.scala:1078)\r\n\tat org.apache.spark.scheduler.DAGSchedulerEventProcessLoop.doOnReceive(DAGScheduler.scala:2440)\r\n\tat org.apache.spark.scheduler.DAGSchedulerEventProcessLoop.onReceive(DAGScheduler.scala:2382)\r\n\tat org.apache.spark.scheduler.DAGSchedulerEventProcessLoop.onReceive(DAGScheduler.scala:2371)\r\n\tat org.apache.spark.util.EventLoop$$anon$1.run(EventLoop.scala:49)\r\n\tat org.apache.spark.scheduler.DAGScheduler.runJob(DAGScheduler.scala:868)\r\n\tat org.apache.spark.SparkContext.runJob(SparkContext.scala:2202)\r\n\tat org.apache.spark.SparkContext.runJob(SparkContext.scala:2223)\r\n\tat org.apache.spark.SparkContext.runJob(SparkContext.scala:2242)\r\n\tat org.apache.spark.sql.execution.SparkPlan.executeTake(SparkPlan.scala:472)\r\n\tat org.apache.spark.sql.execution.SparkPlan.executeTake(SparkPlan.scala:425)\r\n\tat org.apache.spark.sql.execution.CollectLimitExec.executeCollect(limit.scala:47)\r\n\tat org.apache.spark.sql.Dataset.collectFromPlan(Dataset.scala:3696)\r\n\tat org.apache.spark.sql.Dataset.$anonfun$head$1(Dataset.scala:2722)\r\n\tat org.apache.spark.sql.Dataset.$anonfun$withAction$1(Dataset.scala:3687)\r\n\tat org.apache.spark.sql.execution.SQLExecution$.$anonfun$withNewExecutionId$5(SQLExecution.scala:103)\r\n\tat org.apache.spark.sql.execution.SQLExecution$.withSQLConfPropagated(SQLExecution.scala:163)\r\n\tat org.apache.spark.sql.execution.SQLExecution$.$anonfun$withNewExecutionId$1(SQLExecution.scala:90)\r\n\tat org.apache.spark.sql.SparkSession.withActive(SparkSession.scala:772)\r\n\tat org.apache.spark.sql.execution.SQLExecution$.withNewExecutionId(SQLExecution.scala:64)\r\n\tat org.apache.spark.sql.Dataset.withAction(Dataset.scala:3685)\r\n\tat org.apache.spark.sql.Dataset.head(Dataset.scala:2722)\r\n\tat org.apache.spark.sql.Dataset.take(Dataset.scala:2929)\r\n\tat org.apache.spark.sql.Dataset.getRows(Dataset.scala:301)\r\n\tat org.apache.spark.sql.Dataset.showString(Dataset.scala:338)\r\n\tat java.base/jdk.internal.reflect.NativeMethodAccessorImpl.invoke0(Native Method)\r\n\tat java.base/jdk.internal.reflect.NativeMethodAccessorImpl.invoke(NativeMethodAccessorImpl.java:62)\r\n\tat java.base/jdk.internal.reflect.DelegatingMethodAccessorImpl.invoke(DelegatingMethodAccessorImpl.java:43)\r\n\tat java.base/java.lang.reflect.Method.invoke(Method.java:566)\r\n\tat py4j.reflection.MethodInvoker.invoke(MethodInvoker.java:244)\r\n\tat py4j.reflection.ReflectionEngine.invoke(ReflectionEngine.java:357)\r\n\tat py4j.Gateway.invoke(Gateway.java:282)\r\n\tat py4j.commands.AbstractCommand.invokeMethod(AbstractCommand.java:132)\r\n\tat py4j.commands.CallCommand.execute(CallCommand.java:79)\r\n\tat py4j.GatewayConnection.run(GatewayConnection.java:238)\r\n\tat java.base/java.lang.Thread.run(Thread.java:834)\r\nCaused by: java.io.IOException: Cannot run program \"python3\": CreateProcess error=2, Le fichier spécifié est introuvable\r\n\tat java.base/java.lang.ProcessBuilder.start(ProcessBuilder.java:1128)\r\n\tat java.base/java.lang.ProcessBuilder.start(ProcessBuilder.java:1071)\r\n\tat org.apache.spark.api.python.PythonWorkerFactory.createSimpleWorker(PythonWorkerFactory.scala:165)\r\n\tat org.apache.spark.api.python.PythonWorkerFactory.create(PythonWorkerFactory.scala:107)\r\n\tat org.apache.spark.SparkEnv.createPythonWorker(SparkEnv.scala:119)\r\n\tat org.apache.spark.api.python.BasePythonRunner.compute(PythonRunner.scala:145)\r\n\tat org.apache.spark.sql.execution.python.BatchEvalPythonExec.evaluate(BatchEvalPythonExec.scala:70)\r\n\tat org.apache.spark.sql.execution.python.EvalPythonExec.$anonfun$doExecute$2(EvalPythonExec.scala:130)\r\n\tat org.apache.spark.rdd.RDD.$anonfun$mapPartitions$2(RDD.scala:863)\r\n\tat org.apache.spark.rdd.RDD.$anonfun$mapPartitions$2$adapted(RDD.scala:863)\r\n\tat org.apache.spark.rdd.MapPartitionsRDD.compute(MapPartitionsRDD.scala:52)\r\n\tat org.apache.spark.rdd.RDD.computeOrReadCheckpoint(RDD.scala:373)\r\n\tat org.apache.spark.rdd.RDD.iterator(RDD.scala:337)\r\n\tat org.apache.spark.rdd.MapPartitionsRDD.compute(MapPartitionsRDD.scala:52)\r\n\tat org.apache.spark.rdd.RDD.computeOrReadCheckpoint(RDD.scala:373)\r\n\tat org.apache.spark.rdd.RDD.iterator(RDD.scala:337)\r\n\tat org.apache.spark.rdd.MapPartitionsRDD.compute(MapPartitionsRDD.scala:52)\r\n\tat org.apache.spark.rdd.RDD.computeOrReadCheckpoint(RDD.scala:373)\r\n\tat org.apache.spark.rdd.RDD.iterator(RDD.scala:337)\r\n\tat org.apache.spark.scheduler.ResultTask.runTask(ResultTask.scala:90)\r\n\tat org.apache.spark.scheduler.Task.run(Task.scala:131)\r\n\tat org.apache.spark.executor.Executor$TaskRunner.$anonfun$run$3(Executor.scala:497)\r\n\tat org.apache.spark.util.Utils$.tryWithSafeFinally(Utils.scala:1439)\r\n\tat org.apache.spark.executor.Executor$TaskRunner.run(Executor.scala:500)\r\n\tat java.base/java.util.concurrent.ThreadPoolExecutor.runWorker(ThreadPoolExecutor.java:1128)\r\n\tat java.base/java.util.concurrent.ThreadPoolExecutor$Worker.run(ThreadPoolExecutor.java:628)\r\n\t... 1 more\r\nCaused by: java.io.IOException: CreateProcess error=2, Le fichier spécifié est introuvable\r\n\tat java.base/java.lang.ProcessImpl.create(Native Method)\r\n\tat java.base/java.lang.ProcessImpl.<init>(ProcessImpl.java:478)\r\n\tat java.base/java.lang.ProcessImpl.start(ProcessImpl.java:154)\r\n\tat java.base/java.lang.ProcessBuilder.start(ProcessBuilder.java:1107)\r\n\t... 26 more\r\n"
     ]
    }
   ],
   "source": [
    "import calendar\n",
    "from pyspark.sql.functions import col, udf\n",
    "from pyspark.sql.types import IntegerType\n",
    "import pandas as pd\n",
    "\n",
    "#to format month in integer\n",
    "map_month = [(month, index) for index, month in enumerate(calendar.month_abbr) if month]\n",
    "\n",
    "udf_function = udf(lambda month: map_month[month], returnType=IntegerType())\n",
    "\n",
    "#Splitting the column created at\n",
    "split_col = functions.split(words_filtered['created_at'], \" |:\") \n",
    "\n",
    "words_time = words_filtered.withColumn('day', split_col.getItem(0))\n",
    "words_time = words_time.withColumn('month', udf_function(split_col.getItem(1))) #month represented with irs number\n",
    "words_time = words_time.withColumn('number', split_col.getItem(2))\n",
    "words_time = words_time.withColumn('hour', split_col.getItem(3))\n",
    "words_time = words_time.withColumn('min', split_col.getItem(4))\n",
    "words_time.select(\"word\", \"number\", \"month\", \"hour\").show()"
   ]
  },
  {
   "cell_type": "code",
   "execution_count": null,
   "metadata": {},
   "outputs": [],
   "source": [
    "import datetime\n",
    "\n",
    "#Compute the delta between two date formated as ['number', 'month', 'hour'] in hour\n",
    "def get_delta_hours(start, end):\n",
    "\n",
    "    s = datetime.datetime(year=2020, month=start[1], day=int(start[0]), hour=int(start[2]), minute=0)\n",
    "    e = datetime.datetime(year=2020, month=end[1], day=int(end[0]), hour=int(end[2]), minute=0)\n",
    "\n",
    "    time_delta = e-s\n",
    "    delta_hours = time_delta.days*24 + time_delta.seconds//3600\n",
    "\n",
    "    return delta_hours"
   ]
  },
  {
   "source": [],
   "cell_type": "markdown",
   "metadata": {}
  },
  {
   "cell_type": "code",
   "execution_count": null,
   "metadata": {},
   "outputs": [],
   "source": [
    "import numpy as np\n",
    "from scipy.stats import poisson\n",
    "import matplotlib.pyplot as plt\n",
    "\n",
    "#Poisson method. We consider that the count of a word is Poisson distributed \n",
    "\n",
    "def poisson_method(df, w, alpha, bucket_size):\n",
    "    \"\"\"\n",
    "    Input\n",
    "    df : dataframe with columns word, month, day, hour\n",
    "    word : word to study\n",
    "    alpha : level of the confidence interval\n",
    "    bucket :size of the bucket to consider (in hour)\n",
    "\n",
    "    Returns a list of eta denoting the unlikeliness of a point\n",
    "    \"\"\"\n",
    "    df = df.filter(df.word==w)\n",
    "\n",
    "    #create a new dataframe with a column count\n",
    "    df = df.groupBy(\"word\", \"number\", \"month\", \"hour\").count()\n",
    "    df = df.orderBy(\"month\", \"number\", \"hour\")\n",
    "    df.show()\n",
    "\n",
    "    df_array = np.array(df.select(\"number\", \"month\", \"hour\",\"count\").collect())\n",
    "\n",
    "    delta_total = get_delta_hours(df_array[0], df_array[len(df_array)-1])\n",
    "\n",
    "    nb_buckets = delta_total//bucket_size\n",
    "    print(nb_buckets)\n",
    "    counts = [0 for i in range(nb_buckets+1)]\n",
    "\n",
    "    for i in range(len(df_array)):\n",
    "        delta_hour = get_delta_hours(df_array[0],df_array[i])\n",
    "        print(delta_hour//bucket_size)\n",
    "        counts[delta_hour//bucket_size]+=int(df_array[i][3])\n",
    "\n",
    "    unlikeliness = []\n",
    "    for i in range(1, len(counts)):\n",
    "        ci_low, ci_high = poisson.interval(alpha, counts[i-1]) \n",
    "        eta = abs(counts[i] -counts[i-1])/(ci_high+0.01) #add a small value to avoid division by zero\n",
    "        unlikeliness.append(eta)\n",
    "\n",
    "    plt.plot(np.arange(1, nb_buckets+1), np.array(unlikeliness), color='red', marker='o')\n",
    "    plt.plot(np.arange(1, nb_buckets+1), counts[1:], color='blue', marker='o')\n",
    "    plt.show()"
   ]
  },
  {
   "cell_type": "code",
   "execution_count": null,
   "metadata": {},
   "outputs": [],
   "source": [
    "#Poisson correlated method. We use the data of the previous day at the same hour\n",
    "\n",
    "def poisson_correlated_method(df, w, alpha, bucket_size):\n",
    "    \"\"\"\n",
    "    Input\n",
    "    df : dataframe with columns word, month, day, hour\n",
    "    word : word to study\n",
    "    alpha : level of the confidence interval\n",
    "    bucket :size of the bucket to consider (in hour)\n",
    "\n",
    "    Returns a list of eta denoting the unlikeliness of a point\n",
    "    \"\"\"\n",
    "    df = df.filter(df.word==w)\n",
    "\n",
    "    #create a new dataframe with a column count\n",
    "    df = df.groupBy(\"word\", \"number\", \"month\", \"hour\").count()\n",
    "    df = df.orderBy(\"month\", \"number\", \"hour\")\n",
    "    df.show()\n",
    "\n",
    "    df_array = np.array(df.select(\"number\", \"month\", \"hour\",\"count\").collect())\n",
    "\n",
    "    delta_total = get_delta_hours(df_array[0], df_array[len(df_array)-1])\n",
    "\n",
    "    nb_buckets = delta_total//bucket_size\n",
    "    print(nb_buckets)\n",
    "    counts = [0 for i in range(nb_buckets+1)]\n",
    "\n",
    "    for i in range(len(df_array)):\n",
    "        delta_hour = get_delta_hours(df_array[0],df_array[i])\n",
    "        print(delta_hour//bucket_size)\n",
    "        counts[delta_hour//bucket_size]+=int(df_array[i][3])\n",
    "\n",
    "    unlikeliness = []\n",
    "    for i in range(24//bucket_size, len(counts)):\n",
    "        ci_low, ci_high = poisson.interval(alpha, counts[i-24//bucket_size]) #remove 24//bucket_size to obtain the corresponding bucket of the previous day\n",
    "        eta = abs(counts[i] -counts[i-1])/(ci_high+0.01) #add a small value to avoid division by zero\n",
    "        unlikeliness.append(eta)\n",
    "\n",
    "    plt.plot(np.arange(24//bucket_size, nb_buckets+1), np.array(unlikeliness), color='red', marker='o')\n",
    "    plt.plot(np.arange(24//bucket_size, nb_buckets+1), counts[1:], color='blue', marker='o')\n",
    "    plt.show()"
   ]
  },
  {
   "cell_type": "code",
   "execution_count": null,
   "metadata": {},
   "outputs": [],
   "source": [
    "data_by_hour = words_time.select(\"word\", \"number\", \"month\", \"hour\")\n",
    "data_by_hour.show(5)\n",
    "\n",
    "#Apply poisson method with hourly buckets\n",
    "eta = poisson_method(data_by_hour, 'test', 0.95, 1)"
   ]
  },
  {
   "cell_type": "markdown",
   "metadata": {},
   "source": [
    "### Exercise 5"
   ]
  },
  {
   "cell_type": "code",
   "execution_count": 18,
   "metadata": {},
   "outputs": [],
   "source": [
    "hashtags = exp_words_f.filter( exp_words_f.word.startswith('#'))\\\n",
    "                      .withColumnRenamed('word', 'hashtag')"
   ]
  },
  {
   "cell_type": "code",
   "execution_count": 19,
   "metadata": {},
   "outputs": [
    {
     "name": "stdout",
     "output_type": "stream",
     "text": [
      "+--------------------+-----+\n",
      "|             hashtag|count|\n",
      "+--------------------+-----+\n",
      "|         #curecancer| 3987|\n",
      "|       #iowacaucuses| 3253|\n",
      "|#deshkiawaazshehnaaz| 2871|\n",
      "|    #mainbhiasimkigf| 2782|\n",
      "|      #meraadarshsid| 2685|\n",
      "|       #iheartawards| 1753|\n",
      "|                #bts| 1658|\n",
      "|           #asimriaz| 1512|\n",
      "|        #thebachelor| 1358|\n",
      "|         #iowacaucus| 1274|\n",
      "|                 #bb| 1251|\n",
      "|     #sidharthshukla| 1245|\n",
      "|           #treasure| 1232|\n",
      "|        #coronavirus| 1197|\n",
      "|           #iacaucus| 1197|\n",
      "|           #biggboss| 1156|\n",
      "|         #loveisland|  999|\n",
      "|          #superbowl|  976|\n",
      "|     #worldcancerday|  965|\n",
      "|               #sotu|  894|\n",
      "|     #rightchoicesid|  843|\n",
      "|              #yikes|  776|\n",
      "|     #happyjisungday|  710|\n",
      "|               #iowa|  696|\n",
      "|            #btsarmy|  686|\n",
      "|         #nowplaying|  646|\n",
      "|                #nct|  640|\n",
      "|       #rashamidesai|  582|\n",
      "|                #raw|  581|\n",
      "|             #superm|  574|\n",
      "+--------------------+-----+\n",
      "only showing top 30 rows\n",
      "\n"
     ]
    }
   ],
   "source": [
    "most_freq_hash = hashtags.groupBy('hashtag') \\\n",
    "    .count() \\\n",
    "    .sort('count', ascending=False) \n",
    "most_freq_hash.show(30)"
   ]
  },
  {
   "cell_type": "markdown",
   "metadata": {},
   "source": [
    "###### Converting Hashtag Data Frame to array:"
   ]
  },
  {
   "cell_type": "code",
   "execution_count": 20,
   "metadata": {},
   "outputs": [],
   "source": [
    "mfht = most_freq_hash.filter('count >= 500').select('hashtag').rdd.map(lambda x: x[0]).collect()"
   ]
  },
  {
   "cell_type": "markdown",
   "metadata": {},
   "source": [
    "###### Getting words related to Hashtag example:"
   ]
  },
  {
   "cell_type": "code",
   "execution_count": 21,
   "metadata": {},
   "outputs": [
    {
     "data": {
      "text/plain": [
       "['#iowacaucuses',\n",
       " 'iowa',\n",
       " 'bernie',\n",
       " 'caucus',\n",
       " 'vote',\n",
       " 'won',\n",
       " 'tonight',\n",
       " '#iowacaucus',\n",
       " 'biden',\n",
       " 'app',\n",
       " '@donaldjtrumpjr',\n",
       " 'dnc']"
      ]
     },
     "execution_count": 21,
     "metadata": {},
     "output_type": "execute_result"
    }
   ],
   "source": [
    "event_words = exp_words_f.filter( f.col('text').contains('#iowacaucuses'))\n",
    "\n",
    "event_words.groupBy('word') \\\n",
    "           .count() \\\n",
    "           .sort('count', ascending=False)\\\n",
    "           .rdd\\\n",
    "           .map(lambda x: x[0])\\\n",
    "           .collect()[:12]"
   ]
  },
  {
   "cell_type": "markdown",
   "metadata": {},
   "source": [
    "#### Ex5 using pySpark:"
   ]
  },
  {
   "cell_type": "code",
   "execution_count": 87,
   "metadata": {},
   "outputs": [
    {
     "name": "stdout",
     "output_type": "stream",
     "text": [
      "+-------+-----------+-----+\n",
      "|hashtag|       word|count|\n",
      "+-------+-----------+-----+\n",
      "| #yikes|@nickiminaj|  465|\n",
      "| #yikes|      likes|  348|\n",
      "| #yikes|        amp|  336|\n",
      "| #yikes|       play|  325|\n",
      "| #yikes|       life|  313|\n",
      "| #yikes|        tag|  313|\n",
      "| #yikes|    yzdifvf|  310|\n",
      "| #yikes|       rosa|  137|\n",
      "| #yikes|      parks|  129|\n",
      "| #yikes|      nicki|  121|\n",
      "+-------+-----------+-----+\n",
      "only showing top 10 rows\n",
      "\n"
     ]
    }
   ],
   "source": [
    "## Ex.5: Get the most frequent words for each event:\n",
    "ht_f = hashtags.select('filtered', 'hashtag')\\\n",
    "                         .filter(f.col('hashtag').isin(mfht))\\\n",
    "                         .withColumn('word', f.explode('filtered'))\\\n",
    "                         .filter(~col('word').startswith('#'))\\\n",
    "                         .select('hashtag', 'word')\\\n",
    "                         .groupBy('hashtag', 'word')\\\n",
    "                         .count()\\\n",
    "                         .sort(['hashtag', 'count'], ascending=False)\\\n",
    "                         .filter('count >= 100')\n",
    "\n",
    "ht_f.show(10)\n",
    "    "
   ]
  },
  {
   "cell_type": "markdown",
   "metadata": {},
   "source": [
    "#### Showing the top 10 most frequent words by events:"
   ]
  },
  {
   "cell_type": "code",
   "execution_count": null,
   "metadata": {},
   "outputs": [
    {
     "name": "stdout",
     "output_type": "stream",
     "text": [
      "+-----------+-----------+-----+\n",
      "|    hashtag|       word|count|\n",
      "+-----------+-----------+-----+\n",
      "|#curecancer|trueworship| 3951|\n",
      "|#curecancer|     cancer| 2441|\n",
      "|#curecancer|       true| 1240|\n",
      "|#curecancer|     rampal| 1073|\n",
      "|#curecancer|    worship| 1042|\n",
      "|#curecancer|      saint| 1040|\n",
      "|#curecancer|       cure|  916|\n",
      "|#curecancer|        god|  884|\n",
      "|#curecancer|    maharaj|  859|\n",
      "|#curecancer|   diseases|  846|\n",
      "+-----------+-----------+-----+\n",
      "only showing top 10 rows\n",
      "\n",
      "+-------------+---------------+-----+\n",
      "|      hashtag|           word|count|\n",
      "+-------------+---------------+-----+\n",
      "|#iowacaucuses|           iowa|  499|\n",
      "|#iowacaucuses|         bernie|  346|\n",
      "|#iowacaucuses|         caucus|  237|\n",
      "|#iowacaucuses|           vote|  193|\n",
      "|#iowacaucuses|            won|  173|\n",
      "|#iowacaucuses|        tonight|  155|\n",
      "|#iowacaucuses|          biden|  153|\n",
      "|#iowacaucuses|            app|  151|\n",
      "|#iowacaucuses|@donaldjtrumpjr|  150|\n",
      "|#iowacaucuses|            dnc|  147|\n",
      "+-------------+---------------+-----+\n",
      "only showing top 10 rows\n",
      "\n",
      "+--------------------+---------+-----+\n",
      "|             hashtag|     word|count|\n",
      "+--------------------+---------+-----+\n",
      "|#deshkiawaazshehnaaz|     sana|  459|\n",
      "|#deshkiawaazshehnaaz|     love|  287|\n",
      "|#deshkiawaazshehnaaz|     guys|  235|\n",
      "|#deshkiawaazshehnaaz| shehnaaz|  193|\n",
      "|#deshkiawaazshehnaaz|    trend|  143|\n",
      "|#deshkiawaazshehnaaz|@colorstv|  141|\n",
      "|#deshkiawaazshehnaaz|    speed|  128|\n",
      "|#deshkiawaazshehnaaz| trending|  119|\n",
      "|#deshkiawaazshehnaaz|   follow|  116|\n",
      "|#deshkiawaazshehnaaz|      hai|  113|\n",
      "+--------------------+---------+-----+\n",
      "only showing top 10 rows\n",
      "\n",
      "+----------------+-----------+-----+\n",
      "|         hashtag|       word|count|\n",
      "+----------------+-----------+-----+\n",
      "|#mainbhiasimkigf|       asim|  982|\n",
      "|#mainbhiasimkigf|      trend|  485|\n",
      "|#mainbhiasimkigf|      girls|  482|\n",
      "|#mainbhiasimkigf|   trending|  291|\n",
      "|#mainbhiasimkigf|  @colorstv|  253|\n",
      "|#mainbhiasimkigf|       love|  214|\n",
      "|#mainbhiasimkigf|   fangirls|  202|\n",
      "|#mainbhiasimkigf|        fan|  193|\n",
      "|#mainbhiasimkigf|  @biggboss|  187|\n",
      "|#mainbhiasimkigf|@imrealasim|  186|\n",
      "+----------------+-----------+-----+\n",
      "only showing top 10 rows\n",
      "\n",
      "+--------------+---------------+-----+\n",
      "|       hashtag|           word|count|\n",
      "+--------------+---------------+-----+\n",
      "|#meraadarshsid|            sid|  516|\n",
      "|#meraadarshsid|         shukla|  428|\n",
      "|#meraadarshsid|      @sidharth|  352|\n",
      "|#meraadarshsid|         tweets|  282|\n",
      "|#meraadarshsid|@realvindusingh|  281|\n",
      "|#meraadarshsid|          today|  228|\n",
      "|#meraadarshsid|            tag|  223|\n",
      "|#meraadarshsid|      @biggboss|  180|\n",
      "|#meraadarshsid|       activity|  162|\n",
      "|#meraadarshsid|        tagline|  160|\n",
      "+--------------+---------------+-----+\n",
      "only showing top 10 rows\n",
      "\n",
      "+-------------+----------------+-----+\n",
      "|      hashtag|            word|count|\n",
      "+-------------+----------------+-----+\n",
      "|#iheartawards|            @bts|  567|\n",
      "|#iheartawards|             twt|  553|\n",
      "|#iheartawards|            vote|  536|\n",
      "|#iheartawards|             sos|  264|\n",
      "|#iheartawards|   @justinbieber|  259|\n",
      "|#iheartawards|     @danandshay|  226|\n",
      "|#iheartawards|            @tha|  220|\n",
      "|#iheartawards|@ygofficialblink|  216|\n",
      "|#iheartawards|          voting|  200|\n",
      "|#iheartawards|           hours|  187|\n",
      "+-------------+----------------+-----+\n",
      "only showing top 10 rows\n",
      "\n"
     ]
    }
   ],
   "source": [
    "for ht in mfht:\n",
    "    ht_f.filter(col('hashtag').isin(ht)).show(10)"
   ]
  },
  {
   "cell_type": "markdown",
   "metadata": {},
   "source": [
    "### Function that converts geolocalisation to place name:"
   ]
  },
  {
   "cell_type": "code",
   "execution_count": 25,
   "metadata": {},
   "outputs": [],
   "source": [
    "def loc(coords):\n",
    "\n",
    "    geolocator = Nominatim(user_agent=\"geoapiExercises\")  \n",
    "    if coords.shape != (2,):\n",
    "        coords = coords.mean(axis = 0)\n",
    "    \n",
    "    Longitude = str(coords[0])\n",
    "    Latitude = str(coords[1])\n",
    "    \n",
    "    location = geolocator.reverse(Latitude+\",\"+Longitude)\n",
    "    \n",
    "    if(location == None):\n",
    "        print(\"No location specified\")\n",
    "        return\n",
    " \n",
    "    address = location.raw['address']\n",
    "\n",
    "    # traverse the data\n",
    "    city = address.get('city', '')\n",
    "    state = address.get('state', '')\n",
    "    country = address.get('country', '')\n",
    "    code = address.get('country_code')\n",
    "    zipcode = address.get('postcode')\n",
    "    print('City : ', city)\n",
    "    print('State : ', state)\n",
    "    print('Country : ', country)\n",
    "    print('Zip Code : ', zipcode)"
   ]
  },
  {
   "cell_type": "markdown",
   "metadata": {},
   "source": [
    "### Exercise 6 and Exercice 7"
   ]
  },
  {
   "cell_type": "code",
   "execution_count": 27,
   "metadata": {
    "collapsed": true,
    "jupyter": {
     "outputs_hidden": true
    }
   },
   "outputs": [
    {
     "name": "stdout",
     "output_type": "stream",
     "text": [
      "City :  \n",
      "State :  Madhya Pradesh\n",
      "Country :  India\n",
      "Zip Code :  476332\n",
      "Event : #curecancer\n",
      "Timeframe : from - 2020-02-04 03:16:13 to - 2020-02-04 22:42:39\n",
      "Most frequent Location is : Mumbai, India\n",
      "Most frequent words associated to the event: \n",
      "['#curecancer', 'trueworship', 'cancer', 'true', 'rampal', 'saint', 'worship', 'cure', 'god', 'maharaj', 'diseases', 'disease']\n",
      "\n",
      "\n",
      "City :  \n",
      "State :  West Virginia\n",
      "Country :  United States\n",
      "Zip Code :  None\n",
      "Event : #iowacaucuses\n",
      "Timeframe : from - 2020-02-03 23:00:11 to - 2020-02-04 22:58:28\n",
      "Most frequent Location is : Mumbai, India\n",
      "Most frequent words associated to the event: \n",
      "['#iowacaucuses', 'iowa', 'bernie', 'caucus', 'vote', 'won', 'tonight', '#iowacaucus', 'biden', 'app', '@donaldjtrumpjr', 'dnc']\n",
      "\n",
      "\n",
      "City :  \n",
      "State :  Maharashtra\n",
      "Country :  India\n",
      "Zip Code :  431201\n",
      "Event : #deshkiawaazshehnaaz\n",
      "Timeframe : from - 2020-02-04 01:58:49 to - 2020-02-04 22:59:12\n",
      "Most frequent Location is : Mumbai, India\n",
      "Most frequent words associated to the event: \n",
      "['#deshkiawaazshehnaaz', 'sana', 'love', 'guys', 'shehnaaz', 'trend', '@colorstv', 'speed', 'trending', 'follow', 'hai', 'tag']\n",
      "\n",
      "\n",
      "No location specified\n",
      "Event : #mainbhiasimkigf\n",
      "Timeframe : from - 2020-02-03 23:26:18 to - 2020-02-04 22:58:06\n",
      "Most frequent Location is : Mumbai, India\n",
      "Most frequent words associated to the event: \n",
      "['#mainbhiasimkigf', 'asim', 'trend', 'girls', 'trending', '#asimriaz', '@colorstv', 'love', 'fangirls', 'fan', '@imrealasim', '@biggboss']\n",
      "\n",
      "\n",
      "City :  Mumbai\n",
      "State :  Maharashtra\n",
      "Country :  India\n",
      "Zip Code :  400065\n",
      "Event : #meraadarshsid\n",
      "Timeframe : from - 2020-02-04 08:30:32 to - 2020-02-04 22:59:16\n",
      "Most frequent Location is : Mumbai, India\n",
      "Most frequent words associated to the event: \n",
      "['#meraadarshsid', 'sid', 'shukla', '@sidharth', '@realvindusingh', 'tweets', 'today', 'tag', '@biggboss', 'activity', 'tagline', '@herdhush']\n",
      "\n",
      "\n",
      "No location specified\n",
      "Event : #iheartawards\n",
      "Timeframe : from - 2020-02-03 23:00:38 to - 2020-02-04 22:58:29\n",
      "Most frequent Location is : Mumbai, India\n",
      "Most frequent words associated to the event: \n",
      "['#iheartawards', '@bts', 'twt', 'vote', '#bestfanarmy', '#bestmusicvideo', '#bestlyrics', '#bestcoversong', '#btsarmy', 'sos', '@justinbieber', '#boywithluv']\n",
      "\n",
      "\n",
      "City :  \n",
      "State :  North Carolina\n",
      "Country :  United States\n",
      "Zip Code :  None\n",
      "Event : #bts\n",
      "Timeframe : from - 2020-02-03 23:00:02 to - 2020-02-04 22:59:54\n",
      "Most frequent Location is : Mumbai, India\n",
      "Most frequent words associated to the event: \n",
      "['#bts', '@bts', 'twt', '#btsarmy', 'bts', 'soul', 'outro', 'comeback', 'trailer', '#bestfanarmy', '#btsxzachsang', '@bighitent']\n",
      "\n",
      "\n",
      "City :  Mumbai\n",
      "State :  Maharashtra\n",
      "Country :  India\n",
      "Zip Code :  400065\n",
      "Event : #asimriaz\n",
      "Timeframe : from - 2020-02-03 23:01:13 to - 2020-02-04 22:59:07\n",
      "Most frequent Location is : Mumbai, India\n",
      "Most frequent words associated to the event: \n",
      "['#asimriaz', 'asim', '#mainbhiasimkigf', 'fans', 'amp', '#sidharthshukla', '#biggboss', '#bb', '#asimfandomhits', '#rashamidesai', 'love', '@biggboss']\n",
      "\n",
      "\n",
      "City :  \n",
      "State :  Kentucky\n",
      "Country :  United States\n",
      "Zip Code :  None\n",
      "Event : #thebachelor\n",
      "Timeframe : from - 2020-02-03 23:00:11 to - 2020-02-04 22:54:09\n",
      "Most frequent Location is : Mumbai, India\n",
      "Most frequent words associated to the event: \n",
      "['#thebachelor', 'peter', 'kelsey', 'kelley', 'tammy', 'mykenna', '#thebachelorabc', 'drama', 'bachelor', 'girls', 'season', 'rose']\n",
      "\n",
      "\n",
      "City :  \n",
      "State :  Ohio\n",
      "Country :  United States\n",
      "Zip Code :  45662\n",
      "Event : #iowacaucus\n",
      "Timeframe : from - 2020-02-03 23:00:11 to - 2020-02-04 22:59:52\n",
      "Most frequent Location is : Mumbai, India\n",
      "Most frequent words associated to the event: \n",
      "['#iowacaucuses', '#iowacaucus', 'iowa', '#iowacaucusdisaster', 'bernie', 'caucus', 'app', 'breaking', 'party', 'vote', 'democrats', 'dnc']\n",
      "\n",
      "\n",
      "City :  \n",
      "State :  Kogi\n",
      "Country :  Nigeria\n",
      "Zip Code :  None\n",
      "Event : #bb\n",
      "Timeframe : from - 2020-02-03 23:05:20 to - 2020-02-04 22:58:37\n",
      "Most frequent Location is : Mumbai, India\n",
      "Most frequent words associated to the event: \n",
      "['#bb', '#biggboss', '#bbb', 'shukla', '#sidharthshukla', 'prior', 'pyong', '@cleytu', 'tweet', 'appreciation', 'thnbpfwynp', 'jantando']\n",
      "\n",
      "\n",
      "No location specified\n",
      "Event : #sidharthshukla\n",
      "Timeframe : from - 2020-02-03 23:15:22 to - 2020-02-04 22:56:29\n",
      "Most frequent Location is : Mumbai, India\n",
      "Most frequent words associated to the event: \n",
      "['#sidharthshukla', 'amp', '#bb', 'shukla', '#biggboss', '@sidharth', '#asimriaz', 'sid', '#meraadarshsid', 'hai', '#rightchoicesid', '#shehnaazgill']\n",
      "\n",
      "\n",
      "No location specified\n",
      "Event : #treasure\n",
      "Timeframe : from - 2020-02-03 23:01:44 to - 2020-02-04 22:47:25\n",
      "Most frequent Location is : Mumbai, India\n",
      "Most frequent words associated to the event: \n",
      "['#treasure', 'editorial', 'treasure', 'week', 'maker', 'photography', 'official', '@ygent', '#vol', 'bang', 'dam', 'asahi']\n",
      "\n",
      "\n",
      "City :  \n",
      "State :  Missouri\n",
      "Country :  United States\n",
      "Zip Code :  None\n",
      "Event : #iacaucus\n",
      "Timeframe : from - 2020-02-03 23:04:16 to - 2020-02-04 22:59:04\n",
      "Most frequent Location is : Mumbai, India\n",
      "Most frequent words associated to the event: \n",
      "['#iacaucus', 'iowa', '#iowacaucuses', '@andrewgillum', '@gopchairwoman', 'wait', 'precincts', 'delays', 'hear', 'bad', 'winner', 'black']\n",
      "\n",
      "\n",
      "No location specified\n",
      "Event : #coronavirus\n",
      "Timeframe : from - 2020-02-03 23:00:03 to - 2020-02-04 22:59:29\n",
      "Most frequent Location is : Mumbai, India\n",
      "Most frequent words associated to the event: \n",
      "['#coronavirus', 'china', 'evil', '#coronavirusoutbreak', '#china', 'cases', 'chinese', '#coronaviruschina', 'confirmed', 'medical', 'hospital', 'patients']\n",
      "\n",
      "\n",
      "City :  \n",
      "State :  Telangana\n",
      "Country :  India\n",
      "Zip Code :  500089\n",
      "Event : #biggboss\n",
      "Timeframe : from - 2020-02-03 23:01:13 to - 2020-02-04 22:56:29\n",
      "Most frequent Location is : Mumbai, India\n",
      "Most frequent words associated to the event: \n",
      "['#biggboss', '#bb', '#sidharthshukla', 'asim', '@colorstv', 'amp', 'fans', 'riaz', 'boss', '#asimriaz', 'bigg', 'shukla']\n",
      "\n",
      "\n",
      "No location specified\n",
      "Event : #loveisland\n",
      "Timeframe : from - 2020-02-03 23:00:30 to - 2020-02-04 22:59:25\n",
      "Most frequent Location is : Mumbai, India\n",
      "Most frequent words associated to the event: \n",
      "['#loveisland', 'callum', 'shaughna', 'casa', 'mike', 'amor', 'ched', 'villa', 'girl', 'luke', 'boy', 'molly']\n",
      "\n",
      "\n",
      "No location specified\n",
      "Event : #superbowl\n",
      "Timeframe : from - 2020-02-03 22:59:55 to - 2020-02-04 22:52:53\n",
      "Most frequent Location is : Mumbai, India\n",
      "Most frequent words associated to the event: \n",
      "['#superbowl', 'trump', '#superbowlliv', 'anthem', 'national', 'halftime', 'mocking', '@shakira', 'stand', 'caught', 'gop', 'takes']\n",
      "\n",
      "\n",
      "City :  Sidi Ghanem سيدي غانم\n",
      "State :  \n",
      "Country :  Maroc / ⵍⵎⵖⵔⵉⴱ / المغرب\n",
      "Zip Code :  None\n",
      "Event : #worldcancerday\n",
      "Timeframe : from - 2020-02-03 23:29:10 to - 2020-02-04 22:58:40\n",
      "Most frequent Location is : Mumbai, India\n",
      "Most frequent words associated to the event: \n",
      "['#worldcancerday', 'cancer', 'today', 'disease', 'day', 'amp', 'people', '#cancer', 'awareness', 'support', 'terrible', 'battling']\n",
      "\n",
      "\n",
      "No location specified\n",
      "Event : #sotu\n",
      "Timeframe : from - 2020-02-03 23:08:18 to - 2020-02-04 22:59:43\n",
      "Most frequent Location is : Mumbai, India\n",
      "Most frequent words associated to the event: \n",
      "['#sotu', 'tomorrow', 'trump', 'president', 'tonight', 'attend', 'join', 'people', '@potus', '@flotus', 'capitol', 'inspiring']\n",
      "\n",
      "\n",
      "City :  Karnal\n",
      "State :  Haryana\n",
      "Country :  India\n",
      "Zip Code :  132001\n",
      "Event : #rightchoicesid\n",
      "Timeframe : from - 2020-02-03 23:00:39 to - 2020-02-04 21:47:09\n",
      "Most frequent Location is : Mumbai, India\n",
      "Most frequent words associated to the event: \n",
      "['#rightchoicesid', 'sid', 'shukla', '@sidharth', '@realvindusingh', '#sidharthshukla', 'guys', '#bb', 'trend', 'win', '@biggboss', '@colorstv']\n",
      "\n",
      "\n",
      "City :  \n",
      "State :  Kansas\n",
      "Country :  United States\n",
      "Zip Code :  None\n",
      "Event : #yikes\n",
      "Timeframe : from - 2020-02-04 03:15:25 to - 2020-02-04 22:57:35\n",
      "Most frequent Location is : Mumbai, India\n",
      "Most frequent words associated to the event: \n",
      "['#yikes', '@nickiminaj', '#yikesnm', 'likes', 'amp', 'play', 'life', '#it', 'tag', 'yzdifvf', 'nicki', 'rosa']\n",
      "\n",
      "\n",
      "No location specified\n",
      "Event : #happyjisungday\n",
      "Timeframe : from - 2020-02-04 03:27:07 to - 2020-02-04 22:59:53\n",
      "Most frequent Location is : Mumbai, India\n",
      "Most frequent words associated to the event: \n",
      "['#happyjisungday', 'birthday', 'happy', '@nctsmtown', '#nct', '#nctdream', '#jisung', 'slthg', 'jisung', 'park', 'baby', 'dream']\n",
      "\n",
      "\n",
      "City :  \n",
      "State :  Kentucky\n",
      "Country :  United States\n",
      "Zip Code :  41006\n",
      "Event : #iowa\n",
      "Timeframe : from - 2020-02-03 23:00:11 to - 2020-02-04 22:59:52\n",
      "Most frequent Location is : Mumbai, India\n",
      "Most frequent words associated to the event: \n",
      "['#iowacaucuses', '#iowacaucus', 'iowa', '#iowa', '#iowacaucusdisaster', 'bernie', 'caucus', '#iowacaucas', 'app', 'democrats', 'tonight', 'party']\n",
      "\n",
      "\n",
      "City :  \n",
      "State :  Wisconsin\n",
      "Country :  United States\n",
      "Zip Code :  54241\n",
      "Event : #btsarmy\n",
      "Timeframe : from - 2020-02-03 23:00:02 to - 2020-02-04 22:58:56\n",
      "Most frequent Location is : Mumbai, India\n",
      "Most frequent words associated to the event: \n",
      "['#btsarmy', '@bts', 'twt', '#bestfanarmy', '#iheartawards', 'message', 'bts', '@choi', 'album', 'era', '@btsvotingteam', 'army']\n",
      "\n",
      "\n",
      "No location specified\n",
      "Event : #nowplaying\n",
      "Timeframe : from - 2020-02-03 23:00:17 to - 2020-02-04 22:56:54\n",
      "Most frequent Location is : Mumbai, India\n",
      "Most frequent words associated to the event: \n",
      "['#nowplaying', 'listen', 'radio', 'live', 'amp', 'tune', 'love', 'feat', '#listenlive', 'music', 'mix', '#radio']\n",
      "\n",
      "\n",
      "No location specified\n",
      "Event : #nct\n",
      "Timeframe : from - 2020-02-03 23:09:25 to - 2020-02-04 22:59:53\n",
      "Most frequent Location is : Mumbai, India\n",
      "Most frequent words associated to the event: \n",
      "['#nct', '#nctdream', '#happyjisungday', '#jisung', 'birthday', 'happy', '@nctsmtown', 'slthg', '#superm', 'dream', '#taeyong', 'icn']\n",
      "\n",
      "\n",
      "No location specified\n",
      "Event : #rashamidesai\n",
      "Timeframe : from - 2020-02-03 23:03:45 to - 2020-02-04 22:58:18\n",
      "Most frequent Location is : Mumbai, India\n",
      "Most frequent words associated to the event: \n",
      "['#rashamidesai', '#asimriaz', 'amp', '#sidharthshukla', '#invinciblerashamidesai', 'khabri', '@biggboss', '@real', '#bb', 'breaking', '@therashamidesai', 'elite']\n",
      "\n",
      "\n",
      "City :  \n",
      "State :  Missouri\n",
      "Country :  United States\n",
      "Zip Code :  None\n",
      "Event : #raw\n",
      "Timeframe : from - 2020-02-03 23:07:33 to - 2020-02-04 22:56:17\n",
      "Most frequent Location is : Mumbai, India\n",
      "Most frequent words associated to the event: \n",
      "['#raw', '@wwe', 'wwe', '@wweuniverse', '#wwe', '@wweasuka', '@rubyriottwwe', '@randyorton', 'tonight', 'rematch', '@angelgarzawwe', 'challenge']\n",
      "\n",
      "\n",
      "City :  \n",
      "State :  North Carolina\n",
      "Country :  United States\n",
      "Zip Code :  27239:27292\n",
      "Event : #superm\n",
      "Timeframe : from - 2020-02-03 23:01:58 to - 2020-02-04 22:58:32\n",
      "Most frequent Location is : Mumbai, India\n",
      "Most frequent words associated to the event: \n",
      "['#superm', 'live', '@superm', 'superm', 'san', 'jose', 'future', '#superminsanjose', '#superminsj', '#wearethefuture', '#supermthefuture', '#ten']\n",
      "\n",
      "\n",
      "No location specified\n",
      "Event : #sb\n",
      "Timeframe : from - 2020-02-03 23:01:37 to - 2020-02-04 22:58:54\n",
      "Most frequent Location is : Mumbai, India\n",
      "Most frequent words associated to the event: \n",
      "['#sb', '@sb', 'official', 'billboardmainstay', '#wishbustuessb', '#sbliv', '#morhot', '@mor', 'alab', 'onawesamsungcon', '@nfl', '@jlo']\n",
      "\n",
      "\n",
      "City :  \n",
      "State :  Tennessee\n",
      "Country :  United States\n",
      "Zip Code :  38482\n",
      "Event : #iowacaucusdisaster\n",
      "Timeframe : from - 2020-02-04 04:46:17 to - 2020-02-04 22:59:52\n",
      "Most frequent Location is : Mumbai, India\n",
      "Most frequent words associated to the event: \n",
      "['#iowacaucusdisaster', 'party', 'democrats', 'iowa', 'cnn', 'dnc', 'crying', 'died', 'betrayed', 'terrence', 'caucus', '@carpedonktum']\n",
      "\n",
      "\n",
      "No location specified\n",
      "Event : #arsd\n",
      "Timeframe : from - 2020-02-03 23:01:05 to - 2020-02-04 22:54:08\n",
      "Most frequent Location is : Mumbai, India\n",
      "Most frequent words associated to the event: \n",
      "['#arsd', '#armyselcaday', '@bts', 'twt', 'drop', '#armyseicaday', 'hype', 'arsd', '#bts', 'love', '#btsarmy', '@drwnk']\n",
      "\n",
      "\n",
      "City :  \n",
      "State :  Colorado\n",
      "Country :  United States\n",
      "Zip Code :  None\n",
      "Event : #yanggang\n",
      "Timeframe : from - 2020-02-03 23:01:02 to - 2020-02-04 22:58:14\n",
      "Most frequent Location is : Mumbai, India\n",
      "Most frequent words associated to the event: \n",
      "['#yanggang', '@andrewyang', '#caucusforyang', 'precinct', 'iowa', 'yang', 'amp', '#iowacaucuses', 'delegates', 'caucus', 'delegate', '@indiana']\n",
      "\n",
      "\n",
      "City :  Manchester\n",
      "State :  England\n",
      "Country :  United Kingdom\n",
      "Zip Code :  M14 4DL\n",
      "Event : #giveaway\n",
      "Timeframe : from - 2020-02-03 23:00:24 to - 2020-02-04 22:54:04\n",
      "Most frequent Location is : Mumbai, India\n",
      "Most frequent words associated to the event: \n",
      "['#giveaway', 'follow', '@originalfunko', 'amp', 'win', 'chance', 'retweet', 'pop', '#funko', '#funkopop', 'enter', 'giveaway']\n",
      "\n",
      "\n",
      "City :  \n",
      "State :  North Carolina\n",
      "Country :  United States\n",
      "Zip Code :  None\n",
      "Event : #trump\n",
      "Timeframe : from - 2020-02-03 23:00:03 to - 2020-02-04 22:58:58\n",
      "Most frequent Location is : Mumbai, India\n",
      "Most frequent words associated to the event: \n",
      "['#trump', '#trumpsguilty', 'trump', '#kag', '@realdonaldtrump', '#maga', '@funder', 'landslide', '#trumpisanidiot', '#iowacaucus', '@joncoopertweets', 'hand']\n",
      "\n",
      "\n",
      "No location specified\n",
      "Event : #shehnaazgill\n",
      "Timeframe : from - 2020-02-03 23:02:57 to - 2020-02-04 22:55:40\n",
      "Most frequent Location is : Mumbai, India\n",
      "Most frequent words associated to the event: \n",
      "['#shehnaazgill', '#sidharthshukla', '#sidnaaz', '@colorstv', '#deshkiawaazshehnaaz', '@beingsalmankhan', 'shukla', 'india', 'hai', '@vivo', 'vote', '#bb']\n",
      "\n",
      "\n"
     ]
    }
   ],
   "source": [
    "for ht in mfht:\n",
    "    event_words = exp_words_f.filter( f.col('text').contains(ht))\n",
    "    event_texts = clean_texts.filter( f.col('text').contains(ht))\n",
    "\n",
    "    ## Ex.5: Get the most frequent words for each event:\n",
    "    most_freq_w = event_words.groupBy('word') \\\n",
    "                             .count() \\\n",
    "                             .sort('count', ascending=False)\\\n",
    "                             .rdd\\\n",
    "                             .map(lambda x: x[0])\\\n",
    "                             .collect()[:12]    \n",
    "    \n",
    "    # Ex.6 : Finding timeframe of the Event\n",
    "    end   = event_texts.select(f.max(f.col('timestamp_ms'))).rdd.map(list).collect()[0][0]\n",
    "    start = event_texts.select(f.min(f.col('timestamp_ms'))).rdd.map(list).collect()[0][0]\n",
    "    \n",
    "    # Ex.7 : Finding location of the Event\n",
    "    coords = event_texts.na.drop(subset=[\"place\"]) \\\n",
    "                        .select(\"place.bounding_box.coordinates\") \\\n",
    "                        .rdd.map(list).collect()\n",
    "    \n",
    "    ## Gets the most common location from the tweets !\n",
    "    location_name = event_texts_na.groupBy('place.name', 'place.country') \\\n",
    "                                  .count()\\\n",
    "                                  .sort('count', ascending=False)\\\n",
    "                                  .rdd\\\n",
    "                                  .map(lambda x : x[0] + ', ' + x[1])\\\n",
    "                                  .collect()\n",
    "    \n",
    "\n",
    "    if(coords != []):\n",
    "        coords_mean = np.array(coords).squeeze().mean(axis = 0)\n",
    "        loc(coords_mean)\n",
    "    else: \n",
    "        print(\"No location specified\")\n",
    "    \n",
    "    if(most_freq_w == []):\n",
    "        most_freq_w = 'no words found...'\n",
    "    \n",
    "    if(location_name != []):\n",
    "        location_name = location_name[0]\n",
    "    else:\n",
    "        location_name = 'No Location specified'\n",
    "    \n",
    "\n",
    "    end = str( pd.to_datetime(end, unit='ms').to_pydatetime())\n",
    "    start = str(pd.to_datetime(start, unit='ms').to_pydatetime())\n",
    "    print(\"Event : \" + ht)\n",
    "    print(\"Timeframe : from - \" + start[:-7] + \" to - \" + end[:-7])\n",
    "    print(\"Most frequent Location is : \" + location_name)\n",
    "    print(\"Most frequent words associated to the event: \\n\" + str(most_freq_w) + '\\n\\n')"
   ]
  },
  {
   "cell_type": "code",
   "execution_count": 25,
   "metadata": {
    "scrolled": true
   },
   "outputs": [
    {
     "name": "stdout",
     "output_type": "stream",
     "text": [
      "Method 1\n",
      "time spent computing: 6.778\n",
      "Method 2\n",
      "time spent computing: 6.634\n",
      "Method 3\n",
      "time spent computing: 6.558\n",
      "Method 4\n",
      "time spent computing: 0.009586\n"
     ]
    }
   ],
   "source": [
    "# Method 1: Use describe()\n",
    "t1 = time.time()\n",
    "float(event_words.describe(\"timestamp_ms\").filter(\"summary = 'max'\").select(\"timestamp_ms\").collect()[0].asDict()['timestamp_ms'])\n",
    "\n",
    "t2 = time.time()\n",
    "print(\"Method 1\")\n",
    "print(\"time spent computing: {:.4g}\".format(t2-t1))\n",
    "\n",
    "# Method 2: Use SQL\n",
    "t1 = time.time()\n",
    "\n",
    "event_words.registerTempTable(\"df_table\")\n",
    "spark.sql(\"SELECT MAX(timestamp_ms) as maxval FROM df_table\").collect()[0].asDict()['maxval']\n",
    "\n",
    "t2 = time.time()\n",
    "print(\"Method 2\")\n",
    "print(\"time spent computing: {:.4g}\".format(t2-t1))\n",
    "\n",
    "# Method 3: Convert to RDD\n",
    "t1 = time.time()\n",
    "\n",
    "event_words.select(\"timestamp_ms\").rdd.max()[0]\n",
    "\n",
    "t2 = time.time()\n",
    "print(\"Method 3\")\n",
    "print(\"time spent computing: {:.4g}\".format(t2-t1))\n",
    "\n",
    "\n",
    "# Method 4: select\n",
    "t1 = time.time()\n",
    "\n",
    "event_words.select(f.max(f.col('timestamp_ms')))\n",
    "\n",
    "t2 = time.time()\n",
    "print(\"Method 4\")\n",
    "print(\"time spent computing: {:.4g}\".format(t2-t1))"
   ]
  },
  {
   "cell_type": "markdown",
   "metadata": {},
   "source": [
    "## Question 8:\n",
    "\n",
    "Use NLP package from [nltk](https://www.nltk.org/api/nltk.sentiment.html)."
   ]
  },
  {
   "cell_type": "code",
   "execution_count": 54,
   "metadata": {},
   "outputs": [
    {
     "name": "stderr",
     "output_type": "stream",
     "text": [
      "[nltk_data] Downloading package vader_lexicon to\n",
      "[nltk_data]     /users/eleves-a/2018/jean-charles.layoun/nltk_data...\n",
      "[nltk_data]   Package vader_lexicon is already up-to-date!\n"
     ]
    }
   ],
   "source": [
    "import nltk\n",
    "nltk.download('vader_lexicon')\n",
    "from nltk.sentiment.vader import SentimentIntensityAnalyzer\n",
    "sid = SentimentIntensityAnalyzer()\n",
    "#sid.polarity_scores(sentence)"
   ]
  },
  {
   "cell_type": "markdown",
   "metadata": {},
   "source": [
    "#### Sentiment analysis most frequent hashtags:\n",
    "\n",
    "Following the **map reduce** paradigm to compute the sentiment associated with each event."
   ]
  },
  {
   "cell_type": "markdown",
   "metadata": {},
   "source": [
    "###### Map by hashtags:"
   ]
  },
  {
   "cell_type": "code",
   "execution_count": 55,
   "metadata": {},
   "outputs": [],
   "source": [
    "sentiments_rdd = hashtags.select('filtered', 'hashtag')\\\n",
    "                         .filter(f.col('hashtag').isin(mfht))\\\n",
    "                         .rdd.map(lambda x: (x[1], sid.polarity_scores(' '.join(x[0]))))\n",
    "\n",
    "## Because we want to reduce and aggregate with respect to each event(hashtag), we choose hashtag to be our key:\n",
    "# sentiments_rdd has (key=hashtag, value=sentiment)\n",
    "t1 = time.time()\n",
    "sentiments_rdd.collect()\n",
    "t2 = time.time()\n",
    "time1 = t2-t1"
   ]
  },
  {
   "cell_type": "code",
   "execution_count": 56,
   "metadata": {},
   "outputs": [
    {
     "data": {
      "text/plain": [
       "[('#superbowl', {'neg': 0.0, 'neu': 1.0, 'pos': 0.0, 'compound': 0.0}),\n",
       " ('#btsarmy', {'neg': 0.0, 'neu': 1.0, 'pos': 0.0, 'compound': 0.0}),\n",
       " ('#coronavirus', {'neg': 0.0, 'neu': 0.66, 'pos': 0.34, 'compound': 0.5574}),\n",
       " ('#coronavirus', {'neg': 0.0, 'neu': 1.0, 'pos': 0.0, 'compound': 0.0}),\n",
       " ('#thebachelor', {'neg': 0.0, 'neu': 1.0, 'pos': 0.0, 'compound': 0.0}),\n",
       " ('#iowacaucuses', {'neg': 0.0, 'neu': 1.0, 'pos': 0.0, 'compound': 0.0}),\n",
       " ('#bts', {'neg': 0.0, 'neu': 1.0, 'pos': 0.0, 'compound': 0.0}),\n",
       " ('#nowplaying', {'neg': 0.0, 'neu': 0.811, 'pos': 0.189, 'compound': 0.2732}),\n",
       " ('#bts', {'neg': 0.0, 'neu': 1.0, 'pos': 0.0, 'compound': 0.0}),\n",
       " ('#giveaway', {'neg': 0.0, 'neu': 0.743, 'pos': 0.257, 'compound': 0.5859})]"
      ]
     },
     "execution_count": 56,
     "metadata": {},
     "output_type": "execute_result"
    }
   ],
   "source": [
    "sentiments_rdd.take(10)"
   ]
  },
  {
   "cell_type": "markdown",
   "metadata": {},
   "source": [
    "###### Reduce on Hashtags:"
   ]
  },
  {
   "cell_type": "code",
   "execution_count": 57,
   "metadata": {},
   "outputs": [],
   "source": [
    "def aggregate_sentiments(x, y):\n",
    "    dict1 = x\n",
    "    dict2 = y    \n",
    "    \n",
    "    for key in dict1.keys():\n",
    "        dict1[key] += dict2[key]\n",
    "        \n",
    "    return dict1\n",
    "    \n",
    "\n",
    "aggreg = sentiments_rdd.reduceByKey(lambda x, y: aggregate_sentiments(x, y))"
   ]
  },
  {
   "cell_type": "code",
   "execution_count": 58,
   "metadata": {},
   "outputs": [
    {
     "data": {
      "text/plain": [
       "[('#treasure',\n",
       "  {'neg': 4.951999999999999,\n",
       "   'neu': 1030.175000000003,\n",
       "   'pos': 196.87100000000038,\n",
       "   'compound': 349.67990000000117}),\n",
       " ('#arsd',\n",
       "  {'neg': 35.58,\n",
       "   'neu': 451.28099999999995,\n",
       "   'pos': 50.13499999999999,\n",
       "   'compound': 35.2231}),\n",
       " ('#iowa',\n",
       "  {'neg': 73.184,\n",
       "   'neu': 521.3799999999999,\n",
       "   'pos': 101.45099999999998,\n",
       "   'compound': 55.191799999999986}),\n",
       " ('#biggboss',\n",
       "  {'neg': 61.392999999999994,\n",
       "   'neu': 872.8369999999999,\n",
       "   'pos': 221.77900000000002,\n",
       "   'compound': 289.0983999999999}),\n",
       " ('#thebachelor',\n",
       "  {'neg': 133.68300000000002,\n",
       "   'neu': 1076.398,\n",
       "   'pos': 147.925,\n",
       "   'compound': 23.1815})]"
      ]
     },
     "execution_count": 58,
     "metadata": {},
     "output_type": "execute_result"
    }
   ],
   "source": [
    "\n",
    "t1 = time.time()\n",
    "event_sentiments_l = aggreg.collect()\n",
    "t2 = time.time()\n",
    "time2 = t2-t1\n",
    "\n",
    "event_sentiments_l[:5]"
   ]
  },
  {
   "cell_type": "code",
   "execution_count": 59,
   "metadata": {},
   "outputs": [],
   "source": [
    "def normalize_sentiment(x):\n",
    "    dict1    = x\n",
    "    sum_prob = dict1['neg'] + dict1['neu'] + dict1['pos']\n",
    "    \n",
    "    for key in dict1.keys():\n",
    "        dict1[key] /= sum_prob\n",
    "    return dict1\n",
    "\n",
    "\n",
    "aggreg_normalized = aggreg.map(lambda x: (x[0], normalize_sentiment(x[1])))"
   ]
  },
  {
   "cell_type": "code",
   "execution_count": 60,
   "metadata": {},
   "outputs": [],
   "source": [
    "t1 = time.time()\n",
    "event_sentiments_ln = aggreg_normalized.collect()\n",
    "t2 = time.time()\n",
    "time3 = t2-t1"
   ]
  },
  {
   "cell_type": "code",
   "execution_count": 61,
   "metadata": {},
   "outputs": [
    {
     "data": {
      "text/plain": [
       "[('#treasure',\n",
       "  {'neg': 0.0040194870446218145,\n",
       "   'neu': 0.8361823639324092,\n",
       "   'pos': 0.15979814902296907,\n",
       "   'compound': 0.2838315484278386}),\n",
       " ('#arsd',\n",
       "  {'neg': 0.06625747677822555,\n",
       "   'neu': 0.8403805614939405,\n",
       "   'pos': 0.0933619617278341,\n",
       "   'compound': 0.06559285357805274}),\n",
       " ('#iowa',\n",
       "  {'neg': 0.1051471591847877,\n",
       "   'neu': 0.7490930511555067,\n",
       "   'pos': 0.1457597896597056,\n",
       "   'compound': 0.07929685423446334}),\n",
       " ('#biggboss',\n",
       "  {'neg': 0.05310771801949638,\n",
       "   'neu': 0.7550434295926761,\n",
       "   'pos': 0.19184885238782745,\n",
       "   'compound': 0.2500831740929352}),\n",
       " ('#thebachelor',\n",
       "  {'neg': 0.09844065490137749,\n",
       "   'neu': 0.792631254942909,\n",
       "   'pos': 0.10892809015571361,\n",
       "   'compound': 0.0170702485850578}),\n",
       " ('#asimriaz',\n",
       "  {'neg': 0.06977859288060737,\n",
       "   'neu': 0.7629025185663331,\n",
       "   'pos': 0.16731888855305946,\n",
       "   'compound': 0.15989261982882397}),\n",
       " ('#curecancer',\n",
       "  {'neg': 0.2291470615972054,\n",
       "   'neu': 0.5569524341721126,\n",
       "   'pos': 0.213900504230682,\n",
       "   'compound': -0.09943524859395293}),\n",
       " ('#rashamidesai',\n",
       "  {'neg': 0.06565979381443297,\n",
       "   'neu': 0.7649621993127148,\n",
       "   'pos': 0.16937800687285218,\n",
       "   'compound': 0.17399931271477664})]"
      ]
     },
     "execution_count": 61,
     "metadata": {},
     "output_type": "execute_result"
    }
   ],
   "source": [
    "event_sentiments_ln[:8]"
   ]
  },
  {
   "cell_type": "code",
   "execution_count": 62,
   "metadata": {},
   "outputs": [
    {
     "name": "stdout",
     "output_type": "stream",
     "text": [
      "time spent computing the sentiments, aggregating and normalizing: 39.36s\n"
     ]
    }
   ],
   "source": [
    "print(\"time spent computing the sentiments, aggregating and normalizing: {:.4g}s\".format(time1 + time2 + time3))"
   ]
  },
  {
   "cell_type": "markdown",
   "metadata": {},
   "source": [
    "#### Computing average sentiment on all tweets:"
   ]
  },
  {
   "cell_type": "code",
   "execution_count": 63,
   "metadata": {},
   "outputs": [],
   "source": [
    "sentences_rdd  = words_f.select('filtered').rdd.map(lambda x: ' '.join(x[0]))"
   ]
  },
  {
   "cell_type": "code",
   "execution_count": 70,
   "metadata": {},
   "outputs": [],
   "source": [
    "num_sentences = len(sentences)"
   ]
  },
  {
   "cell_type": "code",
   "execution_count": 64,
   "metadata": {},
   "outputs": [],
   "source": [
    "t1 = time.time()\n",
    "sentences = sentences_rdd.collect()\n",
    "t2 = time.time()\n",
    "time4 = t2-t1"
   ]
  },
  {
   "cell_type": "code",
   "execution_count": 71,
   "metadata": {},
   "outputs": [],
   "source": [
    "t1 = time.time()\n",
    "overall_sent = {'neg': 0, 'neu': 0.0, 'pos': 0.0, 'compound': 0.0}\n",
    "for sentence in sentences:\n",
    "    sentiment = sid.polarity_scores(sentence)    \n",
    "    for key in overall_sent.keys():\n",
    "        overall_sent[key] += sentiment[key]\n",
    "        \n",
    "    \n",
    "for key in overall_sent.keys():\n",
    "        overall_sent[key] /= num_sentences\n",
    "overall_sent\n",
    "t2 = time.time()\n",
    "time5 = t2-t1"
   ]
  },
  {
   "cell_type": "code",
   "execution_count": 72,
   "metadata": {},
   "outputs": [
    {
     "name": "stdout",
     "output_type": "stream",
     "text": [
      "time spent computing the sentiments not using an rdd: 82.31s\n"
     ]
    }
   ],
   "source": [
    "print(\"time spent computing the sentiments not using an rdd: {:.4g}s\".format(time4 + time5))"
   ]
  },
  {
   "cell_type": "markdown",
   "metadata": {},
   "source": [
    "##### Conclusion:\n",
    "We can clearly see that using an rdd and utilizing the map reduce scheme gives us faster performance! Also, the naive algorithm above doesn't even group by hashtags..."
   ]
  }
 ],
 "metadata": {
  "kernelspec": {
   "display_name": "Python 3",
   "language": "python",
   "name": "python3"
  },
  "language_info": {
   "codemirror_mode": {
    "name": "ipython",
    "version": 3
   },
   "file_extension": ".py",
   "mimetype": "text/x-python",
   "name": "python",
   "nbconvert_exporter": "python",
   "pygments_lexer": "ipython3",
   "version": "3.9.1-final"
  }
 },
 "nbformat": 4,
 "nbformat_minor": 4
}